{
 "cells": [
  {
   "cell_type": "code",
   "execution_count": 7,
   "id": "d0df5e92-ba24-45dd-b959-53af089e2fdc",
   "metadata": {},
   "outputs": [
    {
     "name": "stdout",
     "output_type": "stream",
     "text": [
      "\n",
      "1)Artificial intelligence:It  is the simulation of human intelligence processes by machines, especially computer systems\n",
      "  Examples: Google Maps and Ride-Hailing Applications.\n",
      "            Face Detection and recognition.\n",
      "            Text Editors and Autocorrect.\n",
      "            Chatbots.\n",
      "\n",
      "2)Machine learning (ML) is a type of artificial intelligence (AI) that allows software applications to become more accurate at predicting outcomes without being explicitly programmed to do so. Machine learning algorithms use historical data as input to predict new output values.1\n",
      "  Examples: Speech & Image Recognition.\n",
      "            Google Translation\n",
      "            Auto-Friend Tagging Suggestion\n",
      "\n",
      "3)Deep Learning(DL): Deep learning is a subset of machine learning, which is essentially a neural network with three or more layers. These neural networks attempt to simulate the behavior of the human brain—albeit far from matching its ability—allowing it to “learn” from large amounts of data.\n",
      "  Examples: Virtual assistants\n",
      "            Image colorization\n",
      "            Facial recognition\n",
      "\n"
     ]
    }
   ],
   "source": [
    "# Ans1\n",
    "print('''\n",
    "1)Artificial intelligence:It  is the simulation of human intelligence processes by machines, especially computer systems\n",
    "  Examples: Google Maps and Ride-Hailing Applications.\n",
    "            Face Detection and recognition.\n",
    "            Text Editors and Autocorrect.\n",
    "            Chatbots.\n",
    "\n",
    "2)Machine learning (ML) is a type of artificial intelligence (AI) that allows software applications to become more accurate at predicting outcomes without being explicitly programmed to do so. Machine learning algorithms use historical data as input to predict new output values.1\n",
    "  Examples: Speech & Image Recognition.\n",
    "            Google Translation\n",
    "            Auto-Friend Tagging Suggestion\n",
    "\n",
    "3)Deep Learning(DL): Deep learning is a subset of machine learning, which is essentially a neural network with three or more layers. These neural networks attempt to simulate the behavior of the human brain—albeit far from matching its ability—allowing it to “learn” from large amounts of data.\n",
    "  Examples: Virtual assistants\n",
    "            Image colorization\n",
    "            Facial recognition\n",
    "''')"
   ]
  },
  {
   "cell_type": "code",
   "execution_count": 2,
   "id": "5fdb8642-6fcb-4613-afa8-8857a8674cbe",
   "metadata": {},
   "outputs": [
    {
     "name": "stdout",
     "output_type": "stream",
     "text": [
      "\n",
      "Supervised Learning: Supervised learning is the machine learning task of learning a function that maps an input to an output based on example input-output pairs\n",
      "\n",
      "Example: One practical example of supervised learning problems is predicting house prices. How is this achieved? First, we need data about the houses: square footage, number of rooms, features, whether a house has a garden or not, and so on. We then need to know the prices of these houses, i.e. the corresponding labels.\n",
      "\n"
     ]
    }
   ],
   "source": [
    "# Asn2\n",
    "print('''\n",
    "Supervised Learning: Supervised learning is the machine learning task of learning a function that maps an input to an output based on example input-output pairs\n",
    "\n",
    "Example: One practical example of supervised learning problems is predicting house prices. How is this achieved? First, we need data about the houses: square footage, number of rooms, features, whether a house has a garden or not, and so on. We then need to know the prices of these houses, i.e. the corresponding labels.\n",
    "''')"
   ]
  },
  {
   "cell_type": "code",
   "execution_count": 4,
   "id": "105c46ce-11b5-4547-8e1d-a7f8b58960ae",
   "metadata": {},
   "outputs": [
    {
     "name": "stdout",
     "output_type": "stream",
     "text": [
      "\n",
      "Unsupervised Learning: Unsupervised learning is a type of algorithm that learns patterns from untagged data. The goal is that through mimicry, which is an important mode of learning in people, the machine is forced to build a concise representation of its world and then generate imaginative content from it.\n",
      "\n",
      "\n",
      "Example: An example of unsupervised machine learning would be a case where a supermarket wants to increase its revenue. It decides to implement a machine learning algorithm on its sold products' data. It was observed that the customers who bought cereals more often tend to buy milk or those who buy eggs tend to buy bacon\n",
      "\n"
     ]
    }
   ],
   "source": [
    "# Ans3\n",
    "print('''\n",
    "Unsupervised Learning: Unsupervised learning is a type of algorithm that learns patterns from untagged data. The goal is that through mimicry, which is an important mode of learning in people, the machine is forced to build a concise representation of its world and then generate imaginative content from it.\n",
    "\n",
    "\n",
    "Example: An example of unsupervised machine learning would be a case where a supermarket wants to increase its revenue. It decides to implement a machine learning algorithm on its sold products' data. It was observed that the customers who bought cereals more often tend to buy milk or those who buy eggs tend to buy bacon\n",
    "''')"
   ]
  },
  {
   "cell_type": "code",
   "execution_count": 5,
   "id": "f3681666-5bd1-4755-80c5-8e05aae79f54",
   "metadata": {},
   "outputs": [
    {
     "name": "stdout",
     "output_type": "stream",
     "text": [
      "\n",
      "The Relationship Between AI, ML and DL\n",
      "Machine Learning is a sub-category of AI, and Deep Learning is a sub-category of ML, meaning they are both forms of AI. Artificial intelligence is the broad idea that machines can intelligently execute tasks by mimicking human behaviours and thought processes.\n",
      "\n",
      "\n"
     ]
    }
   ],
   "source": [
    "# Asn4\n",
    "print('''\n",
    "The Relationship Between AI, ML and DL\n",
    "Machine Learning is a sub-category of AI, and Deep Learning is a sub-category of ML, meaning they are both forms of AI. Artificial intelligence is the broad idea that machines can intelligently execute tasks by mimicking human behaviours and thought processes.\n",
    "\n",
    "''')"
   ]
  },
  {
   "cell_type": "code",
   "execution_count": 8,
   "id": "017f7d23-e4b0-4682-82d8-7030b4d68d44",
   "metadata": {},
   "outputs": [
    {
     "name": "stdout",
     "output_type": "stream",
     "text": [
      "\n",
      "Supervised Learning: It is a category in which we feed labeled data as input to the machine learning model.\n",
      "\n",
      "Use Cases of Supervised Learning are:\n",
      "  Object Detection and image Classifcation\n",
      "  Recommendation Systems\n",
      "  Time series Prediction\n",
      "\n",
      "Unsupervised Learning: It is a category of ML in which we only have the inpur data to feed to the model but no corresponding output data.\n",
      "\n",
      "Use Cases of Supervised Learning are:\n",
      "  Market Segmentation \n",
      "  Fraud Detection\n",
      "  Image Segmentation\n",
      "  \n",
      "Semi Supervised Learning: It is a category of ML in which we have input data, and only some input data are labeled. In other words, we can say the data is partially annotated.\n",
      "\n",
      "Use Cases of Supervised Learning are:\n",
      "   In such type of learning, one can use either supervised learning or unsupervised learning\n",
      "\n"
     ]
    }
   ],
   "source": [
    "# Asn5\n",
    "print('''\n",
    "Supervised Learning: It is a category in which we feed labeled data as input to the machine learning model.\n",
    "\n",
    "Use Cases of Supervised Learning are:\n",
    "  Object Detection and image Classifcation\n",
    "  Recommendation Systems\n",
    "  Time series Prediction\n",
    "\n",
    "Unsupervised Learning: It is a category of ML in which we only have the inpur data to feed to the model but no corresponding output data.\n",
    "\n",
    "Use Cases of Supervised Learning are:\n",
    "  Market Segmentation \n",
    "  Fraud Detection\n",
    "  Image Segmentation\n",
    "  \n",
    "Semi Supervised Learning: It is a category of ML in which we have input data, and only some input data are labeled. In other words, we can say the data is partially annotated.\n",
    "\n",
    "Use Cases of Supervised Learning are:\n",
    "   In such type of learning, one can use either supervised learning or unsupervised learning\n",
    "''')"
   ]
  },
  {
   "cell_type": "code",
   "execution_count": 9,
   "id": "369b5c13-d018-4942-b081-4fdfd3a6c112",
   "metadata": {},
   "outputs": [
    {
     "name": "stdout",
     "output_type": "stream",
     "text": [
      "\n",
      "Training data is the set of the data on which the actual training takes place. Validation split helps to improve the model performance by fine-tuning the model after each epoch. The test set informs us about the final accuracy of the model after completing the training phase.\n",
      "\n"
     ]
    }
   ],
   "source": [
    "# Ans6\n",
    "print('''\n",
    "Training data is the set of the data on which the actual training takes place. Validation split helps to improve the model performance by fine-tuning the model after each epoch. The test set informs us about the final accuracy of the model after completing the training phase.\n",
    "''')"
   ]
  },
  {
   "cell_type": "code",
   "execution_count": 11,
   "id": "f94aaf1e-a540-460f-9832-cab9ddc40987",
   "metadata": {},
   "outputs": [
    {
     "name": "stdout",
     "output_type": "stream",
     "text": [
      "\n",
      "Anomaly is a synonym for the word ‘outlier’. Anomaly detection (or outlier detection) is the identification of rare items, events or observations which raise suspicions by differing significantly from the majority of the data. Anomalous activities can be linked to some kind of problems or rare events such as bank fraud, medical problems, structural defects, malfunctioning equipment etc.\n",
      "\n",
      "Since SarS-CoV-2 is an entirely new anomaly that has never been seen before, even a supervised learning procedure to detect this as an anomaly would have failed since a supervised learning model just learns patterns from the features and labels in the given dataset whereas by providing normal data of pre-existing diseases to an unsupervised learning algorithm, we could have detected this virus as an anomaly with high probability since it would not have fallen into the category (cluster) of normal diseases. \n",
      "\n",
      "\n"
     ]
    }
   ],
   "source": [
    "# Ans7\n",
    "print('''\n",
    "Anomaly is a synonym for the word ‘outlier’. Anomaly detection (or outlier detection) is the identification of rare items, events or observations which raise suspicions by differing significantly from the majority of the data. Anomalous activities can be linked to some kind of problems or rare events such as bank fraud, medical problems, structural defects, malfunctioning equipment etc.\n",
    "\n",
    "Since SarS-CoV-2 is an entirely new anomaly that has never been seen before, even a supervised learning procedure to detect this as an anomaly would have failed since a supervised learning model just learns patterns from the features and labels in the given dataset whereas by providing normal data of pre-existing diseases to an unsupervised learning algorithm, we could have detected this virus as an anomaly with high probability since it would not have fallen into the category (cluster) of normal diseases. \n",
    "\n",
    "''')"
   ]
  },
  {
   "cell_type": "code",
   "execution_count": 12,
   "id": "cb5cb09a-9fb2-4c39-ac4f-948f78512acb",
   "metadata": {},
   "outputs": [
    {
     "name": "stdout",
     "output_type": "stream",
     "text": [
      "\n",
      "\n",
      "Some of the most common algorithms in Supervised Learning include Support Vector Machines (SVM), Logistic Regression, Naive Bayes, Neural Networks, K-nearest neighbor (KNN), and Random Forest.\n",
      "\n",
      "Below is the list of some popular unsupervised learning algorithms:\n",
      "K-means clustering.\n",
      "KNN (k-nearest neighbors)\n",
      "Hierarchal clustering.\n",
      "Anomaly detection.\n",
      "Neural Networks.\n",
      "Principle Component Analysis.\n",
      "Independent Component Analysis.\n",
      "Apriori algorithm.\n",
      "\n",
      "\n",
      "\n"
     ]
    }
   ],
   "source": [
    "# Ans8\n",
    "print('''\n",
    "\n",
    "Some of the most common algorithms in Supervised Learning include Support Vector Machines (SVM), Logistic Regression, Naive Bayes, Neural Networks, K-nearest neighbor (KNN), and Random Forest.\n",
    "\n",
    "Below is the list of some popular unsupervised learning algorithms:\n",
    "K-means clustering.\n",
    "KNN (k-nearest neighbors)\n",
    "Hierarchal clustering.\n",
    "Anomaly detection.\n",
    "Neural Networks.\n",
    "Principle Component Analysis.\n",
    "Independent Component Analysis.\n",
    "Apriori algorithm.\n",
    "\n",
    "\n",
    "''')"
   ]
  },
  {
   "cell_type": "code",
   "execution_count": null,
   "id": "fa6fca26-124e-4a5d-bcb4-0c0a60b1bf05",
   "metadata": {},
   "outputs": [],
   "source": []
  }
 ],
 "metadata": {
  "kernelspec": {
   "display_name": "Python 3 (ipykernel)",
   "language": "python",
   "name": "python3"
  },
  "language_info": {
   "codemirror_mode": {
    "name": "ipython",
    "version": 3
   },
   "file_extension": ".py",
   "mimetype": "text/x-python",
   "name": "python",
   "nbconvert_exporter": "python",
   "pygments_lexer": "ipython3",
   "version": "3.10.8"
  }
 },
 "nbformat": 4,
 "nbformat_minor": 5
}
