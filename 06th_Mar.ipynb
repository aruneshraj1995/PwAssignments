{
 "cells": [
  {
   "cell_type": "code",
   "execution_count": 2,
   "id": "fca3ba7d-1c0b-478d-b71b-069550d8d65b",
   "metadata": {},
   "outputs": [
    {
     "name": "stdout",
     "output_type": "stream",
     "text": [
      "Statistics is the science of collecting, organizing & analyzing Data\n"
     ]
    }
   ],
   "source": [
    "# Ans1\n",
    "print(\"Statistics is the science of collecting, organizing & analyzing Data\")"
   ]
  },
  {
   "cell_type": "code",
   "execution_count": 5,
   "id": "ee05f9bb-ff69-44ce-9074-4e48e401c2cc",
   "metadata": {},
   "outputs": [
    {
     "name": "stdout",
     "output_type": "stream",
     "text": [
      "Different Types of Statistics are:\n",
      "\n",
      "1) Descriptive Statistics:It consists of organising and summarizing the data.\n",
      "\n",
      "a) Measure of central Tendency (Mean, Median & Mode)\n",
      "b)Measure of Dispersion(Variance & Std Deviation)\n",
      "c)Different types of distribution of data(Histogram, PMF)\n",
      "\n",
      "\n",
      "2) Inferential Statistics:It consists of using data you have measured to form conclusion.\n",
      "It has two part: Sample data & population data\n",
      "\n",
      "Hypothesis Testing\n",
      "a)z-test\n",
      "b) t-test\n",
      "C)CHI Square test\n",
      "\n",
      "\n"
     ]
    }
   ],
   "source": [
    "# Ans2\n",
    "print('''Different Types of Statistics are:\n",
    "\n",
    "1) Descriptive Statistics:It consists of organising and summarizing the data.\n",
    "\n",
    "a) Measure of central Tendency (Mean, Median & Mode)\n",
    "b)Measure of Dispersion(Variance & Std Deviation)\n",
    "c)Different types of distribution of data(Histogram, PMF)\n",
    "\n",
    "\n",
    "2) Inferential Statistics:It consists of using data you have measured to form conclusion.\n",
    "It has two part: Sample data & population data\n",
    "\n",
    "Hypothesis Testing\n",
    "a)z-test\n",
    "b) t-test\n",
    "C)CHI Square test\n",
    "\n",
    "''')"
   ]
  },
  {
   "cell_type": "code",
   "execution_count": null,
   "id": "01566b46-a705-4c44-879a-23a4828be388",
   "metadata": {},
   "outputs": [],
   "source": []
  },
  {
   "cell_type": "code",
   "execution_count": 4,
   "id": "b84f1089-9470-4e91-9dd9-dee4a75bec3b",
   "metadata": {},
   "outputs": [
    {
     "name": "stdout",
     "output_type": "stream",
     "text": [
      "Different Types of Data are:\n",
      "1)Quantitative Data(Numerical Variable)->\n",
      "\n",
      "a) Discrete Data:  It's always a whole number and has limited value Ex: No of Bank A/\n",
      "b) Contineous Data: It's either Whole number or Decimal No. Ex: Weight, Height Etc\n",
      "\n",
      "2) Qualitative Data(Categorical Variable)->\n",
      "\n",
      "a)Nominal Data: categorical data which has no Rank. Ex: Blood Group, Pincode Etc\n",
      "b)Ordinal: Categorical data which has Rank. Ex: Customer feed back in terms of Good, better and best\n",
      "\n",
      "\n"
     ]
    }
   ],
   "source": [
    "# Ans3\n",
    "print('''Different Types of Data are:\n",
    "1)Quantitative Data(Numerical Variable)->\n",
    "\n",
    "a) Discrete Data:  It's always a whole number and has limited value Ex: No of Bank A/\n",
    "b) Contineous Data: It's either Whole number or Decimal No. Ex: Weight, Height Etc\n",
    "\n",
    "2) Qualitative Data(Categorical Variable)->\n",
    "\n",
    "a)Nominal Data: categorical data which has no Rank. Ex: Blood Group, Pincode Etc\n",
    "b)Ordinal: Categorical data which has Rank. Ex: Customer feed back in terms of Good, better and best\n",
    "\n",
    "''')"
   ]
  },
  {
   "cell_type": "code",
   "execution_count": 6,
   "id": "64a13745-9e52-4675-9a3e-6abc071ce748",
   "metadata": {},
   "outputs": [
    {
     "name": "stdout",
     "output_type": "stream",
     "text": [
      "\n",
      "i) Qualitative data\n",
      "ii) Qualitative data\n",
      "iii) Quantitive data\n",
      "iv)Quantitive data \n"
     ]
    }
   ],
   "source": [
    "# Ans4\n",
    "print('''\n",
    "i) Qualitative data\n",
    "ii) Qualitative data\n",
    "iii) Quantitive data\n",
    "iv)Quantitive data ''')"
   ]
  },
  {
   "cell_type": "code",
   "execution_count": 13,
   "id": "1d85da32-dd12-4fd2-a37c-c4007e43aa2b",
   "metadata": {},
   "outputs": [
    {
     "name": "stdout",
     "output_type": "stream",
     "text": [
      "\n",
      "\"Level of Measurement\"\n",
      "1)Nominal Scale Data:\n",
      "  a) Qualitative/Categorical Data-> Ex: Gender, Color etc. \n",
      "  Order doesn't matter in this type of data\n",
      "\n",
      "2)Ordinal Scale Data:\n",
      "  -> Ranking/order is imp\n",
      "  -> Diff can't be measured\n",
      "  \n",
      "  Ex: Reviews in terms of Good, Better, best, bad\n",
      "  \n",
      "3)Interval Scale Data:\n",
      "  -> Order is imp\n",
      "  -> Diff can be measured\n",
      "  -> Ratio Can't be measured\n",
      "  ->No True Zero starting point\n",
      "  \n",
      "  Ex: Measuring Temp. \n",
      "\n",
      "4)Ratio Scale Data:\n",
      "   -> Order is imp\n",
      "   -> Diff can be measured(Including Ratio)\n",
      "   -> It contains zero starting point\n",
      "   \n",
      "   Ex: Marks obtained by student in a class\n",
      "   \n",
      "\n",
      "\n"
     ]
    }
   ],
   "source": [
    "# Ans5\n",
    "print('''\n",
    "\"Level of Measurement\"\n",
    "1)Nominal Scale Data:\n",
    "  a) Qualitative/Categorical Data-> Ex: Gender, Color etc. \n",
    "  Order doesn't matter in this type of data\n",
    "\n",
    "2)Ordinal Scale Data:\n",
    "  -> Ranking/order is imp\n",
    "  -> Diff can't be measured\n",
    "  \n",
    "  Ex: Reviews in terms of Good, Better, best, bad\n",
    "  \n",
    "3)Interval Scale Data:\n",
    "  -> Order is imp\n",
    "  -> Diff can be measured\n",
    "  -> Ratio Can't be measured\n",
    "  ->No True Zero starting point\n",
    "  \n",
    "  Ex: Measuring Temp. \n",
    "\n",
    "4)Ratio Scale Data:\n",
    "   -> Order is imp\n",
    "   -> Diff can be measured(Including Ratio)\n",
    "   -> It contains zero starting point\n",
    "   \n",
    "   Ex: Marks obtained by student in a class\n",
    "   \n",
    "\n",
    "''')"
   ]
  },
  {
   "cell_type": "code",
   "execution_count": 1,
   "id": "379b3a9f-ceae-4f1c-a2ea-0780d2a2b093",
   "metadata": {},
   "outputs": [
    {
     "name": "stdout",
     "output_type": "stream",
     "text": [
      "To solve use case data, we need to use varity of data to analyse those data.\n",
      "\n",
      "\"Level of Measurement\"\n",
      "1)Nominal Scale Data:\n",
      "  a) Qualitative/Categorical Data-> Ex: Gender, Color etc. \n",
      "  Order doesn't matter in this type of data\n",
      "\n",
      "2)Ordinal Scale Data:\n",
      "  -> Ranking/order is imp\n",
      "  -> Diff can't be measured\n",
      "  \n",
      "  Ex: Reviews in terms of Good, Better, best, bad\n",
      "  \n",
      "3)Interval Scale Data:\n",
      "  -> Order is imp\n",
      "  -> Diff can be measured\n",
      "  -> Ratio Can't be measured\n",
      "  ->No True Zero starting point\n",
      "  \n",
      "  Ex: Measuring Temp. \n",
      "\n",
      "4)Ratio Scale Data:\n",
      "   -> Order is imp\n",
      "   -> Diff can be measured(Including Ratio)\n",
      "   -> It contains zero starting point\n",
      "   \n",
      "   Ex: Marks obtained by student in a class\n",
      "   \n",
      "\n",
      "\n"
     ]
    }
   ],
   "source": [
    "# Ans6\n",
    "print('''To solve use case data, we need to use varity of data to analyse those data.\n",
    "\n",
    "\"Level of Measurement\"\n",
    "1)Nominal Scale Data:\n",
    "  a) Qualitative/Categorical Data-> Ex: Gender, Color etc. \n",
    "  Order doesn't matter in this type of data\n",
    "\n",
    "2)Ordinal Scale Data:\n",
    "  -> Ranking/order is imp\n",
    "  -> Diff can't be measured\n",
    "  \n",
    "  Ex: Reviews in terms of Good, Better, best, bad\n",
    "  \n",
    "3)Interval Scale Data:\n",
    "  -> Order is imp\n",
    "  -> Diff can be measured\n",
    "  -> Ratio Can't be measured\n",
    "  ->No True Zero starting point\n",
    "  \n",
    "  Ex: Measuring Temp. \n",
    "\n",
    "4)Ratio Scale Data:\n",
    "   -> Order is imp\n",
    "   -> Diff can be measured(Including Ratio)\n",
    "   -> It contains zero starting point\n",
    "   \n",
    "   Ex: Marks obtained by student in a class\n",
    "   \n",
    "\n",
    "''')"
   ]
  },
  {
   "cell_type": "code",
   "execution_count": 3,
   "id": "12291d2e-3fcf-45cf-9c82-007676299580",
   "metadata": {},
   "outputs": [
    {
     "name": "stdout",
     "output_type": "stream",
     "text": [
      "Qualitative Data(Categorical Variable)->\n",
      "\n",
      "a)Nominal Data: categorical data which has no Rank. Ex: Blood Group, Pincode Etc\n",
      "b)Ordinal: Categorical data which has Rank. Ex: Customer feed back in terms of Good, better and best\n",
      "\n",
      "\n"
     ]
    }
   ],
   "source": [
    "# Ans7\n",
    "print('''Qualitative Data(Categorical Variable)->\n",
    "\n",
    "a)Nominal Data: categorical data which has no Rank. Ex: Blood Group, Pincode Etc\n",
    "b)Ordinal: Categorical data which has Rank. Ex: Customer feed back in terms of Good, better and best\n",
    "\n",
    "''')"
   ]
  },
  {
   "cell_type": "code",
   "execution_count": 5,
   "id": "c31e2164-17d4-45dd-ba32-0f620381087a",
   "metadata": {},
   "outputs": [
    {
     "name": "stdout",
     "output_type": "stream",
     "text": [
      "A histogram is another type of bar graph that illustrates the distribution of numeric data across categories.\n"
     ]
    }
   ],
   "source": [
    "# Ans8\n",
    "print('A histogram is another type of bar graph that illustrates the distribution of numeric data across categories.')"
   ]
  },
  {
   "cell_type": "code",
   "execution_count": 4,
   "id": "007c8ebe-cf9c-4490-ac23-c716d490cb97",
   "metadata": {},
   "outputs": [
    {
     "name": "stdout",
     "output_type": "stream",
     "text": [
      "Different Types of Statistics are:\n",
      "\n",
      "1) Descriptive Statistics:It consists of organising and summarizing the data.\n",
      "\n",
      "a) Measure of central Tendency (Mean, Median & Mode)\n",
      "b)Measure of Dispersion(Variance & Std Deviation)\n",
      "c)Different types of distribution of data(Histogram, PMF)\n",
      "\n",
      "\n",
      "2) Inferential Statistics:It consists of using data you have measured to form conclusion.\n",
      "It has two part: Sample data & population data\n",
      "\n",
      "Hypothesis Testing\n",
      "a)z-test\n",
      "b) t-test\n",
      "C)CHI Square test\n",
      "\n",
      "\n"
     ]
    }
   ],
   "source": [
    "# Ans9\n",
    "print('''Different Types of Statistics are:\n",
    "\n",
    "1) Descriptive Statistics:It consists of organising and summarizing the data.\n",
    "\n",
    "a) Measure of central Tendency (Mean, Median & Mode)\n",
    "b)Measure of Dispersion(Variance & Std Deviation)\n",
    "c)Different types of distribution of data(Histogram, PMF)\n",
    "\n",
    "\n",
    "2) Inferential Statistics:It consists of using data you have measured to form conclusion.\n",
    "It has two part: Sample data & population data\n",
    "\n",
    "Hypothesis Testing\n",
    "a)z-test\n",
    "b) t-test\n",
    "C)CHI Square test\n",
    "\n",
    "''')"
   ]
  },
  {
   "cell_type": "code",
   "execution_count": 12,
   "id": "b99fec3c-264a-49b4-ba10-b424fa7ac9e4",
   "metadata": {},
   "outputs": [
    {
     "name": "stdout",
     "output_type": "stream",
     "text": [
      "\n",
      "\n",
      "Measure of central tendency shows where the center or middle of the data set is located, whereas measure of variation shows the dispersion among data values.\n",
      "\n",
      "Measure of central tendency are:\n",
      "Mean\n",
      "Median\n",
      "Mode\n",
      "\n",
      "measures of variability are:\n",
      "Range\n",
      "IQR\n",
      "Variance\n",
      "Standard Deviation\n",
      "\n"
     ]
    }
   ],
   "source": [
    "# Ans10\n",
    "print('''\n",
    "\n",
    "Measure of central tendency shows where the center or middle of the data set is located, whereas measure of variation shows the dispersion among data values.\n",
    "\n",
    "Measure of central tendency are:\n",
    "Mean\n",
    "Median\n",
    "Mode\n",
    "\n",
    "measures of variability are:\n",
    "Range\n",
    "IQR\n",
    "Variance\n",
    "Standard Deviation\n",
    "''')"
   ]
  },
  {
   "cell_type": "code",
   "execution_count": null,
   "id": "1ac0de5b-c223-4fcb-bce0-d6a19849bbe4",
   "metadata": {},
   "outputs": [],
   "source": []
  },
  {
   "cell_type": "code",
   "execution_count": null,
   "id": "4fe68864-e559-4740-b699-b15d7ea947bd",
   "metadata": {},
   "outputs": [],
   "source": [
    "M"
   ]
  }
 ],
 "metadata": {
  "kernelspec": {
   "display_name": "Python 3 (ipykernel)",
   "language": "python",
   "name": "python3"
  },
  "language_info": {
   "codemirror_mode": {
    "name": "ipython",
    "version": 3
   },
   "file_extension": ".py",
   "mimetype": "text/x-python",
   "name": "python",
   "nbconvert_exporter": "python",
   "pygments_lexer": "ipython3",
   "version": "3.10.8"
  }
 },
 "nbformat": 4,
 "nbformat_minor": 5
}
