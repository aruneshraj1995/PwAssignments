{
 "cells": [
  {
   "cell_type": "markdown",
   "id": "c8ea1001-91d4-4b86-8f2d-b148b517649d",
   "metadata": {},
   "source": [
    "# Ans1\n",
    "- Multithreading is defined as the ability of a processor to execute multiple threads concurrently. \n",
    "-  To use multithreading, we need to import the threading module in Python Program."
   ]
  },
  {
   "cell_type": "markdown",
   "id": "284c8332-ae57-4f03-ab95-d15b878c6005",
   "metadata": {},
   "source": [
    "# Ans2\n",
    "- To use multithreading, we need to import the threading module in Python Program\n",
    "- activeCount() − Returns the number of thread objects that are active. threading. \n",
    "-  currentThread() − Returns the number of thread objects in the caller's thread control. threading\n",
    "- enumerate() Return a list of all Thread objects currently active."
   ]
  },
  {
   "cell_type": "markdown",
   "id": "884cdfd7-3495-4641-a925-fb0255ea52ae",
   "metadata": {},
   "source": [
    "# Ans3\n",
    "- run() − The run() method is the entry point for a thread.\n",
    "- start() − The start() method starts a thread by calling the run method.\n",
    "- join([time]) − The join() waits for threads to terminate.\n",
    "- isAlive() − The isAlive() method checks whether a thread is still executing."
   ]
  },
  {
   "cell_type": "markdown",
   "id": "eede2565-31e6-4f72-a0fd-a512619d2982",
   "metadata": {},
   "source": [
    "# Ans4"
   ]
  },
  {
   "cell_type": "code",
   "execution_count": 2,
   "id": "088db51a-c79f-4253-b6b3-295608b2eb85",
   "metadata": {},
   "outputs": [
    {
     "name": "stdout",
     "output_type": "stream",
     "text": [
      "Square: 100\n",
      "Cube: 1000\n",
      "Done!\n"
     ]
    }
   ],
   "source": [
    "import threading\n",
    " \n",
    "def print_cube(num):\n",
    "    \n",
    "    print(\"Cube: {}\" .format(num * num * num))\n",
    " \n",
    " \n",
    "def print_square(num):\n",
    "    \n",
    "    print(\"Square: {}\" .format(num * num))\n",
    " \n",
    " \n",
    "if __name__ ==\"__main__\":\n",
    "    \n",
    "    t1 = threading.Thread(target=print_square, args=(10,))\n",
    "    t2 = threading.Thread(target=print_cube, args=(10,))\n",
    " \n",
    "    \n",
    "    t1.start()\n",
    "   \n",
    "    t2.start()\n",
    " \n",
    "  \n",
    "    t1.join()\n",
    "    \n",
    "    t2.join()\n",
    " \n",
    "   \n",
    "    print(\"Done!\")"
   ]
  },
  {
   "cell_type": "markdown",
   "id": "735fc952-8f42-4eb4-abc7-b53be767248c",
   "metadata": {},
   "source": [
    "# Ans5\n",
    "Following are some of the common advantages of multithreading:\n",
    "\n",
    "- Enhanced performance by decreased development time\n",
    "- Simplified and streamlined program coding\n",
    "- Improvised GUI responsiveness\n",
    "- Simultaneous and parallelized occurrence of tasks\n",
    "- Better use of cache storage by utilization of resources\n",
    "- Decreased cost of maintenance\n",
    "- Better use of CPU resource\n",
    "\n",
    "Following are some of the common Disadvantages of multithreading:\n",
    "\n",
    "- Complex debugging and testing processes\n",
    "- Overhead switching of context\n",
    "- Increased potential for deadlock occurrence\n",
    "- Increased difficulty level in writing a program\n",
    "- Unpredictable results\n"
   ]
  },
  {
   "cell_type": "markdown",
   "id": "0e17fb34-56cf-41d2-a2f7-f0ee81430128",
   "metadata": {},
   "source": [
    "# Ans6\n",
    "- A race condition occurs when two threads use the same variable at a given time. Deadlock exists when two threads seek one lock simultaneously.\n",
    "- Both share some similarities, such as they both occur in multi-thread solutions and hamper device performance. However, both are not the same."
   ]
  },
  {
   "cell_type": "code",
   "execution_count": null,
   "id": "f0861bae-faed-490a-ac50-25a805eea6cc",
   "metadata": {},
   "outputs": [],
   "source": []
  }
 ],
 "metadata": {
  "kernelspec": {
   "display_name": "Python 3 (ipykernel)",
   "language": "python",
   "name": "python3"
  },
  "language_info": {
   "codemirror_mode": {
    "name": "ipython",
    "version": 3
   },
   "file_extension": ".py",
   "mimetype": "text/x-python",
   "name": "python",
   "nbconvert_exporter": "python",
   "pygments_lexer": "ipython3",
   "version": "3.10.8"
  }
 },
 "nbformat": 4,
 "nbformat_minor": 5
}
