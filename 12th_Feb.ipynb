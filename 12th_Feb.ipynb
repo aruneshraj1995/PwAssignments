{
 "cells": [
  {
   "cell_type": "markdown",
   "id": "3303c89c-cb64-4bb3-928c-74cb108ec6f6",
   "metadata": {},
   "source": [
    "# Ans1\n",
    "- An exception is an event, which occurs during the execution of a program that disrupts the normal flow of the program's instructions. \n",
    "- Errors are the problems in a program due to which the program will stop the execution. On the other hand, exceptions are raised when some internal events occur which changes the normal flow of the program."
   ]
  },
  {
   "cell_type": "markdown",
   "id": "58b3a108-c319-402c-a95e-f2a1f8d2f4a5",
   "metadata": {},
   "source": [
    "# Ans2\n",
    "- When an exception occurred, if you don't handle it, the program terminates abruptly and the code past the line that caused the exception will not get executed"
   ]
  },
  {
   "cell_type": "markdown",
   "id": "85c76e9f-2fb7-49a6-9aff-a7b367a4861f",
   "metadata": {},
   "source": [
    "# Ans3\n",
    "- The try and except block in Python is used to catch and handle exceptions"
   ]
  },
  {
   "cell_type": "markdown",
   "id": "9345483c-03be-4970-ba98-499b4a879be9",
   "metadata": {},
   "source": [
    "- Example"
   ]
  },
  {
   "cell_type": "code",
   "execution_count": 1,
   "id": "35913400-6d13-4e19-8cef-ff5f1fa6f904",
   "metadata": {},
   "outputs": [
    {
     "name": "stdout",
     "output_type": "stream",
     "text": [
      "Error: cannot add an int and a str\n"
     ]
    }
   ],
   "source": [
    "x = 5\n",
    "y = \"hello\"\n",
    "try:\n",
    "    z = x + y\n",
    "except TypeError:\n",
    "    print(\"Error: cannot add an int and a str\")"
   ]
  },
  {
   "cell_type": "markdown",
   "id": "728c3719-b75d-49b7-86c7-1801c0854365",
   "metadata": {},
   "source": [
    "# Ans4\n",
    "- The try block lets you test a block of code for errors. The except block lets you handle the error. The else block lets you execute code when there is no error.\n",
    "\n",
    "- Finally defines a block of code to run when the try... except...else block is final. The finally block will be executed no matter if the try block raises an error or not. This can be useful to close objects and clean up resources.\n",
    "\n",
    "- Python raise Keyword is used to raise exceptions or errors. The raise keyword raises an error and stops the control flow of the program\n",
    "\n",
    "- Example of Try, Expect Else is below"
   ]
  },
  {
   "cell_type": "code",
   "execution_count": 3,
   "id": "77c0e499-c960-464d-be31-241777842468",
   "metadata": {},
   "outputs": [
    {
     "name": "stdout",
     "output_type": "stream",
     "text": [
      "Yeah ! Your answer is : 1\n",
      "This is how we handle exceptions in python\n",
      "Sorry ! You are dividing by zero \n",
      "This is how we handle exceptions in python\n"
     ]
    }
   ],
   "source": [
    "def divide(x, y):\n",
    "    try:\n",
    "        result = x // y\n",
    "    except ZeroDivisionError:\n",
    "        print(\"Sorry ! You are dividing by zero \")\n",
    "    else:\n",
    "        print(\"Yeah ! Your answer is :\", result)\n",
    "    finally:\n",
    "        print(\"This is how we handle exceptions in python\")\n",
    "divide(3, 2)\n",
    "divide(3, 0)"
   ]
  },
  {
   "cell_type": "markdown",
   "id": "429f2c62-49d3-445b-b7f8-156f17e26534",
   "metadata": {},
   "source": [
    "- Example of Raise is below"
   ]
  },
  {
   "cell_type": "code",
   "execution_count": 6,
   "id": "6c096111-db17-4140-8b1b-1654af7eff6c",
   "metadata": {},
   "outputs": [
    {
     "ename": "Exception",
     "evalue": "The number shouldn't be an odd integer",
     "output_type": "error",
     "traceback": [
      "\u001b[0;31m---------------------------------------------------------------------------\u001b[0m",
      "\u001b[0;31mException\u001b[0m                                 Traceback (most recent call last)",
      "Cell \u001b[0;32mIn[6], line 4\u001b[0m\n\u001b[1;32m      1\u001b[0m a \u001b[38;5;241m=\u001b[39m \u001b[38;5;241m5\u001b[39m\n\u001b[1;32m      3\u001b[0m \u001b[38;5;28;01mif\u001b[39;00m a \u001b[38;5;241m%\u001b[39m \u001b[38;5;241m2\u001b[39m \u001b[38;5;241m!=\u001b[39m \u001b[38;5;241m0\u001b[39m:\n\u001b[0;32m----> 4\u001b[0m     \u001b[38;5;28;01mraise\u001b[39;00m \u001b[38;5;167;01mException\u001b[39;00m(\u001b[38;5;124m\"\u001b[39m\u001b[38;5;124mThe number shouldn\u001b[39m\u001b[38;5;124m'\u001b[39m\u001b[38;5;124mt be an odd integer\u001b[39m\u001b[38;5;124m\"\u001b[39m)\n",
      "\u001b[0;31mException\u001b[0m: The number shouldn't be an odd integer"
     ]
    }
   ],
   "source": [
    "a = 5\n",
    "  \n",
    "if a % 2 != 0:\n",
    "    raise Exception(\"The number shouldn't be an odd integer\")"
   ]
  },
  {
   "cell_type": "markdown",
   "id": "44f5389d-48de-4263-b2cc-3273bde3a91b",
   "metadata": {},
   "source": [
    "# Ans5\n",
    "- Like standard exception classes, custom exceptions are also classes. Hence, you can add functionality to the custom exception classes like: Adding attributes and properties. Adding methods e.g., log the exception, format the output, etc.\n",
    "\n",
    "- Example"
   ]
  },
  {
   "cell_type": "code",
   "execution_count": 7,
   "id": "baf79c10-74e8-4434-937f-747e3e74ce8f",
   "metadata": {},
   "outputs": [
    {
     "name": "stdout",
     "output_type": "stream",
     "text": [
      "This is my custom exception\n"
     ]
    }
   ],
   "source": [
    "class CustomException(Exception):\n",
    "    \"\"\" my custom exception class \"\"\"\n",
    "\n",
    "\n",
    "try:\n",
    "    raise CustomException('This is my custom exception')\n",
    "except CustomException as ex:\n",
    "    print(ex)"
   ]
  },
  {
   "cell_type": "markdown",
   "id": "20219ac9-d5b6-4051-b7e2-c7988598ad97",
   "metadata": {},
   "source": [
    "# Ans6"
   ]
  },
  {
   "cell_type": "code",
   "execution_count": 9,
   "id": "3014f3f9-f152-471a-bce7-76f92bd10ecb",
   "metadata": {},
   "outputs": [
    {
     "name": "stdout",
     "output_type": "stream",
     "text": [
      "This is my custom exception\n"
     ]
    }
   ],
   "source": [
    "class CustomException(Exception):\n",
    "    \"\"\" my custom exception class \"\"\"\n",
    "\n",
    "\n",
    "try:\n",
    "    raise CustomException('This is my custom exception')\n",
    "except CustomException as ex:\n",
    "    print(ex)"
   ]
  },
  {
   "cell_type": "code",
   "execution_count": null,
   "id": "b6d85ca2-1d2f-4aba-8b98-34724a625706",
   "metadata": {},
   "outputs": [],
   "source": []
  }
 ],
 "metadata": {
  "kernelspec": {
   "display_name": "Python 3 (ipykernel)",
   "language": "python",
   "name": "python3"
  },
  "language_info": {
   "codemirror_mode": {
    "name": "ipython",
    "version": 3
   },
   "file_extension": ".py",
   "mimetype": "text/x-python",
   "name": "python",
   "nbconvert_exporter": "python",
   "pygments_lexer": "ipython3",
   "version": "3.10.8"
  }
 },
 "nbformat": 4,
 "nbformat_minor": 5
}
