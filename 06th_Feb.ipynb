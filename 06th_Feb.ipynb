{
 "cells": [
  {
   "cell_type": "code",
   "execution_count": 86,
   "id": "d28ad6f4-ab4a-4b11-a105-342645bb4723",
   "metadata": {},
   "outputs": [],
   "source": [
    "# Ans1\n",
    "list1=[1,2,3,4,[44,55,66,True], False, (34,56,78,89,34),{1,2,3,2,1},{1:34,\"key2\":[55,67,78,89],4:(45,22,61,34)},[56,'data science'],'Machine Learning']"
   ]
  },
  {
   "cell_type": "code",
   "execution_count": 87,
   "id": "2ee4b1f1-c39d-4fea-a162-e31e9c7bcda4",
   "metadata": {},
   "outputs": [],
   "source": [
    "def flat_list(list1):\n",
    "    flatlist=[]\n",
    "    for i in list1:\n",
    "        if type(i) is tuple or type(i) is list or type(i) is set:\n",
    "            for j in i:\n",
    "                if type(j) is int:\n",
    "                    flatlist.append(j)\n",
    "        elif type(i) is dict:\n",
    "                for key,value in i.items():\n",
    "                    if type(key) is int:\n",
    "                        flatlist.append(key)\n",
    "                    if type(value) is tuple or type (value) is list:\n",
    "                        for k in value:\n",
    "                            if type(k) is int:\n",
    "                                flatlist.append(k)\n",
    "                    elif type(value) is int:\n",
    "                        flatlist.append(value)\n",
    "        elif type(i) is int:\n",
    "            flatlist.append(i)\n",
    "    return flatlist \n",
    "        "
   ]
  },
  {
   "cell_type": "code",
   "execution_count": 88,
   "id": "3aeba63f-ae6b-447f-81a0-4cd9e3a988f4",
   "metadata": {},
   "outputs": [],
   "source": [
    "list2=flat_list(list1)"
   ]
  },
  {
   "cell_type": "code",
   "execution_count": 89,
   "id": "9bf277c8-5cf8-4b7b-967d-840c42f88712",
   "metadata": {},
   "outputs": [
    {
     "data": {
      "text/plain": [
       "[1,\n",
       " 2,\n",
       " 3,\n",
       " 4,\n",
       " 44,\n",
       " 55,\n",
       " 66,\n",
       " 34,\n",
       " 56,\n",
       " 78,\n",
       " 89,\n",
       " 34,\n",
       " 1,\n",
       " 2,\n",
       " 3,\n",
       " 1,\n",
       " 34,\n",
       " 55,\n",
       " 67,\n",
       " 78,\n",
       " 89,\n",
       " 4,\n",
       " 45,\n",
       " 22,\n",
       " 61,\n",
       " 34,\n",
       " 56]"
      ]
     },
     "execution_count": 89,
     "metadata": {},
     "output_type": "execute_result"
    }
   ],
   "source": [
    "list2"
   ]
  },
  {
   "cell_type": "code",
   "execution_count": 90,
   "id": "310c7460-06a7-4f81-a314-99ede8680951",
   "metadata": {},
   "outputs": [],
   "source": [
    "def multiply_list_numbers(list2):\n",
    "    \n",
    "    product=1\n",
    "    for i in list2:\n",
    "        product *= i\n",
    "    return product\n"
   ]
  },
  {
   "cell_type": "code",
   "execution_count": 91,
   "id": "63354fde-de45-4957-ae4c-da683b18c175",
   "metadata": {},
   "outputs": [
    {
     "name": "stdout",
     "output_type": "stream",
     "text": [
      "4134711838987085478833841242112000\n"
     ]
    }
   ],
   "source": [
    "print(multiply_list_numbers(list2))"
   ]
  },
  {
   "cell_type": "code",
   "execution_count": 92,
   "id": "eb9a1e98-a4a5-457f-99cb-6e003d7c91db",
   "metadata": {},
   "outputs": [
    {
     "name": "stdout",
     "output_type": "stream",
     "text": [
      "1\n",
      "2\n",
      "6\n",
      "24\n",
      "1056\n",
      "58080\n",
      "3833280\n",
      "130331520\n",
      "7298565120\n",
      "569288079360\n",
      "50666639063040\n",
      "1722665728143360\n",
      "1722665728143360\n",
      "3445331456286720\n",
      "10335994368860160\n",
      "10335994368860160\n",
      "351423808541245440\n",
      "19328309469768499200\n",
      "1294996734474489446400\n",
      "101009745289010176819200\n",
      "8989867330721905736908800\n",
      "35959469322887622947635200\n",
      "1618176119529943032643584000\n",
      "35599874629658746718158848000\n",
      "2171592352409183549807689728000\n",
      "73834139981912240693461450752000\n",
      "4134711838987085478833841242112000\n"
     ]
    }
   ],
   "source": [
    "product=1\n",
    "for i in list2:\n",
    "    product *= i\n",
    "    print(product)"
   ]
  },
  {
   "cell_type": "code",
   "execution_count": 174,
   "id": "f0072581-5425-4e7c-8eb2-611a9a20479a",
   "metadata": {},
   "outputs": [],
   "source": [
    "# Ans2\n",
    "sentence = \"I want to become a Data Scientist.\" \n",
    "dict={\"a\":\"z\",\"b\":\"y\",\"c\":\"x\",' ':\"$\"}\n",
    "sentence = sentence.lower()\n",
    "\n",
    "for i in dict:\n",
    "    sentence=sentence.replace(i,dict[i])"
   ]
  },
  {
   "cell_type": "code",
   "execution_count": 175,
   "id": "f8b4f404-824e-4a13-b465-054c09179eab",
   "metadata": {},
   "outputs": [
    {
     "data": {
      "text/plain": [
       "'i$wznt$to$yexome$z$dztz$sxientist.'"
      ]
     },
     "execution_count": 175,
     "metadata": {},
     "output_type": "execute_result"
    }
   ],
   "source": [
    "sentence"
   ]
  },
  {
   "cell_type": "code",
   "execution_count": null,
   "id": "ebba84f2-7ab3-4765-933b-c96f479b24ca",
   "metadata": {},
   "outputs": [],
   "source": []
  }
 ],
 "metadata": {
  "kernelspec": {
   "display_name": "Python 3 (ipykernel)",
   "language": "python",
   "name": "python3"
  },
  "language_info": {
   "codemirror_mode": {
    "name": "ipython",
    "version": 3
   },
   "file_extension": ".py",
   "mimetype": "text/x-python",
   "name": "python",
   "nbconvert_exporter": "python",
   "pygments_lexer": "ipython3",
   "version": "3.10.8"
  }
 },
 "nbformat": 4,
 "nbformat_minor": 5
}
