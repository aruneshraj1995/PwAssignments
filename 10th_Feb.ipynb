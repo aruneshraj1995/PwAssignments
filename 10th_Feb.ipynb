{
 "cells": [
  {
   "cell_type": "markdown",
   "id": "31d2ce07-2993-449f-817b-2582c13860d1",
   "metadata": {},
   "source": [
    "# Ans 1\n",
    "- We use open(FileName, FileMode) function to open the file.\n",
    "- Another mode of opening a file is \"With Open('FileName', FileMode) as Alias\" "
   ]
  },
  {
   "cell_type": "markdown",
   "id": "e9098ba8-a6b5-4d45-b8ed-0db922a30398",
   "metadata": {},
   "source": [
    "# Ans2\n",
    "- Close() function is use to close file.\n",
    "- closing the files properly helps to protect against hard-to-debug errors like file handles running out or experiencing corrupted data."
   ]
  },
  {
   "cell_type": "markdown",
   "id": "dd47303d-f3af-4501-852c-0e1a5ba18935",
   "metadata": {},
   "source": [
    "# Ans3"
   ]
  },
  {
   "cell_type": "code",
   "execution_count": 4,
   "id": "753f0a7b-791b-4ef1-8a55-900cfafa5407",
   "metadata": {},
   "outputs": [],
   "source": [
    "Sample_File=open(\"Sample.txt\", 'w')"
   ]
  },
  {
   "cell_type": "code",
   "execution_count": 6,
   "id": "9d65cb6b-318c-4972-a425-c208d0069439",
   "metadata": {},
   "outputs": [
    {
     "data": {
      "text/plain": [
       "33"
      ]
     },
     "execution_count": 6,
     "metadata": {},
     "output_type": "execute_result"
    }
   ],
   "source": [
    "Sample_File.write(\"I want to become a Data Scientist\")"
   ]
  },
  {
   "cell_type": "code",
   "execution_count": 7,
   "id": "986b7adb-3553-4e1d-811e-fd0e22bfb4bb",
   "metadata": {},
   "outputs": [],
   "source": [
    "Sample_File.close()"
   ]
  },
  {
   "cell_type": "code",
   "execution_count": 15,
   "id": "3e5adefe-16c3-432d-980c-4656ef73a60d",
   "metadata": {},
   "outputs": [],
   "source": [
    "Sample=open(\"Sample.txt\", 'r')"
   ]
  },
  {
   "cell_type": "code",
   "execution_count": 16,
   "id": "902095d7-af6e-42f5-aac6-88c12c85e424",
   "metadata": {},
   "outputs": [
    {
     "data": {
      "text/plain": [
       "'I want to become a Data Scientist'"
      ]
     },
     "execution_count": 16,
     "metadata": {},
     "output_type": "execute_result"
    }
   ],
   "source": [
    "Sample.read()"
   ]
  },
  {
   "cell_type": "markdown",
   "id": "79c7153d-3f69-46f5-83b7-2bb3b65d6f29",
   "metadata": {},
   "source": [
    "# Ans4\n",
    "- Python readline() method will return a line from the file when called\n",
    "- readlines() method will return all the lines in a file in the format of a list where each element is a line in the file.\n",
    "- read() : This function reads the entire file and returns a string"
   ]
  },
  {
   "cell_type": "markdown",
   "id": "c87eb950-5c4e-4f9e-92d7-fe13017884af",
   "metadata": {},
   "source": [
    "# Ans5\n",
    "- The with statement works with the open() function to open a file. Unlike open() where you have to close the file with the close() method, the with statement closes the file for you without you telling it to. This is because the with statement calls 2 built-in methods behind the scene – __enter()__ and __exit()__"
   ]
  },
  {
   "cell_type": "markdown",
   "id": "aef82190-a620-4e6e-a1ba-9cc6a30c609b",
   "metadata": {},
   "source": [
    "# Ans6\n",
    "- The only difference between the write() and writelines() is that write() is used to write a string to an already opened file while writelines() method is used to write a list of strings in an opened file"
   ]
  },
  {
   "cell_type": "code",
   "execution_count": null,
   "id": "a2a22eca-bcf9-4d77-a355-a4dc2bb53bd8",
   "metadata": {},
   "outputs": [],
   "source": []
  }
 ],
 "metadata": {
  "kernelspec": {
   "display_name": "Python 3 (ipykernel)",
   "language": "python",
   "name": "python3"
  },
  "language_info": {
   "codemirror_mode": {
    "name": "ipython",
    "version": 3
   },
   "file_extension": ".py",
   "mimetype": "text/x-python",
   "name": "python",
   "nbconvert_exporter": "python",
   "pygments_lexer": "ipython3",
   "version": "3.10.8"
  }
 },
 "nbformat": 4,
 "nbformat_minor": 5
}
