{
 "cells": [
  {
   "cell_type": "markdown",
   "id": "15a612bb-3ed3-40db-866d-a5a68784ea42",
   "metadata": {},
   "source": [
    "## Ans1\n",
    "-  The Probability Density Function(PDF) defines the probability function representing the density of a continuous random variable lying between a specific range of values. In other words, the probability density function produces the likelihood of values of the continuous random variable."
   ]
  },
  {
   "cell_type": "markdown",
   "id": "04d8e503-a8a6-441d-b122-e2d92e1e8888",
   "metadata": {},
   "source": [
    "## Ans2\n",
    "\n",
    "There are two types of probability distributions\n",
    "\n",
    "- Discrete probability distributions.\n",
    "- Continuous probability distributions."
   ]
  },
  {
   "cell_type": "markdown",
   "id": "4997edd0-149b-406a-b6bf-d098b5fac7ef",
   "metadata": {},
   "source": [
    "## Ans3"
   ]
  },
  {
   "cell_type": "code",
   "execution_count": 1,
   "id": "6e2c0312-9f2d-475d-8b03-1abff8294809",
   "metadata": {},
   "outputs": [],
   "source": [
    "import math"
   ]
  },
  {
   "cell_type": "code",
   "execution_count": 2,
   "id": "1ed92ce8-72c7-4bc3-9a26-7d270b999aaa",
   "metadata": {},
   "outputs": [],
   "source": [
    "def normal_pdf(x, mean, std_dev):\n",
    "    return math.exp(-((x - mean) ** 2) / (2 * std_dev ** 2)) / (mean * math.sqrt(2 * math.pi))"
   ]
  },
  {
   "cell_type": "code",
   "execution_count": 3,
   "id": "c5d7d771-e5c4-4d06-8b98-f655dbd9f2c5",
   "metadata": {},
   "outputs": [],
   "source": [
    "pdf = normal_pdf(2.5, 3, 1.5)"
   ]
  },
  {
   "cell_type": "code",
   "execution_count": 4,
   "id": "26f42da6-0fef-42ab-b322-bba0a0f06666",
   "metadata": {},
   "outputs": [
    {
     "data": {
      "text/plain": [
       "0.12579440923099772"
      ]
     },
     "execution_count": 4,
     "metadata": {},
     "output_type": "execute_result"
    }
   ],
   "source": [
    "pdf"
   ]
  },
  {
   "cell_type": "markdown",
   "id": "cd385daa-5f3b-4817-9424-6e90a77dd36a",
   "metadata": {},
   "source": [
    "## Ans4\n",
    "\n",
    "The Binomial Distribution\n",
    "\n",
    "- The number of observations n is fixed.\n",
    "- Each observation is independent.\n",
    "- Each observation represents one of two outcomes (\"success\" or \"failure\").\n",
    "- The probability of \"success\" p is the same for each outcome\n",
    "\n",
    "\n",
    "Events where we use Binomial Distribution are:\n",
    "\n",
    "- Tossing A Coin (a coin toss has only two possible outcomes: heads or tails )\n",
    "- Taking A Test (a test could have two possible outcomes: pass or fail)"
   ]
  },
  {
   "cell_type": "markdown",
   "id": "43d1a574-acc1-4ca8-b1f3-617914080f17",
   "metadata": {},
   "source": [
    "## Ans5"
   ]
  },
  {
   "cell_type": "code",
   "execution_count": 5,
   "id": "5aafcb62-bb19-49b2-9839-f99d523843cc",
   "metadata": {},
   "outputs": [
    {
     "data": {
      "image/png": "[encoded data removed]",
      "text/plain": [
       "<Figure size 640x480 with 1 Axes>"
      ]
     },
     "metadata": {},
     "output_type": "display_data"
    }
   ],
   "source": [
    "import numpy as np\n",
    "import matplotlib.pyplot as plt\n",
    "\n",
    "# Set the random seed for reproducibility\n",
    "np.random.seed(42)\n",
    "\n",
    "# Generate the random sample\n",
    "sample = np.random.binomial(n=1, p=0.4, size=1000)\n",
    "\n",
    "# Plot a histogram of the results\n",
    "plt.hist(sample, bins=2)\n",
    "plt.xlabel('Success or Failure')\n",
    "plt.ylabel('Frequency')\n",
    "plt.title('Histogram of Random Sample from Binomial Distribution')\n",
    "plt.show()"
   ]
  },
  {
   "cell_type": "markdown",
   "id": "7aa45eef-ffb1-465f-8efd-648fd8a01ec3",
   "metadata": {},
   "source": [
    "## Ans6"
   ]
  },
  {
   "cell_type": "code",
   "execution_count": 9,
   "id": "ede21468-e895-4606-96ae-bef3d9136bd5",
   "metadata": {},
   "outputs": [],
   "source": [
    "def poisson_cdf(x, mean):\n",
    "    cdf = 0\n",
    "    for i in range(x+1):\n",
    "        cdf += math.exp(-mean) * mean**i / math.factorial(i)\n",
    "    return cdf"
   ]
  },
  {
   "cell_type": "code",
   "execution_count": 10,
   "id": "f3c7de8e-07fd-4f62-8636-a0a3bd9b56d3",
   "metadata": {},
   "outputs": [],
   "source": [
    "cdf = poisson_cdf(2, 3)"
   ]
  },
  {
   "cell_type": "code",
   "execution_count": 11,
   "id": "4b72aa67-5807-43c6-a9f3-6c39f23445b5",
   "metadata": {},
   "outputs": [
    {
     "data": {
      "text/plain": [
       "0.42319008112684353"
      ]
     },
     "execution_count": 11,
     "metadata": {},
     "output_type": "execute_result"
    }
   ],
   "source": [
    "cdf"
   ]
  },
  {
   "cell_type": "markdown",
   "id": "96c94823-ec19-413e-b0fe-826c06460d8d",
   "metadata": {},
   "source": [
    "## Ans7\n",
    "\n",
    "- Binomial distribution describes the distribution of binary data from a finite sample. Thus it gives the probability of getting r events out of n trials. Poisson distribution describes the distribution of binary data from an infinite sample. Thus it gives the probability of getting r events in a population"
   ]
  },
  {
   "cell_type": "markdown",
   "id": "1866ce5a-a8a0-45a1-8a70-64d4abf87e0a",
   "metadata": {},
   "source": [
    "## Ans8"
   ]
  },
  {
   "cell_type": "code",
   "execution_count": 12,
   "id": "8147cdb1-0330-4c56-9670-27fc73f07111",
   "metadata": {},
   "outputs": [],
   "source": [
    "import numpy as np"
   ]
  },
  {
   "cell_type": "code",
   "execution_count": 15,
   "id": "c0d6d9e1-a582-467e-a028-390bc6070e1e",
   "metadata": {},
   "outputs": [
    {
     "name": "stdout",
     "output_type": "stream",
     "text": [
      "Sample Mean: 4.985\n",
      "Sample Variance: 4.9967749999999995\n"
     ]
    }
   ],
   "source": [
    "np.random.seed(42)\n",
    "sample = np.random.poisson(lam=5, size=1000)\n",
    "sample_mean = np.mean(sample)\n",
    "sample_var = np.var(sample)\n",
    "\n",
    "print(\"Sample Mean:\", sample_mean)\n",
    "print(\"Sample Variance:\", sample_var)"
   ]
  },
  {
   "cell_type": "markdown",
   "id": "04ce7a4c-6994-430c-ac7c-6cbd7919d754",
   "metadata": {},
   "source": [
    "## Ans9\n",
    "\n",
    "- In both the binomial and Poisson distributions, the mean and variance are related in a specific way:\n",
    "\n",
    "For a binomial distribution with parameters n and p, the mean and variance are given by:\n",
    "\n",
    "Mean = np\n",
    "Variance = np(1-p)\n",
    "For a Poisson distribution with parameter λ, the mean and variance are both equal to λ.\n",
    "\n",
    "In the case of the binomial distribution, the variance is proportional to the probability of failure (1-p), which makes sense intuitively since the more likely an event is to fail, the more spread out the outcomes will be.\n",
    "\n",
    "In the case of the Poisson distribution, the variance is equal to the mean, which means that the spread of the distribution is solely determined by the mean. This property arises due to the fact that the Poisson distribution assumes that events occur independently and at a constant rate, so the variance is solely determined by the rate parameter."
   ]
  },
  {
   "cell_type": "markdown",
   "id": "f869ebb3-1a96-471e-8610-eb8e3b08265a",
   "metadata": {},
   "source": [
    "## Ans10\n",
    "\n",
    "- In a normal distribution, the least frequent data appears at the tails, which are the extreme ends of the distribution. The tails contain the values that are farthest away from the mean of the distribution, and they have a lower probability of occurring compared to values closer to the mean."
   ]
  },
  {
   "cell_type": "code",
   "execution_count": null,
   "id": "851d42f3-90ed-4f9d-912a-3aef88e93405",
   "metadata": {},
   "outputs": [],
   "source": []
  }
 ],
 "metadata": {
  "kernelspec": {
   "display_name": "Python 3 (ipykernel)",
   "language": "python",
   "name": "python3"
  },
  "language_info": {
   "codemirror_mode": {
    "name": "ipython",
    "version": 3
   },
   "file_extension": ".py",
   "mimetype": "text/x-python",
   "name": "python",
   "nbconvert_exporter": "python",
   "pygments_lexer": "ipython3",
   "version": "3.10.8"
  }
 },
 "nbformat": 4,
 "nbformat_minor": 5
}
