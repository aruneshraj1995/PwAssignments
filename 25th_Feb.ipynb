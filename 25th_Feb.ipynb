{
 "cells": [
  {
   "cell_type": "code",
   "execution_count": 165,
   "id": "5c7e8282-3e3d-4e0e-9bb8-e17243be14b8",
   "metadata": {},
   "outputs": [
    {
     "data": {
      "text/html": [
       "<div>\n",
       "<style scoped>\n",
       "    .dataframe tbody tr th:only-of-type {\n",
       "        vertical-align: middle;\n",
       "    }\n",
       "\n",
       "    .dataframe tbody tr th {\n",
       "        vertical-align: top;\n",
       "    }\n",
       "\n",
       "    .dataframe thead th {\n",
       "        text-align: right;\n",
       "    }\n",
       "</style>\n",
       "<table border=\"1\" class=\"dataframe\">\n",
       "  <thead>\n",
       "    <tr style=\"text-align: right;\">\n",
       "      <th></th>\n",
       "      <th>course_name</th>\n",
       "      <th>duration</th>\n",
       "    </tr>\n",
       "  </thead>\n",
       "  <tbody>\n",
       "    <tr>\n",
       "      <th>0</th>\n",
       "      <td>Data Science</td>\n",
       "      <td>2</td>\n",
       "    </tr>\n",
       "    <tr>\n",
       "      <th>1</th>\n",
       "      <td>Machine Learning</td>\n",
       "      <td>3</td>\n",
       "    </tr>\n",
       "    <tr>\n",
       "      <th>2</th>\n",
       "      <td>Big Data</td>\n",
       "      <td>6</td>\n",
       "    </tr>\n",
       "    <tr>\n",
       "      <th>3</th>\n",
       "      <td>Data Engineer</td>\n",
       "      <td>4</td>\n",
       "    </tr>\n",
       "  </tbody>\n",
       "</table>\n",
       "</div>"
      ],
      "text/plain": [
       "        course_name  duration\n",
       "0      Data Science         2\n",
       "1  Machine Learning         3\n",
       "2          Big Data         6\n",
       "3     Data Engineer         4"
      ]
     },
     "execution_count": 165,
     "metadata": {},
     "output_type": "execute_result"
    }
   ],
   "source": [
    "# Ans1\n",
    "import pandas as pd\n",
    "course_name=['Data Science', 'Machine Learning', 'Big Data','Data Engineer']\n",
    "duration=[2,3,6,4]\n",
    "df=pd.DataFrame(data={'course_name': course_name, 'duration': duration})\n",
    "df"
   ]
  },
  {
   "cell_type": "code",
   "execution_count": 166,
   "id": "6f9ece83-872e-4f0b-ad7b-5c83dcc05444",
   "metadata": {},
   "outputs": [
    {
     "data": {
      "text/html": [
       "<div>\n",
       "<style scoped>\n",
       "    .dataframe tbody tr th:only-of-type {\n",
       "        vertical-align: middle;\n",
       "    }\n",
       "\n",
       "    .dataframe tbody tr th {\n",
       "        vertical-align: top;\n",
       "    }\n",
       "\n",
       "    .dataframe thead th {\n",
       "        text-align: right;\n",
       "    }\n",
       "</style>\n",
       "<table border=\"1\" class=\"dataframe\">\n",
       "  <thead>\n",
       "    <tr style=\"text-align: right;\">\n",
       "      <th></th>\n",
       "      <th>course_name</th>\n",
       "      <th>duration</th>\n",
       "    </tr>\n",
       "  </thead>\n",
       "  <tbody>\n",
       "    <tr>\n",
       "      <th>2</th>\n",
       "      <td>Big Data</td>\n",
       "      <td>6</td>\n",
       "    </tr>\n",
       "  </tbody>\n",
       "</table>\n",
       "</div>"
      ],
      "text/plain": [
       "  course_name  duration\n",
       "2    Big Data         6"
      ]
     },
     "execution_count": 166,
     "metadata": {},
     "output_type": "execute_result"
    }
   ],
   "source": [
    "df.iloc[[2]]"
   ]
  },
  {
   "cell_type": "code",
   "execution_count": 167,
   "id": "227eb2ae-20f4-49e8-a108-0796d741452c",
   "metadata": {},
   "outputs": [
    {
     "name": "stdout",
     "output_type": "stream",
     "text": [
      "The main distinction between loc and iloc is: loc is label-based, which means that you have to specify rows and columns based on their row and column labels. iloc is integer position-based, so you have to specify rows and columns by their integer position values (0-based integer position).\n",
      "\n"
     ]
    }
   ],
   "source": [
    "# Ans2\n",
    "print('''The main distinction between loc and iloc is: loc is label-based, which means that you have to specify rows and columns based on their row and column labels. iloc is integer position-based, so you have to specify rows and columns by their integer position values (0-based integer position).\n",
    "''')"
   ]
  },
  {
   "cell_type": "code",
   "execution_count": 168,
   "id": "a923a2d4-1977-4724-911d-9f74c5dcd250",
   "metadata": {},
   "outputs": [
    {
     "data": {
      "text/html": [
       "<div>\n",
       "<style scoped>\n",
       "    .dataframe tbody tr th:only-of-type {\n",
       "        vertical-align: middle;\n",
       "    }\n",
       "\n",
       "    .dataframe tbody tr th {\n",
       "        vertical-align: top;\n",
       "    }\n",
       "\n",
       "    .dataframe thead th {\n",
       "        text-align: right;\n",
       "    }\n",
       "</style>\n",
       "<table border=\"1\" class=\"dataframe\">\n",
       "  <thead>\n",
       "    <tr style=\"text-align: right;\">\n",
       "      <th></th>\n",
       "      <th>course_name</th>\n",
       "      <th>duration</th>\n",
       "    </tr>\n",
       "  </thead>\n",
       "  <tbody>\n",
       "    <tr>\n",
       "      <th>0</th>\n",
       "      <td>Data Science</td>\n",
       "      <td>2</td>\n",
       "    </tr>\n",
       "    <tr>\n",
       "      <th>1</th>\n",
       "      <td>Machine Learning</td>\n",
       "      <td>3</td>\n",
       "    </tr>\n",
       "    <tr>\n",
       "      <th>2</th>\n",
       "      <td>Big Data</td>\n",
       "      <td>6</td>\n",
       "    </tr>\n",
       "    <tr>\n",
       "      <th>3</th>\n",
       "      <td>Data Engineer</td>\n",
       "      <td>4</td>\n",
       "    </tr>\n",
       "  </tbody>\n",
       "</table>\n",
       "</div>"
      ],
      "text/plain": [
       "        course_name  duration\n",
       "0      Data Science         2\n",
       "1  Machine Learning         3\n",
       "2          Big Data         6\n",
       "3     Data Engineer         4"
      ]
     },
     "execution_count": 168,
     "metadata": {},
     "output_type": "execute_result"
    }
   ],
   "source": [
    "# Ans3\n",
    "course_name=['Data Science', 'Machine Learning', 'Big Data','Data Engineer']\n",
    "duration=[2,3,6,4]\n",
    "idx=[3,0,1,2]\n",
    "new_df=pd.DataFrame(data={'course_name': course_name, 'duration': duration},index=idx)\n",
    "df\n"
   ]
  },
  {
   "cell_type": "code",
   "execution_count": 169,
   "id": "22ccbc33-d969-4470-8bd1-eba3e8e5b743",
   "metadata": {},
   "outputs": [
    {
     "data": {
      "text/html": [
       "<div>\n",
       "<style scoped>\n",
       "    .dataframe tbody tr th:only-of-type {\n",
       "        vertical-align: middle;\n",
       "    }\n",
       "\n",
       "    .dataframe tbody tr th {\n",
       "        vertical-align: top;\n",
       "    }\n",
       "\n",
       "    .dataframe thead th {\n",
       "        text-align: right;\n",
       "    }\n",
       "</style>\n",
       "<table border=\"1\" class=\"dataframe\">\n",
       "  <thead>\n",
       "    <tr style=\"text-align: right;\">\n",
       "      <th></th>\n",
       "      <th>course_name</th>\n",
       "      <th>duration</th>\n",
       "    </tr>\n",
       "  </thead>\n",
       "  <tbody>\n",
       "    <tr>\n",
       "      <th>2</th>\n",
       "      <td>Data Engineer</td>\n",
       "      <td>4</td>\n",
       "    </tr>\n",
       "  </tbody>\n",
       "</table>\n",
       "</div>"
      ],
      "text/plain": [
       "     course_name  duration\n",
       "2  Data Engineer         4"
      ]
     },
     "execution_count": 169,
     "metadata": {},
     "output_type": "execute_result"
    }
   ],
   "source": [
    "new_df.loc[[2]]"
   ]
  },
  {
   "cell_type": "code",
   "execution_count": 170,
   "id": "bea8a229-32c4-43b1-b2af-1fe3c4bb8a96",
   "metadata": {},
   "outputs": [
    {
     "data": {
      "text/html": [
       "<div>\n",
       "<style scoped>\n",
       "    .dataframe tbody tr th:only-of-type {\n",
       "        vertical-align: middle;\n",
       "    }\n",
       "\n",
       "    .dataframe tbody tr th {\n",
       "        vertical-align: top;\n",
       "    }\n",
       "\n",
       "    .dataframe thead th {\n",
       "        text-align: right;\n",
       "    }\n",
       "</style>\n",
       "<table border=\"1\" class=\"dataframe\">\n",
       "  <thead>\n",
       "    <tr style=\"text-align: right;\">\n",
       "      <th></th>\n",
       "      <th>course_name</th>\n",
       "      <th>duration</th>\n",
       "    </tr>\n",
       "  </thead>\n",
       "  <tbody>\n",
       "    <tr>\n",
       "      <th>1</th>\n",
       "      <td>Big Data</td>\n",
       "      <td>6</td>\n",
       "    </tr>\n",
       "  </tbody>\n",
       "</table>\n",
       "</div>"
      ],
      "text/plain": [
       "  course_name  duration\n",
       "1    Big Data         6"
      ]
     },
     "execution_count": 170,
     "metadata": {},
     "output_type": "execute_result"
    }
   ],
   "source": [
    "new_df.iloc[[2]]"
   ]
  },
  {
   "cell_type": "code",
   "execution_count": 171,
   "id": "efe7efe5-17f4-46d1-b17f-93ea8bd76cde",
   "metadata": {},
   "outputs": [
    {
     "name": "stdout",
     "output_type": "stream",
     "text": [
      "yes there is a diff in output when i appliend loc & iloc, when i applied loc so it displayed the data accroding to the index given/as instructed in variable, \n",
      " while when i applied iloc, it gave output as per the default index number which is not given or inatructed by programmer \n"
     ]
    }
   ],
   "source": [
    "print(\"yes there is a diff in output when i appliend loc & iloc, when i applied loc so it displayed the data accroding to the index given/as instructed in variable, \\n while when i applied iloc, it gave output as per the default index number which is not given or inatructed by programmer \")"
   ]
  },
  {
   "cell_type": "code",
   "execution_count": 200,
   "id": "c10f4ece-970a-4e30-93e6-cb9742302322",
   "metadata": {},
   "outputs": [
    {
     "data": {
      "text/html": [
       "<div>\n",
       "<style scoped>\n",
       "    .dataframe tbody tr th:only-of-type {\n",
       "        vertical-align: middle;\n",
       "    }\n",
       "\n",
       "    .dataframe tbody tr th {\n",
       "        vertical-align: top;\n",
       "    }\n",
       "\n",
       "    .dataframe thead th {\n",
       "        text-align: right;\n",
       "    }\n",
       "</style>\n",
       "<table border=\"1\" class=\"dataframe\">\n",
       "  <thead>\n",
       "    <tr style=\"text-align: right;\">\n",
       "      <th></th>\n",
       "      <th>column_1</th>\n",
       "      <th>column_2</th>\n",
       "      <th>column_3</th>\n",
       "      <th>column_4</th>\n",
       "      <th>column_5</th>\n",
       "      <th>column_6</th>\n",
       "    </tr>\n",
       "  </thead>\n",
       "  <tbody>\n",
       "    <tr>\n",
       "      <th>1</th>\n",
       "      <td>0.783671</td>\n",
       "      <td>0.769577</td>\n",
       "      <td>0.035965</td>\n",
       "      <td>0.499951</td>\n",
       "      <td>0.274938</td>\n",
       "      <td>0.374739</td>\n",
       "    </tr>\n",
       "    <tr>\n",
       "      <th>2</th>\n",
       "      <td>0.331603</td>\n",
       "      <td>0.574473</td>\n",
       "      <td>0.548075</td>\n",
       "      <td>0.389194</td>\n",
       "      <td>0.185783</td>\n",
       "      <td>0.237719</td>\n",
       "    </tr>\n",
       "    <tr>\n",
       "      <th>3</th>\n",
       "      <td>0.013613</td>\n",
       "      <td>0.876963</td>\n",
       "      <td>0.342995</td>\n",
       "      <td>0.525738</td>\n",
       "      <td>0.296672</td>\n",
       "      <td>0.766649</td>\n",
       "    </tr>\n",
       "    <tr>\n",
       "      <th>4</th>\n",
       "      <td>0.848650</td>\n",
       "      <td>0.211757</td>\n",
       "      <td>0.354288</td>\n",
       "      <td>0.043538</td>\n",
       "      <td>0.752676</td>\n",
       "      <td>0.871217</td>\n",
       "    </tr>\n",
       "    <tr>\n",
       "      <th>5</th>\n",
       "      <td>0.085168</td>\n",
       "      <td>0.856597</td>\n",
       "      <td>0.355447</td>\n",
       "      <td>0.510978</td>\n",
       "      <td>0.258204</td>\n",
       "      <td>0.547002</td>\n",
       "    </tr>\n",
       "    <tr>\n",
       "      <th>6</th>\n",
       "      <td>0.147984</td>\n",
       "      <td>0.555852</td>\n",
       "      <td>0.003538</td>\n",
       "      <td>0.794346</td>\n",
       "      <td>0.726653</td>\n",
       "      <td>0.176312</td>\n",
       "    </tr>\n",
       "  </tbody>\n",
       "</table>\n",
       "</div>"
      ],
      "text/plain": [
       "   column_1  column_2  column_3  column_4  column_5  column_6\n",
       "1  0.783671  0.769577  0.035965  0.499951  0.274938  0.374739\n",
       "2  0.331603  0.574473  0.548075  0.389194  0.185783  0.237719\n",
       "3  0.013613  0.876963  0.342995  0.525738  0.296672  0.766649\n",
       "4  0.848650  0.211757  0.354288  0.043538  0.752676  0.871217\n",
       "5  0.085168  0.856597  0.355447  0.510978  0.258204  0.547002\n",
       "6  0.147984  0.555852  0.003538  0.794346  0.726653  0.176312"
      ]
     },
     "execution_count": 200,
     "metadata": {},
     "output_type": "execute_result"
    }
   ],
   "source": [
    "# Ans4\n",
    "import pandas as pd\n",
    "import numpy as np\n",
    "columns=['column_1', 'column_2','column_3', 'column_4', 'column_5', 'column_6']\n",
    "indices=[1,2,3,4,5,6]\n",
    "\n",
    "df1=pd.DataFrame(np.random.rand(6,6), columns=columns, index=indices)\n",
    "df1"
   ]
  },
  {
   "cell_type": "code",
   "execution_count": 201,
   "id": "29320211-50fd-4fb3-b183-0c93808116dd",
   "metadata": {},
   "outputs": [
    {
     "data": {
      "text/plain": [
       "column_1    0.368448\n",
       "column_2    0.640870\n",
       "column_3    0.273385\n",
       "column_4    0.460624\n",
       "column_5    0.415821\n",
       "column_6    0.495606\n",
       "dtype: float64"
      ]
     },
     "execution_count": 201,
     "metadata": {},
     "output_type": "execute_result"
    }
   ],
   "source": [
    "df1.mean()"
   ]
  },
  {
   "cell_type": "code",
   "execution_count": 202,
   "id": "02bd51e2-cb99-4d2c-a404-f7a4c7c325a6",
   "metadata": {},
   "outputs": [
    {
     "data": {
      "text/plain": [
       "column_1    0.363076\n",
       "column_2    0.250846\n",
       "column_3    0.211076\n",
       "column_4    0.244440\n",
       "column_5    0.253729\n",
       "column_6    0.282932\n",
       "dtype: float64"
      ]
     },
     "execution_count": 202,
     "metadata": {},
     "output_type": "execute_result"
    }
   ],
   "source": [
    "df1.std()"
   ]
  },
  {
   "cell_type": "code",
   "execution_count": 203,
   "id": "42f3f9fd-6df1-4969-89b4-ca53ae118e9a",
   "metadata": {},
   "outputs": [],
   "source": [
    "df1.iat[1,1]='Arunesh'"
   ]
  },
  {
   "cell_type": "code",
   "execution_count": 204,
   "id": "91b88955-69fa-45fa-be4d-c30a30bf1574",
   "metadata": {},
   "outputs": [
    {
     "data": {
      "text/html": [
       "<div>\n",
       "<style scoped>\n",
       "    .dataframe tbody tr th:only-of-type {\n",
       "        vertical-align: middle;\n",
       "    }\n",
       "\n",
       "    .dataframe tbody tr th {\n",
       "        vertical-align: top;\n",
       "    }\n",
       "\n",
       "    .dataframe thead th {\n",
       "        text-align: right;\n",
       "    }\n",
       "</style>\n",
       "<table border=\"1\" class=\"dataframe\">\n",
       "  <thead>\n",
       "    <tr style=\"text-align: right;\">\n",
       "      <th></th>\n",
       "      <th>column_1</th>\n",
       "      <th>column_2</th>\n",
       "      <th>column_3</th>\n",
       "      <th>column_4</th>\n",
       "      <th>column_5</th>\n",
       "      <th>column_6</th>\n",
       "    </tr>\n",
       "  </thead>\n",
       "  <tbody>\n",
       "    <tr>\n",
       "      <th>1</th>\n",
       "      <td>0.783671</td>\n",
       "      <td>0.769577</td>\n",
       "      <td>0.035965</td>\n",
       "      <td>0.499951</td>\n",
       "      <td>0.274938</td>\n",
       "      <td>0.374739</td>\n",
       "    </tr>\n",
       "    <tr>\n",
       "      <th>2</th>\n",
       "      <td>0.331603</td>\n",
       "      <td>Arunesh</td>\n",
       "      <td>0.548075</td>\n",
       "      <td>0.389194</td>\n",
       "      <td>0.185783</td>\n",
       "      <td>0.237719</td>\n",
       "    </tr>\n",
       "    <tr>\n",
       "      <th>3</th>\n",
       "      <td>0.013613</td>\n",
       "      <td>0.876963</td>\n",
       "      <td>0.342995</td>\n",
       "      <td>0.525738</td>\n",
       "      <td>0.296672</td>\n",
       "      <td>0.766649</td>\n",
       "    </tr>\n",
       "    <tr>\n",
       "      <th>4</th>\n",
       "      <td>0.848650</td>\n",
       "      <td>0.211757</td>\n",
       "      <td>0.354288</td>\n",
       "      <td>0.043538</td>\n",
       "      <td>0.752676</td>\n",
       "      <td>0.871217</td>\n",
       "    </tr>\n",
       "    <tr>\n",
       "      <th>5</th>\n",
       "      <td>0.085168</td>\n",
       "      <td>0.856597</td>\n",
       "      <td>0.355447</td>\n",
       "      <td>0.510978</td>\n",
       "      <td>0.258204</td>\n",
       "      <td>0.547002</td>\n",
       "    </tr>\n",
       "    <tr>\n",
       "      <th>6</th>\n",
       "      <td>0.147984</td>\n",
       "      <td>0.555852</td>\n",
       "      <td>0.003538</td>\n",
       "      <td>0.794346</td>\n",
       "      <td>0.726653</td>\n",
       "      <td>0.176312</td>\n",
       "    </tr>\n",
       "  </tbody>\n",
       "</table>\n",
       "</div>"
      ],
      "text/plain": [
       "   column_1  column_2  column_3  column_4  column_5  column_6\n",
       "1  0.783671  0.769577  0.035965  0.499951  0.274938  0.374739\n",
       "2  0.331603   Arunesh  0.548075  0.389194  0.185783  0.237719\n",
       "3  0.013613  0.876963  0.342995  0.525738  0.296672  0.766649\n",
       "4  0.848650  0.211757  0.354288  0.043538  0.752676  0.871217\n",
       "5  0.085168  0.856597  0.355447  0.510978  0.258204  0.547002\n",
       "6  0.147984  0.555852  0.003538  0.794346  0.726653  0.176312"
      ]
     },
     "execution_count": 204,
     "metadata": {},
     "output_type": "execute_result"
    }
   ],
   "source": [
    "df1"
   ]
  },
  {
   "cell_type": "code",
   "execution_count": 205,
   "id": "a376e7d8-8779-4378-ba92-bc3db8041464",
   "metadata": {},
   "outputs": [
    {
     "data": {
      "text/plain": [
       "column_1    False\n",
       "column_2     True\n",
       "column_3    False\n",
       "column_4    False\n",
       "column_5    False\n",
       "column_6    False\n",
       "dtype: bool"
      ]
     },
     "execution_count": 205,
     "metadata": {},
     "output_type": "execute_result"
    }
   ],
   "source": [
    "df1.dtypes=='object'"
   ]
  },
  {
   "cell_type": "code",
   "execution_count": 206,
   "id": "ccac6708-79df-4a63-8f8f-7237eba2f32c",
   "metadata": {},
   "outputs": [
    {
     "data": {
      "text/plain": [
       "1    0.769577\n",
       "2     Arunesh\n",
       "3    0.876963\n",
       "4    0.211757\n",
       "5    0.856597\n",
       "6    0.555852\n",
       "Name: column_2, dtype: object"
      ]
     },
     "execution_count": 206,
     "metadata": {},
     "output_type": "execute_result"
    }
   ],
   "source": [
    "df1['column_2']"
   ]
  },
  {
   "cell_type": "code",
   "execution_count": 207,
   "id": "99a63c4d-f16b-427c-8832-e7e52899fdde",
   "metadata": {},
   "outputs": [
    {
     "name": "stdout",
     "output_type": "stream",
     "text": [
      "we cant find mean value of this beacuse now it is categorical or string or object\n"
     ]
    }
   ],
   "source": [
    "print('we cant find mean value of this beacuse now it is categorical or string or object')"
   ]
  },
  {
   "cell_type": "code",
   "execution_count": 210,
   "id": "ff08d0b3-881d-48c7-b4f3-da6d8fc327aa",
   "metadata": {},
   "outputs": [
    {
     "name": "stdout",
     "output_type": "stream",
     "text": [
      "A window function executes a calculation across a related set of table rows to the current row. It is also called SQL analytic function. It uses values from one or different rows to return a value for each row. A distinct feature of a window function is the OVER clause.\n",
      "\n",
      "pandas supports 4 types of windowing operations:\n",
      "\n",
      "Rolling window: Generic fixed or variable sliding window over the values.\n",
      "\n",
      "Weighted window: Weighted, non-rectangular window supplied by the scipy.signal library.\n",
      "\n",
      "Expanding window: Accumulating window over the values.\n",
      "\n",
      "Exponentially Weighted window: Accumulating and exponentially weighted window over the values.\n",
      "\n"
     ]
    }
   ],
   "source": [
    "# Ans6\n",
    "print(\"A window function executes a calculation across a related set of table rows to the current row. It is also called SQL analytic function. It uses values from one or different rows to return a value for each row. A distinct feature of a window function is the OVER clause.\\n\")\n",
    "print('''pandas supports 4 types of windowing operations:\n",
    "\n",
    "Rolling window: Generic fixed or variable sliding window over the values.\n",
    "\n",
    "Weighted window: Weighted, non-rectangular window supplied by the scipy.signal library.\n",
    "\n",
    "Expanding window: Accumulating window over the values.\n",
    "\n",
    "Exponentially Weighted window: Accumulating and exponentially weighted window over the values.\n",
    "''')"
   ]
  },
  {
   "cell_type": "code",
   "execution_count": 14,
   "id": "8595e406-1b27-413d-b8ca-d4042fdb707c",
   "metadata": {},
   "outputs": [
    {
     "data": {
      "text/html": [
       "<div>\n",
       "<style scoped>\n",
       "    .dataframe tbody tr th:only-of-type {\n",
       "        vertical-align: middle;\n",
       "    }\n",
       "\n",
       "    .dataframe tbody tr th {\n",
       "        vertical-align: top;\n",
       "    }\n",
       "\n",
       "    .dataframe thead th {\n",
       "        text-align: right;\n",
       "    }\n",
       "</style>\n",
       "<table border=\"1\" class=\"dataframe\">\n",
       "  <thead>\n",
       "    <tr style=\"text-align: right;\">\n",
       "      <th></th>\n",
       "      <th>date</th>\n",
       "      <th>updated_date</th>\n",
       "      <th>month</th>\n",
       "      <th>Year</th>\n",
       "    </tr>\n",
       "  </thead>\n",
       "  <tbody>\n",
       "    <tr>\n",
       "      <th>0</th>\n",
       "      <td>04-03-2023</td>\n",
       "      <td>2023-04-03</td>\n",
       "      <td>4</td>\n",
       "      <td>2023</td>\n",
       "    </tr>\n",
       "  </tbody>\n",
       "</table>\n",
       "</div>"
      ],
      "text/plain": [
       "         date updated_date  month  Year\n",
       "0  04-03-2023   2023-04-03      4  2023"
      ]
     },
     "execution_count": 14,
     "metadata": {},
     "output_type": "execute_result"
    }
   ],
   "source": [
    "# Ans7\n",
    "import pandas as pd\n",
    "df_date=pd.DataFrame({'date':['04-03-2023']})\n",
    "df_date['updated_date']=pd.to_datetime(df_date['date'])\n",
    "df_date['month']=df_date['updated_date'].dt.month\n",
    "df_date['Year']=df_date['updated_date'].dt.year\n",
    "df_date"
   ]
  },
  {
   "cell_type": "code",
   "execution_count": 24,
   "id": "c034448e-9d35-4fc6-9d2c-175bc29433a5",
   "metadata": {},
   "outputs": [
    {
     "name": "stdin",
     "output_type": "stream",
     "text": [
      "Input date in mm-dd-yyyy format 12-12-2023\n",
      "Input date in mm-dd-yyyy format 13-12-2023\n"
     ]
    },
    {
     "name": "stdout",
     "output_type": "stream",
     "text": [
      "No of days= 1 Days\n",
      "Difference in Hours:  24 hours\n",
      "Total difference in minutes:  1440 minutes\n"
     ]
    },
    {
     "name": "stderr",
     "output_type": "stream",
     "text": [
      "/tmp/ipykernel_329/3052717420.py:11: UserWarning: Parsing dates in DD/MM/YYYY format when dayfirst=False (the default) was specified. This may lead to inconsistently parsed dates! Specify a format to ensure consistent parsing.\n",
      "  date2 = pd.to_datetime(input('Input date in mm-dd-yyyy format'))\n"
     ]
    }
   ],
   "source": [
    "# Ans8\n",
    "\n",
    "from datetime import date\n",
    " \n",
    "def numOfDays(date1, date2):\n",
    "    return (date2-date1).days\n",
    "     \n",
    "# Driver program\n",
    "date1 = pd.to_datetime(input('Input date in mm-dd-yyyy format'))\n",
    "date1\n",
    "date2 = pd.to_datetime(input('Input date in mm-dd-yyyy format'))\n",
    "date2\n",
    "minutes = (date2-date1).total_seconds() / 60\n",
    "Hours = minutes / 60\n",
    "\n",
    "print(\"No of days=\",numOfDays(date1, date2),\"Days\")\n",
    "print('Difference in Hours: ', int(Hours), 'hours')\n",
    "print('Total difference in minutes: ', int(minutes),'minutes')\n",
    "\n"
   ]
  },
  {
   "cell_type": "code",
   "execution_count": 23,
   "id": "9252c443-fcb9-4b48-b82a-e0c591030005",
   "metadata": {},
   "outputs": [],
   "source": [
    "# Ans9\n",
    "import pandas as pd\n",
    "import csv \n",
    "fields =['Student_Name', 'Student_Category']\n",
    "rows=[['Aman','Junior'],\n",
    "     ['Rohit','Junior'],\n",
    "     ['Raman','Senior'],\n",
    "     ['Arunesh','Topper'],\n",
    "     ['Raj','Average'],\n",
    "     ['Rajesh','Senior'],\n",
    "     ['Rajnish','Junior'],\n",
    "     ['Ankur','Average'],\n",
    "     ['Ratan','Topper'],\n",
    "     ['Bharat','Senior']\n",
    "     ]\n",
    "filename=\"Categorical_Data.csv\"\n",
    "with open(filename, 'w') as csvfile: \n",
    "    \n",
    "    csvwriter = csv.writer(csvfile) \n",
    "        \n",
    "    \n",
    "    csvwriter.writerow(fields) \n",
    "        \n",
    "    \n",
    "    csvwriter.writerows(rows)\n"
   ]
  },
  {
   "cell_type": "code",
   "execution_count": 24,
   "id": "e6995d43-c1cd-41ae-ada7-6ad51ca9df24",
   "metadata": {},
   "outputs": [],
   "source": [
    "df9=pd.read_csv(\"Categorical_Data.csv\")"
   ]
  },
  {
   "cell_type": "code",
   "execution_count": 25,
   "id": "485c5226-90cc-4556-90d7-94475ca0fadc",
   "metadata": {},
   "outputs": [
    {
     "data": {
      "text/html": [
       "<div>\n",
       "<style scoped>\n",
       "    .dataframe tbody tr th:only-of-type {\n",
       "        vertical-align: middle;\n",
       "    }\n",
       "\n",
       "    .dataframe tbody tr th {\n",
       "        vertical-align: top;\n",
       "    }\n",
       "\n",
       "    .dataframe thead th {\n",
       "        text-align: right;\n",
       "    }\n",
       "</style>\n",
       "<table border=\"1\" class=\"dataframe\">\n",
       "  <thead>\n",
       "    <tr style=\"text-align: right;\">\n",
       "      <th></th>\n",
       "      <th>Student_Name</th>\n",
       "      <th>Student_Category</th>\n",
       "    </tr>\n",
       "  </thead>\n",
       "  <tbody>\n",
       "    <tr>\n",
       "      <th>0</th>\n",
       "      <td>Aman</td>\n",
       "      <td>Junior</td>\n",
       "    </tr>\n",
       "    <tr>\n",
       "      <th>1</th>\n",
       "      <td>Rohit</td>\n",
       "      <td>Junior</td>\n",
       "    </tr>\n",
       "    <tr>\n",
       "      <th>2</th>\n",
       "      <td>Raman</td>\n",
       "      <td>Senior</td>\n",
       "    </tr>\n",
       "    <tr>\n",
       "      <th>3</th>\n",
       "      <td>Arunesh</td>\n",
       "      <td>Topper</td>\n",
       "    </tr>\n",
       "    <tr>\n",
       "      <th>4</th>\n",
       "      <td>Raj</td>\n",
       "      <td>Average</td>\n",
       "    </tr>\n",
       "    <tr>\n",
       "      <th>5</th>\n",
       "      <td>Rajesh</td>\n",
       "      <td>Senior</td>\n",
       "    </tr>\n",
       "    <tr>\n",
       "      <th>6</th>\n",
       "      <td>Rajnish</td>\n",
       "      <td>Junior</td>\n",
       "    </tr>\n",
       "    <tr>\n",
       "      <th>7</th>\n",
       "      <td>Ankur</td>\n",
       "      <td>Average</td>\n",
       "    </tr>\n",
       "    <tr>\n",
       "      <th>8</th>\n",
       "      <td>Ratan</td>\n",
       "      <td>Topper</td>\n",
       "    </tr>\n",
       "    <tr>\n",
       "      <th>9</th>\n",
       "      <td>Bharat</td>\n",
       "      <td>Senior</td>\n",
       "    </tr>\n",
       "  </tbody>\n",
       "</table>\n",
       "</div>"
      ],
      "text/plain": [
       "  Student_Name Student_Category\n",
       "0         Aman           Junior\n",
       "1        Rohit           Junior\n",
       "2        Raman           Senior\n",
       "3      Arunesh           Topper\n",
       "4          Raj          Average\n",
       "5       Rajesh           Senior\n",
       "6      Rajnish           Junior\n",
       "7        Ankur          Average\n",
       "8        Ratan           Topper\n",
       "9       Bharat           Senior"
      ]
     },
     "execution_count": 25,
     "metadata": {},
     "output_type": "execute_result"
    }
   ],
   "source": [
    "df9"
   ]
  },
  {
   "cell_type": "code",
   "execution_count": 31,
   "id": "cd346dc2-b983-4179-9bbe-34935b87a168",
   "metadata": {},
   "outputs": [],
   "source": [
    "df9['Code']=pd.factorize(df9.Student_Category)[0]"
   ]
  },
  {
   "cell_type": "code",
   "execution_count": 32,
   "id": "f22daee5-22d6-4085-90c7-111490921489",
   "metadata": {},
   "outputs": [
    {
     "data": {
      "text/html": [
       "<div>\n",
       "<style scoped>\n",
       "    .dataframe tbody tr th:only-of-type {\n",
       "        vertical-align: middle;\n",
       "    }\n",
       "\n",
       "    .dataframe tbody tr th {\n",
       "        vertical-align: top;\n",
       "    }\n",
       "\n",
       "    .dataframe thead th {\n",
       "        text-align: right;\n",
       "    }\n",
       "</style>\n",
       "<table border=\"1\" class=\"dataframe\">\n",
       "  <thead>\n",
       "    <tr style=\"text-align: right;\">\n",
       "      <th></th>\n",
       "      <th>Student_Name</th>\n",
       "      <th>Student_Category</th>\n",
       "      <th>Code</th>\n",
       "    </tr>\n",
       "  </thead>\n",
       "  <tbody>\n",
       "    <tr>\n",
       "      <th>0</th>\n",
       "      <td>Aman</td>\n",
       "      <td>Junior</td>\n",
       "      <td>0</td>\n",
       "    </tr>\n",
       "    <tr>\n",
       "      <th>1</th>\n",
       "      <td>Rohit</td>\n",
       "      <td>Junior</td>\n",
       "      <td>0</td>\n",
       "    </tr>\n",
       "    <tr>\n",
       "      <th>2</th>\n",
       "      <td>Raman</td>\n",
       "      <td>Senior</td>\n",
       "      <td>1</td>\n",
       "    </tr>\n",
       "    <tr>\n",
       "      <th>3</th>\n",
       "      <td>Arunesh</td>\n",
       "      <td>Topper</td>\n",
       "      <td>2</td>\n",
       "    </tr>\n",
       "    <tr>\n",
       "      <th>4</th>\n",
       "      <td>Raj</td>\n",
       "      <td>Average</td>\n",
       "      <td>3</td>\n",
       "    </tr>\n",
       "    <tr>\n",
       "      <th>5</th>\n",
       "      <td>Rajesh</td>\n",
       "      <td>Senior</td>\n",
       "      <td>1</td>\n",
       "    </tr>\n",
       "    <tr>\n",
       "      <th>6</th>\n",
       "      <td>Rajnish</td>\n",
       "      <td>Junior</td>\n",
       "      <td>0</td>\n",
       "    </tr>\n",
       "    <tr>\n",
       "      <th>7</th>\n",
       "      <td>Ankur</td>\n",
       "      <td>Average</td>\n",
       "      <td>3</td>\n",
       "    </tr>\n",
       "    <tr>\n",
       "      <th>8</th>\n",
       "      <td>Ratan</td>\n",
       "      <td>Topper</td>\n",
       "      <td>2</td>\n",
       "    </tr>\n",
       "    <tr>\n",
       "      <th>9</th>\n",
       "      <td>Bharat</td>\n",
       "      <td>Senior</td>\n",
       "      <td>1</td>\n",
       "    </tr>\n",
       "  </tbody>\n",
       "</table>\n",
       "</div>"
      ],
      "text/plain": [
       "  Student_Name Student_Category  Code\n",
       "0         Aman           Junior     0\n",
       "1        Rohit           Junior     0\n",
       "2        Raman           Senior     1\n",
       "3      Arunesh           Topper     2\n",
       "4          Raj          Average     3\n",
       "5       Rajesh           Senior     1\n",
       "6      Rajnish           Junior     0\n",
       "7        Ankur          Average     3\n",
       "8        Ratan           Topper     2\n",
       "9       Bharat           Senior     1"
      ]
     },
     "execution_count": 32,
     "metadata": {},
     "output_type": "execute_result"
    }
   ],
   "source": [
    "df9"
   ]
  },
  {
   "cell_type": "code",
   "execution_count": 39,
   "id": "3ec8d02a-97d4-4a64-a9f1-0b1f63db0e26",
   "metadata": {},
   "outputs": [
    {
     "data": {
      "text/html": [
       "<div>\n",
       "<style scoped>\n",
       "    .dataframe tbody tr th:only-of-type {\n",
       "        vertical-align: middle;\n",
       "    }\n",
       "\n",
       "    .dataframe tbody tr th {\n",
       "        vertical-align: top;\n",
       "    }\n",
       "\n",
       "    .dataframe thead th {\n",
       "        text-align: right;\n",
       "    }\n",
       "</style>\n",
       "<table border=\"1\" class=\"dataframe\">\n",
       "  <thead>\n",
       "    <tr style=\"text-align: right;\">\n",
       "      <th></th>\n",
       "      <th>Student_Name</th>\n",
       "      <th>Student_Category</th>\n",
       "      <th>Code</th>\n",
       "    </tr>\n",
       "  </thead>\n",
       "  <tbody>\n",
       "    <tr>\n",
       "      <th>0</th>\n",
       "      <td>Aman</td>\n",
       "      <td>Junior</td>\n",
       "      <td>0</td>\n",
       "    </tr>\n",
       "    <tr>\n",
       "      <th>1</th>\n",
       "      <td>Rohit</td>\n",
       "      <td>Junior</td>\n",
       "      <td>0</td>\n",
       "    </tr>\n",
       "    <tr>\n",
       "      <th>6</th>\n",
       "      <td>Rajnish</td>\n",
       "      <td>Junior</td>\n",
       "      <td>0</td>\n",
       "    </tr>\n",
       "    <tr>\n",
       "      <th>2</th>\n",
       "      <td>Raman</td>\n",
       "      <td>Senior</td>\n",
       "      <td>1</td>\n",
       "    </tr>\n",
       "    <tr>\n",
       "      <th>5</th>\n",
       "      <td>Rajesh</td>\n",
       "      <td>Senior</td>\n",
       "      <td>1</td>\n",
       "    </tr>\n",
       "    <tr>\n",
       "      <th>9</th>\n",
       "      <td>Bharat</td>\n",
       "      <td>Senior</td>\n",
       "      <td>1</td>\n",
       "    </tr>\n",
       "    <tr>\n",
       "      <th>3</th>\n",
       "      <td>Arunesh</td>\n",
       "      <td>Topper</td>\n",
       "      <td>2</td>\n",
       "    </tr>\n",
       "    <tr>\n",
       "      <th>8</th>\n",
       "      <td>Ratan</td>\n",
       "      <td>Topper</td>\n",
       "      <td>2</td>\n",
       "    </tr>\n",
       "    <tr>\n",
       "      <th>4</th>\n",
       "      <td>Raj</td>\n",
       "      <td>Average</td>\n",
       "      <td>3</td>\n",
       "    </tr>\n",
       "    <tr>\n",
       "      <th>7</th>\n",
       "      <td>Ankur</td>\n",
       "      <td>Average</td>\n",
       "      <td>3</td>\n",
       "    </tr>\n",
       "  </tbody>\n",
       "</table>\n",
       "</div>"
      ],
      "text/plain": [
       "  Student_Name Student_Category  Code\n",
       "0         Aman           Junior     0\n",
       "1        Rohit           Junior     0\n",
       "6      Rajnish           Junior     0\n",
       "2        Raman           Senior     1\n",
       "5       Rajesh           Senior     1\n",
       "9       Bharat           Senior     1\n",
       "3      Arunesh           Topper     2\n",
       "8        Ratan           Topper     2\n",
       "4          Raj          Average     3\n",
       "7        Ankur          Average     3"
      ]
     },
     "execution_count": 39,
     "metadata": {},
     "output_type": "execute_result"
    }
   ],
   "source": [
    "df9.sort_values('Code')"
   ]
  },
  {
   "cell_type": "code",
   "execution_count": 27,
   "id": "bf055898-27f2-47ca-931e-77d11f68d099",
   "metadata": {},
   "outputs": [],
   "source": [
    "# Ans11\n",
    "import pandas as pd\n",
    "import csv \n",
    "fields =['Student ID', 'Test Score']\n",
    "rows=[[1,85],\n",
    "     [2,90],\n",
    "     [3,80],\n",
    "     [4,75],\n",
    "     [5,85],\n",
    "     [6,82],\n",
    "     [7,78],\n",
    "     [8,85],\n",
    "     [9,90],\n",
    "     [10,85]\n",
    "     ]\n",
    "filename=\"student_data.csv\"\n",
    "with open(filename, 'w') as csvfile: \n",
    "    \n",
    "    csvwriter = csv.writer(csvfile) \n",
    "        \n",
    "    \n",
    "    csvwriter.writerow(fields) \n",
    "        \n",
    "    \n",
    "    csvwriter.writerows(rows)"
   ]
  },
  {
   "cell_type": "code",
   "execution_count": 5,
   "id": "1dd6d9f4-77a1-439e-b4fb-be6e8daa25a4",
   "metadata": {},
   "outputs": [],
   "source": [
    "df1=pd.read_csv(\"student_data.csv\")"
   ]
  },
  {
   "cell_type": "code",
   "execution_count": 28,
   "id": "4f79268a-f46e-477e-927e-e6924d54042a",
   "metadata": {},
   "outputs": [
    {
     "data": {
      "text/plain": [
       "83.5"
      ]
     },
     "execution_count": 28,
     "metadata": {},
     "output_type": "execute_result"
    }
   ],
   "source": [
    "df_mean=df1['Test Score'].mean()\n",
    "df_mean"
   ]
  },
  {
   "cell_type": "code",
   "execution_count": 30,
   "id": "02a69b0d-2e4a-479f-9975-295b0a787cf8",
   "metadata": {},
   "outputs": [
    {
     "data": {
      "text/plain": [
       "85.0"
      ]
     },
     "execution_count": 30,
     "metadata": {},
     "output_type": "execute_result"
    }
   ],
   "source": [
    "df_median=df1['Test Score'].median()\n",
    "df_median"
   ]
  },
  {
   "cell_type": "code",
   "execution_count": 32,
   "id": "01169352-0528-42b7-bdcf-1b2f7fbdb573",
   "metadata": {},
   "outputs": [
    {
     "data": {
      "text/plain": [
       "0    85\n",
       "Name: Test Score, dtype: int64"
      ]
     },
     "execution_count": 32,
     "metadata": {},
     "output_type": "execute_result"
    }
   ],
   "source": [
    "df_mode=df1['Test Score'].mode()\n",
    "df_mode"
   ]
  },
  {
   "cell_type": "code",
   "execution_count": 44,
   "id": "3af69c46-b175-40fd-8908-83325ecd6832",
   "metadata": {},
   "outputs": [
    {
     "data": {
      "text/html": [
       "<div>\n",
       "<style scoped>\n",
       "    .dataframe tbody tr th:only-of-type {\n",
       "        vertical-align: middle;\n",
       "    }\n",
       "\n",
       "    .dataframe tbody tr th {\n",
       "        vertical-align: top;\n",
       "    }\n",
       "\n",
       "    .dataframe thead th {\n",
       "        text-align: right;\n",
       "    }\n",
       "</style>\n",
       "<table border=\"1\" class=\"dataframe\">\n",
       "  <thead>\n",
       "    <tr style=\"text-align: right;\">\n",
       "      <th></th>\n",
       "      <th>Statistic|Value|</th>\n",
       "    </tr>\n",
       "  </thead>\n",
       "  <tbody>\n",
       "    <tr>\n",
       "      <th>Man</th>\n",
       "      <td>83.5</td>\n",
       "    </tr>\n",
       "    <tr>\n",
       "      <th>Median</th>\n",
       "      <td>85.0</td>\n",
       "    </tr>\n",
       "    <tr>\n",
       "      <th>Mode</th>\n",
       "      <td>0    85\n",
       "Name: Test Score, dtype: int64</td>\n",
       "    </tr>\n",
       "  </tbody>\n",
       "</table>\n",
       "</div>"
      ],
      "text/plain": [
       "                              Statistic|Value|\n",
       "Man                                       83.5\n",
       "Median                                    85.0\n",
       "Mode    0    85\n",
       "Name: Test Score, dtype: int64"
      ]
     },
     "execution_count": 44,
     "metadata": {},
     "output_type": "execute_result"
    }
   ],
   "source": [
    "pd.DataFrame({'Statistic|Value|':[df_mean, df_median,df_mode]},index=['Man','Median','Mode'])"
   ]
  },
  {
   "cell_type": "code",
   "execution_count": null,
   "id": "4a5deee6-8260-4cfb-a59f-2ffdd27ff657",
   "metadata": {},
   "outputs": [],
   "source": []
  },
  {
   "cell_type": "code",
   "execution_count": null,
   "id": "18d00287-651a-4df7-9c0f-d1e68e22e70b",
   "metadata": {},
   "outputs": [],
   "source": []
  }
 ],
 "metadata": {
  "kernelspec": {
   "display_name": "Python 3 (ipykernel)",
   "language": "python",
   "name": "python3"
  },
  "language_info": {
   "codemirror_mode": {
    "name": "ipython",
    "version": 3
   },
   "file_extension": ".py",
   "mimetype": "text/x-python",
   "name": "python",
   "nbconvert_exporter": "python",
   "pygments_lexer": "ipython3",
   "version": "3.10.8"
  }
 },
 "nbformat": 4,
 "nbformat_minor": 5
}
