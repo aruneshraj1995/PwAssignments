{
 "cells": [
  {
   "cell_type": "code",
   "execution_count": 3,
   "id": "c747f180-e5e1-4cf0-b24b-8765b50d0900",
   "metadata": {},
   "outputs": [
    {
     "name": "stdout",
     "output_type": "stream",
     "text": [
      "\n",
      "DataBase: A database is an organized collection of structured information, or data, typically stored electronically in a computer system. A database is usually controlled by a database management system (DBMS).\n",
      "\n",
      "Diff:\n",
      "SQL databases are vertically scalable, while NoSQL databases are horizontally scalable. SQL databases are table-based, while NoSQL databases are document, key-value, graph, or wide-column stores. SQL databases are better for multi-row transactions, while NoSQL is better for unstructured data like documents or JSON.\n",
      "\n"
     ]
    }
   ],
   "source": [
    "# Ans1\n",
    "print('''\n",
    "DataBase: A database is an organized collection of structured information, or data, typically stored electronically in a computer system. A database is usually controlled by a database management system (DBMS).\n",
    "\n",
    "Diff:\n",
    "SQL databases are vertically scalable, while NoSQL databases are horizontally scalable. SQL databases are table-based, while NoSQL databases are document, key-value, graph, or wide-column stores. SQL databases are better for multi-row transactions, while NoSQL is better for unstructured data like documents or JSON.\n",
    "''')"
   ]
  },
  {
   "cell_type": "code",
   "execution_count": 5,
   "id": "0f42a66a-16a3-4ac4-9361-9ac3c91c37ab",
   "metadata": {},
   "outputs": [
    {
     "name": "stdout",
     "output_type": "stream",
     "text": [
      "\n",
      "DDL: Data Definition Language (DDL) is a subset of SQL. It is a language for describing data and its relationships in a database. You can generate DDL in a script for database objects to: Keep a snapshot of the database structure.\n",
      "\n",
      "CREATE:  CREATE Command is usd to create new database, tabel in a Database\n",
      "\n",
      "DROP: The DROP Command drops the complete table from the database\n",
      "\n",
      "ALTER: The ALTER command is a DDL command to modify the structure of existing tables in the database by adding, modifying, renaming, or dropping columns and constraints\n",
      "\n",
      "TRUNCATE:The TRUNCATE TABLE command deletes the data inside a table, but not the table itself.\n",
      "\n",
      "\n"
     ]
    }
   ],
   "source": [
    "# Ans2\n",
    "print('''\n",
    "DDL: Data Definition Language (DDL) is a subset of SQL. It is a language for describing data and its relationships in a database. You can generate DDL in a script for database objects to: Keep a snapshot of the database structure.\n",
    "\n",
    "CREATE:  CREATE Command is usd to create new database, tabel in a Database\n",
    "\n",
    "DROP: The DROP Command drops the complete table from the database\n",
    "\n",
    "ALTER: The ALTER command is a DDL command to modify the structure of existing tables in the database by adding, modifying, renaming, or dropping columns and constraints\n",
    "\n",
    "TRUNCATE:The TRUNCATE TABLE command deletes the data inside a table, but not the table itself.\n",
    "\n",
    "''')"
   ]
  },
  {
   "cell_type": "code",
   "execution_count": 6,
   "id": "c4373f2b-9e09-4908-85c4-0ae05b408c65",
   "metadata": {},
   "outputs": [
    {
     "name": "stdout",
     "output_type": "stream",
     "text": [
      "\n",
      "DML: A data manipulation language (DML) is a computer programming language used for adding (inserting), deleting, and modifying (updating) data in a database\n",
      "\n"
     ]
    }
   ],
   "source": [
    "# Ans3\n",
    "print('''\n",
    "DML: A data manipulation language (DML) is a computer programming language used for adding (inserting), deleting, and modifying (updating) data in a database\n",
    "\n",
    "The INSERT statement introduces new rows into an existing table.\n",
    "The DELETE statement removes a row or combination of rows from a table.\n",
    "The UPDATE statement enables users to update a row or group of rows in a table.\n",
    "''')"
   ]
  },
  {
   "cell_type": "code",
   "execution_count": 8,
   "id": "f453d066-edf4-4ebe-971a-d4a9e56dd1a9",
   "metadata": {},
   "outputs": [
    {
     "name": "stdout",
     "output_type": "stream",
     "text": [
      "\n",
      "DQL:Data query language (DQL) is part of the base grouping of SQL sub-languages. These sub-languages are mainly categorized into four categories: a data query language (DQL), a data definition language (DDL), a data control language (DCL), and a data manipulation language (DML).\n",
      "\n",
      "Select command is used to fetch the data in a set of records from a table, view or a group of tables, views by making use of SQL joins. The simplest example of a select statement where in a user wants to, retrieve all the records of a table, can be performed by using '*'.\n",
      "\n",
      "\n"
     ]
    }
   ],
   "source": [
    "# Ans4\n",
    "print('''\n",
    "DQL:Data query language (DQL) is part of the base grouping of SQL sub-languages. These sub-languages are mainly categorized into four categories: a data query language (DQL), a data definition language (DDL), a data control language (DCL), and a data manipulation language (DML).\n",
    "\n",
    "Select command is used to fetch the data in a set of records from a table, view or a group of tables, views by making use of SQL joins. The simplest example of a select statement where in a user wants to, retrieve all the records of a table, can be performed by using '*'.\n",
    "\n",
    "''')"
   ]
  },
  {
   "cell_type": "code",
   "execution_count": 12,
   "id": "8adb8f82-337a-4d79-83da-e1f9368a816e",
   "metadata": {},
   "outputs": [
    {
     "name": "stdout",
     "output_type": "stream",
     "text": [
      "\n",
      "A primary key generally focuses on the uniqueness of the table. It assures the value in the specific column is unique. A foreign key is generally used to build a relationship between the two tables.\n",
      "\n"
     ]
    }
   ],
   "source": [
    "# Ans5\n",
    "print('''\n",
    "A primary key generally focuses on the uniqueness of the table. It assures the value in the specific column is unique. A foreign key is generally used to build a relationship between the two tables.\n",
    "''')"
   ]
  },
  {
   "cell_type": "code",
   "execution_count": 15,
   "id": "ce69fadc-8a85-45f8-b517-b8ba3f9c097c",
   "metadata": {},
   "outputs": [
    {
     "name": "stdout",
     "output_type": "stream",
     "text": [
      "following python code we may use to connect python with sql\n"
     ]
    },
    {
     "ename": "ModuleNotFoundError",
     "evalue": "No module named 'mysql'",
     "output_type": "error",
     "traceback": [
      "\u001b[0;31m---------------------------------------------------------------------------\u001b[0m",
      "\u001b[0;31mModuleNotFoundError\u001b[0m                       Traceback (most recent call last)",
      "Cell \u001b[0;32mIn[15], line 3\u001b[0m\n\u001b[1;32m      1\u001b[0m \u001b[38;5;66;03m# Ans6\u001b[39;00m\n\u001b[1;32m      2\u001b[0m \u001b[38;5;28mprint\u001b[39m(\u001b[38;5;124m\"\u001b[39m\u001b[38;5;124mfollowing python code we may use to connect python with sql\u001b[39m\u001b[38;5;124m\"\u001b[39m)\n\u001b[0;32m----> 3\u001b[0m \u001b[38;5;28;01mimport\u001b[39;00m \u001b[38;5;21;01mmysql\u001b[39;00m\u001b[38;5;21;01m.\u001b[39;00m\u001b[38;5;21;01mconnector\u001b[39;00m\n\u001b[1;32m      4\u001b[0m mydb \u001b[38;5;241m=\u001b[39m mysql\u001b[38;5;241m.\u001b[39mconnector\u001b[38;5;241m.\u001b[39mconnect(\n\u001b[1;32m      5\u001b[0m   host\u001b[38;5;241m=\u001b[39m\u001b[38;5;124m\"\u001b[39m\u001b[38;5;124mlocalhost\u001b[39m\u001b[38;5;124m\"\u001b[39m,\n\u001b[1;32m      6\u001b[0m   user\u001b[38;5;241m=\u001b[39m\u001b[38;5;124m\"\u001b[39m\u001b[38;5;124mabc\u001b[39m\u001b[38;5;124m\"\u001b[39m,\n\u001b[1;32m      7\u001b[0m   password\u001b[38;5;241m=\u001b[39m\u001b[38;5;124m\"\u001b[39m\u001b[38;5;124mpassword\u001b[39m\u001b[38;5;124m\"\u001b[39m\n\u001b[1;32m      8\u001b[0m )\n\u001b[1;32m      9\u001b[0m mycursor \u001b[38;5;241m=\u001b[39m mydb\u001b[38;5;241m.\u001b[39mcursor()\n",
      "\u001b[0;31mModuleNotFoundError\u001b[0m: No module named 'mysql'"
     ]
    }
   ],
   "source": [
    "# Ans6\n",
    "print(\"following python code we may use to connect python with sql\")\n",
    "import mysql.connector\n",
    "mydb = mysql.connector.connect(\n",
    "  host=\"localhost\",\n",
    "  user=\"abc\",\n",
    "  password=\"password\"\n",
    ")\n",
    "mycursor = mydb.cursor()\n",
    "mycursor.execute(\"select*from test2.test_table\")\n",
    "for i in mycursor.fetchall() :\n",
    "    print(i)\n",
    "mydb.close()\n",
    "\n",
    "print('''\n",
    "\n",
    "Cursor(): A cursor keeps track of the position in the result set, and allows you to perform multiple operations row by row against a result set, with or without returning to the original table\n",
    "\n",
    "execute(): The EXEC command is used to execute a stored procedure, or a SQL string passed to it. You can also use full command EXECUTE which is the same as EXEC.\n",
    "\n",
    "''')"
   ]
  },
  {
   "cell_type": "code",
   "execution_count": 16,
   "id": "5a439da9-fb2d-467b-b8aa-a41682d8e308",
   "metadata": {},
   "outputs": [
    {
     "name": "stdout",
     "output_type": "stream",
     "text": [
      "\n",
      "The order in which the clauses in queries are executed is as follows:\n",
      "\n",
      "1. FROM/JOIN: The FROM and/or JOIN clauses are executed first to determine the data of interest.\n",
      "\n",
      "2. WHERE: The WHERE clause is executed to filter out records that do not meet the constraints.\n",
      "\n",
      "3. GROUP BY: The GROUP BY clause is executed to group the data based on the values in one or more columns.\n",
      "\n",
      "4. HAVING: The HAVING clause is executed to remove the created grouped records that don’t meet the constraints.\n",
      "\n",
      "5. SELECT: The SELECT clause is executed to derive all desired columns and expressions.\n",
      "\n",
      "6. ORDER BY: The ORDER BY clause is executed to sort the derived values in ascending or descending order.\n",
      "\n",
      "7. LIMIT/OFFSET: Finally, the LIMIT and/or OFFSET clauses are executed to keep or skip a specified number of rows.\n",
      "\n"
     ]
    }
   ],
   "source": [
    "# Ans7\n",
    "print('''\n",
    "The order in which the clauses in queries are executed is as follows:\n",
    "\n",
    "1. FROM/JOIN: The FROM and/or JOIN clauses are executed first to determine the data of interest.\n",
    "\n",
    "2. WHERE: The WHERE clause is executed to filter out records that do not meet the constraints.\n",
    "\n",
    "3. GROUP BY: The GROUP BY clause is executed to group the data based on the values in one or more columns.\n",
    "\n",
    "4. HAVING: The HAVING clause is executed to remove the created grouped records that don’t meet the constraints.\n",
    "\n",
    "5. SELECT: The SELECT clause is executed to derive all desired columns and expressions.\n",
    "\n",
    "6. ORDER BY: The ORDER BY clause is executed to sort the derived values in ascending or descending order.\n",
    "\n",
    "7. LIMIT/OFFSET: Finally, the LIMIT and/or OFFSET clauses are executed to keep or skip a specified number of rows.\n",
    "''')"
   ]
  },
  {
   "cell_type": "code",
   "execution_count": null,
   "id": "4adaf5f8-46a8-4414-bc70-8c4314c4ebb6",
   "metadata": {},
   "outputs": [],
   "source": []
  }
 ],
 "metadata": {
  "kernelspec": {
   "display_name": "Python 3 (ipykernel)",
   "language": "python",
   "name": "python3"
  },
  "language_info": {
   "codemirror_mode": {
    "name": "ipython",
    "version": 3
   },
   "file_extension": ".py",
   "mimetype": "text/x-python",
   "name": "python",
   "nbconvert_exporter": "python",
   "pygments_lexer": "ipython3",
   "version": "3.10.8"
  }
 },
 "nbformat": 4,
 "nbformat_minor": 5
}
