{
 "cells": [
  {
   "cell_type": "markdown",
   "id": "211052a5-9e2a-433e-8bc9-f99fe3f64dcf",
   "metadata": {},
   "source": [
    "## Ans1\n",
    "\n",
    "- probability density function (PDF), in statistics, a function whose integral is calculated to find probabilities associated with a continuous random variable (see continuity; probability theory). Its graph is a curve above the horizontal axis that defines a total area, between itself and the axis, of 1\n",
    "\n",
    "- A probability mass function (pmf) is a function over the sample space of a discrete random variable X which gives the probability that X is equal to a certain value. f(x)=P[X=x]. f ( x ) = P [ X = x ] .\n",
    "\n",
    "Example:\n",
    "Let X be the random variable that shows how many heads are obtained. X can take on the values 0, 1, 2. The probability that X will be equal to 1 is 0.5. Thus, it can be said that the probability mass function of X evaluated at 1 will be 0.5."
   ]
  },
  {
   "cell_type": "markdown",
   "id": "b3901df6-4794-4fe9-9210-110fd68aa9d2",
   "metadata": {},
   "source": [
    "## Ans2\n",
    "\n",
    "- The Cumulative Density Function (CDF) is a mathematical concept used in probability theory to describe the probability distribution of a random variable. In simple terms, it is a function that maps the probability of a random variable taking a value less than or equal to a specific value.\n",
    "\n",
    "The CDF of a continuous random variable X is defined as F(x) = P(X ≤ x), where P is the probability function. It represents the cumulative probability distribution of X up to the value x.\n",
    "\n",
    "For example, let's say we have a continuous random variable X, which represents the heights of a group of people in a certain population. If we want to calculate the CDF of X at a particular value of height, say x=175cm, we would find the probability of a person being less than or equal to 175cm in height. This would give us the cumulative probability of X up to the value of 175cm.\n",
    "\n",
    "CDFs are used to calculate a variety of statistics such as the mean, median, and mode of a probability distribution, as well as to estimate the probability of specific events occurring. They are also useful in analyzing the performance of systems, as they can be used to calculate the probability of certain outcomes or events occurring. In short, CDFs provide a comprehensive understanding of the probability distribution of a random variable, making them an essential tool in probability theory and statistics.\n"
   ]
  },
  {
   "cell_type": "markdown",
   "id": "36cc2056-d5e3-4fde-bee7-4fc35fe54ce8",
   "metadata": {},
   "source": [
    "## Ans3\n",
    "\n",
    "The normal distribution, also known as the Gaussian distribution, is a commonly used probability distribution in statistics. It is used to model a wide range of real-world phenomena where the values tend to cluster around a central value with decreasing frequency towards both sides. Here are some examples of situations where the normal distribution might be used as a model:\n",
    "\n",
    "- Heights of people in a population\n",
    "- Weights of objects produced by a manufacturing process\n",
    "- IQ scores of a population\n",
    "- The amount of rainfall in a region\n",
    "- The measurement errors in experiments\n",
    "\n",
    "The normal distribution is characterized by two parameters, the mean (μ) and the standard deviation (σ). The mean represents the central tendency of the distribution, or where the distribution is centered. The standard deviation represents the spread of the distribution, or how much the values deviate from the mean.\n",
    "\n",
    "The mean is the value at which the distribution is symmetric, and it is also the highest point of the distribution. The standard deviation determines the width of the distribution. A smaller standard deviation corresponds to a narrower distribution, while a larger standard deviation corresponds to a wider distribution.\n",
    "\n",
    "The parameters of the normal distribution can be used to calculate the probabilities of different values occurring within the distribution. For example, the probability of a value falling within one standard deviation of the mean is approximately 68%, while the probability of a value falling within two standard deviations of the mean is approximately 95%.\n",
    "\n"
   ]
  },
  {
   "cell_type": "markdown",
   "id": "349a0372-19f7-43c2-8bf0-fea045812c21",
   "metadata": {},
   "source": [
    "## Ans4\n",
    "\n",
    "The normal distribution, also known as the Gaussian distribution, is an important concept in statistics and probability theory. It is widely used in many fields because of its many attractive properties. Here are some reasons why normal distribution is important:\n",
    "\n",
    "- The central limit theorem: The normal distribution is a crucial component of the central limit theorem, which states that the sum of a large number of independent random variables tends to follow a normal distribution, regardless of the original distribution. This property makes the normal distribution a useful tool in many areas of research, especially in experimental sciences.\n",
    "\n",
    "- Approximation of real-world phenomena: Many real-world phenomena, such as the heights of people, IQ scores, and measurement errors, can be modeled using the normal distribution. The normal distribution is particularly useful for modeling continuous data, as it provides a way to estimate the probability of a given outcome.\n",
    "\n",
    "- Statistical inference: The normal distribution is widely used in statistical inference, which is the process of drawing conclusions about a population based on a sample of data. Many statistical tests, such as t-tests and ANOVA, assume that the data follows a normal distribution.\n",
    "\n",
    "Here are a few real-life examples of normal distribution:\n",
    "\n",
    "- Heights of people in a population: The heights of people in a population typically follow a normal distribution, with the mean height around 5'7\" and the standard deviation around 3 inches.\n",
    "\n",
    "- Exam scores: In many educational systems, exam scores are graded on a curve, which assumes that the distribution of scores follows a normal distribution. This approach allows for fair grading and helps to account for variations in the difficulty of different exams.\n",
    "\n",
    "- Weights of objects produced by a manufacturing process: The weights of objects produced by a manufacturing process often follow a normal distribution, with the mean weight around the target weight and the standard deviation indicating the variability in the weights.\n",
    "\n",
    "- Stock prices: The daily changes in stock prices are often assumed to follow a normal distribution, although this assumption is often debated. This assumption allows for the calculation of probabilities related to stock prices and helps to inform investment decisions.\n",
    "\n"
   ]
  },
  {
   "cell_type": "markdown",
   "id": "421e014e-e05d-430b-857c-e98b727ef755",
   "metadata": {},
   "source": [
    "## Ans5\n",
    "\n",
    "- The Bernoulli distribution is a discrete probability distribution that models a random experiment with only two possible outcomes, often referred to as \"success\" and \"failure\". It is named after the Swiss mathematician Jacob Bernoulli, who introduced the concept in the late 17th century.\n",
    "\n",
    "The Bernoulli distribution is defined by a single parameter, p, which represents the probability of success in a single trial. The probability of failure is simply 1-p. The distribution can be expressed as follows:\n",
    "\n",
    "P(X = 1) = p\n",
    "P(X = 0) = 1 - p\n",
    "\n",
    "where X is the random variable representing the outcome of the experiment.\n",
    "\n",
    "An example of the Bernoulli distribution is flipping a fair coin, where the outcome of heads can be considered a success (p=0.5) and the outcome of tails can be considered a failure (1-p=0.5).\n",
    "\n",
    "- The binomial distribution, on the other hand, models a sequence of Bernoulli trials with a fixed number of trials, n. The binomial distribution counts the number of successes in n independent trials and is characterized by two parameters, p (the probability of success in a single trial) and n (the number of trials). The binomial distribution can be expressed as follows:\n",
    "\n",
    "P(X = k) = (n choose k) * p^k * (1-p)^(n-k)\n",
    "\n",
    "where X is the random variable representing the number of successes in n trials, k is a non-negative integer less than or equal to n, and (n choose k) is the binomial coefficient.\n",
    "\n",
    "The key difference between the Bernoulli and binomial distributions is that the Bernoulli distribution models a single trial with only two possible outcomes, while the binomial distribution models multiple trials with a fixed number of trials and counts the number of successes. In other words, the Bernoulli distribution is a special case of the binomial distribution with n=1."
   ]
  },
  {
   "cell_type": "markdown",
   "id": "59767fb4-08da-40f1-93e3-7bff508baa5e",
   "metadata": {},
   "source": [
    "## Ans6\n",
    "\n",
    "Given:\n",
    "\n",
    "Mean (μ) = 50\n",
    "Standard deviation (σ) = 10\n",
    "Value of interest (X) = 60\n",
    "\n",
    "We want to find the probability of getting a value greater than 60 from a normally distributed dataset with a mean of 50 and a standard deviation of 10.\n",
    "\n",
    "Using the standard normal distribution, we can convert X into a z-score, which represents the number of standard deviations X is from the mean. The formula for calculating the z-score is:\n",
    "\n",
    "z = (X - μ) / σ\n",
    "\n",
    "Substituting the values we have:\n",
    "\n",
    "z = (60 - 50) / 10 = 1\n",
    "\n",
    "Using a standard normal distribution table or calculator, we can find the probability of getting a value greater than the z-score of 1. This probability is approximately 0.1587.\n",
    "\n",
    "Therefore, the probability of randomly selecting an observation greater than 60 from a normally distributed dataset with a mean of 50 and a standard deviation of 10 is approximately 0.1587 or 15.87%."
   ]
  },
  {
   "cell_type": "markdown",
   "id": "e1d7866f-42a9-4af6-8b84-96bb74f22f64",
   "metadata": {},
   "source": [
    "## Ans7\n",
    "\n",
    "The uniform distribution is a continuous probability distribution that models a situation where all values in a given interval are equally likely to occur. In other words, it is a distribution where the probability of any value within the interval is the same.\n",
    "\n",
    "For example, consider a scenario where a fair six-sided die is rolled. The possible outcomes are 1, 2, 3, 4, 5, and 6, each with an equal probability of occurring. This is an example of a discrete uniform distribution. However, if we consider a continuous interval, say the interval [0, 1], where any value between 0 and 1 is equally likely to occur, we have an example of a continuous uniform distribution.\n",
    "\n",
    "The probability density function (PDF) of the continuous uniform distribution is given by:\n",
    "\n",
    "f(x) = 1 / (b - a) for a <= x <= b\n",
    "\n",
    "where a is the lower bound of the interval, b is the upper bound of the interval, and x is any value in the interval [a, b]. The PDF is 0 outside the interval [a, b].\n",
    "\n",
    "The cumulative distribution function (CDF) of the uniform distribution is given by:\n",
    "\n",
    "F(x) = (x - a) / (b - a) for a <= x <= b\n",
    "\n",
    "F(x) = 0 for x < a\n",
    "\n",
    "F(x) = 1 for x > b\n",
    "\n",
    "where F(x) is the probability that a random variable X drawn from a uniform distribution with parameters a and b is less than or equal to x.\n",
    "\n",
    "The uniform distribution is often used as a simple model for situations where we have no prior knowledge or preference for any value in a given interval. For example, it may be used to model the time it takes for a website user to complete a task or the height of a randomly selected person from a population with a certain range of heights."
   ]
  },
  {
   "cell_type": "markdown",
   "id": "999f475d-25bf-4eae-a32b-8f992d25068c",
   "metadata": {},
   "source": [
    "## Ans8\n",
    "\n",
    "In statistics, a z-score (also known as a standard score) is a measure of how many standard deviations a data point is from the mean of a distribution. The z-score is calculated by subtracting the population mean from an individual raw score and then dividing the difference by the population standard deviation. Mathematically, the formula for calculating the z-score is:\n",
    "\n",
    "z = (x - μ) / σ\n",
    "\n",
    "where z is the z-score, x is the raw score, μ is the population mean, and σ is the population standard deviation.\n",
    "\n",
    "The importance of the z-score is that it allows us to compare individual data points from different normal distributions with different means and standard deviations. By converting the raw scores to z-scores, we can standardize the data and make meaningful comparisons between them. A positive z-score means that the raw score is above the mean, while a negative z-score means that the raw score is below the mean.\n",
    "\n",
    "For example, suppose we have two sets of data with different means and standard deviations. It's difficult to compare the two sets of data directly, but by converting the raw scores to z-scores, we can compare them on a common scale. A z-score of 1 in one set of data represents a value that is one standard deviation above the mean in that set, and a z-score of 1 in the other set of data represents a value that is one standard deviation above the mean in that set.\n",
    "\n",
    "The z-score is also useful for identifying outliers in a dataset. If a data point has a z-score that is significantly higher or lower than the other data points in the same dataset, it may be an outlier that needs further investigation."
   ]
  },
  {
   "cell_type": "markdown",
   "id": "7bbc1643-4533-4095-a5d7-cf197bb69564",
   "metadata": {},
   "source": [
    "## Ans9\n",
    "\n",
    "The Central Limit Theorem is a fundamental concept in probability theory and statistics that states that, under certain conditions, the sampling distribution of the sample mean of a random sample from any population will be approximately normally distributed, regardless of the shape of the original population distribution.\n",
    "\n",
    "In other words, if we take repeated random samples of size n from a population, the distribution of the sample means will tend to follow a normal distribution as the sample size gets larger, regardless of the underlying distribution of the population from which the samples were drawn.\n",
    "\n",
    "The significance of the Central Limit Theorem lies in its wide-ranging applications in statistics and data analysis. It provides a theoretical foundation for many statistical techniques that rely on the assumption of normality, such as hypothesis testing, confidence interval estimation, and regression analysis.\n",
    "\n",
    "Moreover, the Central Limit Theorem allows us to make inferences about the population mean even when the population distribution is not known or when it is not normally distributed. This is because the distribution of the sample means becomes increasingly normal as the sample size increases."
   ]
  },
  {
   "cell_type": "markdown",
   "id": "48218ea4-54fa-47da-952b-ccb1ff46a638",
   "metadata": {},
   "source": [
    "## Ans10\n",
    "\n",
    "The Central Limit Theorem (CLT) has certain assumptions that need to be met in order for it to be applicable:\n",
    "\n",
    "- Independence: The sample observations should be independent of each other.\n",
    "\n",
    "- Sample size: The sample size should be sufficiently large. Although there is no strict rule about what constitutes a \"sufficiently large\" sample size, a general guideline is that the sample size should be greater than or equal to 30.\n",
    "\n",
    "- Sample distribution: The population from which the sample is drawn should have a finite variance. If the variance of the population is infinite, then the CLT may not hold.\n",
    "\n",
    "- Random sampling: The sample should be drawn at random from the population. This means that each member of the population has an equal chance of being selected for the sample."
   ]
  },
  {
   "cell_type": "code",
   "execution_count": null,
   "id": "67a948c7-4287-49bd-8c73-b4f229c1bf29",
   "metadata": {},
   "outputs": [],
   "source": []
  }
 ],
 "metadata": {
  "kernelspec": {
   "display_name": "Python 3 (ipykernel)",
   "language": "python",
   "name": "python3"
  },
  "language_info": {
   "codemirror_mode": {
    "name": "ipython",
    "version": 3
   },
   "file_extension": ".py",
   "mimetype": "text/x-python",
   "name": "python",
   "nbconvert_exporter": "python",
   "pygments_lexer": "ipython3",
   "version": "3.10.8"
  }
 },
 "nbformat": 4,
 "nbformat_minor": 5
}
