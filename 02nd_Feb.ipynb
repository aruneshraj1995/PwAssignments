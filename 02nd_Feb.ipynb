{
 "cells": [
  {
   "cell_type": "code",
   "execution_count": 4,
   "id": "9ed71110-c184-4c93-9ed3-f9db774c88f5",
   "metadata": {},
   "outputs": [
    {
     "name": "stdout",
     "output_type": "stream",
     "text": [
      "Ans1. For loop is used when we know the number of iterations\n",
      "\n",
      "1\n",
      "2\n",
      "3\n",
      "4\n",
      "5\n",
      "6\n",
      "7\n",
      "8\n",
      "9\n",
      "While loop is used when we dont know the number of iterations but we know the stoping conditions\n",
      "\n"
     ]
    },
    {
     "name": "stdin",
     "output_type": "stream",
     "text": [
      "please enter your name 1233arun\n"
     ]
    },
    {
     "name": "stdout",
     "output_type": "stream",
     "text": [
      "please enter valid name\n"
     ]
    },
    {
     "name": "stdin",
     "output_type": "stream",
     "text": [
      "please enter your name Arun12\n"
     ]
    },
    {
     "name": "stdout",
     "output_type": "stream",
     "text": [
      "please enter valid name\n"
     ]
    },
    {
     "name": "stdin",
     "output_type": "stream",
     "text": [
      "please enter your name Arun\n"
     ]
    },
    {
     "name": "stdout",
     "output_type": "stream",
     "text": [
      "Arun\n"
     ]
    }
   ],
   "source": [
    "print( \"Ans1. For loop is used when we know the number of iterations\\n\") \n",
    "#Example of for loop\n",
    "\n",
    "for i in range(1,10):\n",
    "    print(i)\n",
    "    \n",
    "# here we know that we wwant to iterate a loop 10 times \n",
    "\n",
    "print(\"While loop is used when we dont know the number of iterations but we know the stoping conditions\\n\")\n",
    "\n",
    "while True:\n",
    "    name=input(\"please enter your name\")\n",
    "    if name.isalpha():\n",
    "        print(name)\n",
    "        break\n",
    "    else:\n",
    "        print(\"please enter valid name\")\n",
    "        continue\n",
    "#here we dont know how many times we have to iterate but we know the stoping condition."
   ]
  },
  {
   "cell_type": "code",
   "execution_count": 5,
   "id": "66e2b22a-48e7-4eb6-be49-932788d54682",
   "metadata": {},
   "outputs": [
    {
     "name": "stdout",
     "output_type": "stream",
     "text": [
      "3628800\n",
      "55\n"
     ]
    }
   ],
   "source": [
    "# Ans2\n",
    "# Program to pring Multiple of first 10 Natual number\n",
    "# 1*2*3*4*5*6*7*8*9*10\n",
    "i=1\n",
    "for j in range (1,11):\n",
    "    i=i*j\n",
    "print(i)\n",
    "\n",
    "# program to print Add of first 10 Natural Nunber\n",
    "# 0+1+2+3+4+5+6+7+8+9+10+11\n",
    "i=0\n",
    "for j in range (0,11):\n",
    "     i=i+j\n",
    "print(i)\n"
   ]
  },
  {
   "cell_type": "code",
   "execution_count": 5,
   "id": "a064234d-c12c-4bee-a048-0db54ef4258a",
   "metadata": {},
   "outputs": [
    {
     "name": "stdout",
     "output_type": "stream",
     "text": [
      "55\n",
      "3628800\n"
     ]
    }
   ],
   "source": [
    "# Ans2\n",
    "# program to print Add of first 10 Natural Nunber\n",
    "# 0+1+2+3+4+5+6+7+8+9+10+11\n",
    "i=0\n",
    "j=1\n",
    "while j<=10:\n",
    "    i=i+j\n",
    "    j=j+1\n",
    "print(i)\n",
    "\n",
    "# Program to pring Multiple of first 10 Natual number\n",
    "# 1*2*3*4*5*6*7*8*9*10\n",
    "i=1\n",
    "j=1\n",
    "while j <=10:\n",
    "    i=i*j\n",
    "    j=j+1\n",
    "print(i)"
   ]
  },
  {
   "cell_type": "code",
   "execution_count": 1,
   "id": "d66cf60c-e11a-4514-93b3-a8acd7fdecec",
   "metadata": {},
   "outputs": [
    {
     "name": "stdin",
     "output_type": "stream",
     "text": [
      "please enter number of units consumed in a month 310\n"
     ]
    },
    {
     "name": "stdout",
     "output_type": "stream",
     "text": [
      "2250.0\n"
     ]
    }
   ],
   "source": [
    "# Ans3\n",
    "n=int(input(\"please enter number of units consumed in a month\"))\n",
    "if n<=300:\n",
    "    if n<=100:\n",
    "        n=n*4.5\n",
    "        print(n)\n",
    "    elif n>100 or n<=200:\n",
    "        n=(100*4.5)+(n-100)*6\n",
    "        print(n)\n",
    "    else:\n",
    "        n=(100*4.5)+(100*6)+(n-200)*10\n",
    "        print(n)\n",
    "else: \n",
    "    n>300\n",
    "    n=(100*4.5)+(100*6)+(100*10)+(n-300)*20\n",
    "    print(n)"
   ]
  },
  {
   "cell_type": "code",
   "execution_count": 47,
   "id": "42ec7e37-12c6-4661-8d27-dd2c3996daac",
   "metadata": {},
   "outputs": [
    {
     "name": "stdout",
     "output_type": "stream",
     "text": [
      "LIST OF CUBE FROM 1-100 \n",
      "\n",
      "[1, 8, 27, 64, 125, 216, 343, 512, 729, 1000, 1331, 1728, 2197, 2744, 3375, 4096, 4913, 5832, 6859, 8000, 9261, 10648, 12167, 13824, 15625, 17576, 19683, 21952, 24389, 27000, 29791, 32768, 35937, 39304, 42875, 46656, 50653, 54872, 59319, 64000, 68921, 74088, 79507, 85184, 91125, 97336, 103823, 110592, 117649, 125000, 132651, 140608, 148877, 157464, 166375, 175616, 185193, 195112, 205379, 216000, 226981, 238328, 250047, 262144, 274625, 287496, 300763, 314432, 328509, 343000, 357911, 373248, 389017, 405224, 421875, 438976, 456533, 474552, 493039, 512000, 531441, 551368, 571787, 592704, 614125, 636056, 658503, 681472, 704969, 729000, 753571, 778688, 804357, 830584, 857375, 884736, 912673, 941192, 970299, 1000000] \n",
      "\n",
      "lIST OF CUBE THAT ARE DIVISBLE BY EITHER 4 OR 5 \n",
      "\n",
      "[8, 64, 125, 216, 512, 1000, 1728, 2744, 3375, 4096, 5832, 8000, 10648, 13824, 15625, 17576, 21952, 27000, 32768, 39304, 42875, 46656, 54872, 64000, 74088, 85184, 91125, 97336, 110592, 125000, 140608, 157464, 166375, 175616, 195112, 216000, 238328, 262144, 274625, 287496, 314432, 343000, 373248, 405224, 421875, 438976, 474552, 512000, 551368, 592704, 614125, 636056, 681472, 729000, 778688, 830584, 857375, 884736, 941192, 1000000]\n"
     ]
    }
   ],
   "source": [
    "# Ans4 \n",
    "print(\"LIST OF CUBE FROM 1-100 \\n\")\n",
    "l1=list(range(1,101))\n",
    "l2=[]\n",
    "l3=[]\n",
    "for i in l1:\n",
    "    l2.append(i*i*i)\n",
    "print(l2, \"\\n\")\n",
    "print(\"lIST OF CUBE THAT ARE DIVISBLE BY EITHER 4 OR 5 \\n\")\n",
    "for j in l2:\n",
    "    if j%5==0 or j%4==0:\n",
    "        l3.append(j)\n",
    "print(l3)"
   ]
  },
  {
   "cell_type": "code",
   "execution_count": null,
   "id": "4485f6ba-21a8-4981-9f79-888adacfe011",
   "metadata": {},
   "outputs": [
    {
     "name": "stdout",
     "output_type": "stream",
     "text": [
      "LIST OF CUBE FROM 1-100 \n",
      "\n",
      "[1, 8, 27, 64, 125, 216, 343, 512, 729, 1000, 1331, 1728, 2197, 2744, 3375, 4096, 4913, 5832, 6859, 8000, 9261, 10648, 12167, 13824, 15625, 17576, 19683, 21952, 24389, 27000, 29791, 32768, 35937, 39304, 42875, 46656, 50653, 54872, 59319, 64000, 68921, 74088, 79507, 85184, 91125, 97336, 103823, 110592, 117649, 125000, 132651, 140608, 148877, 157464, 166375, 175616, 185193, 195112, 205379, 216000, 226981, 238328, 250047, 262144, 274625, 287496, 300763, 314432, 328509, 343000, 357911, 373248, 389017, 405224, 421875, 438976, 456533, 474552, 493039, 512000, 531441, 551368, 571787, 592704, 614125, 636056, 658503, 681472, 704969, 729000, 753571, 778688, 804357, 830584, 857375, 884736, 912673, 941192, 970299, 1000000]\n",
      "lIST OF CUBE THAT ARE DIVISBLE BY EITHER 4 OR 5 \n",
      "\n"
     ]
    }
   ],
   "source": [
    "# Ans4\n",
    "print(\"LIST OF CUBE FROM 1-100 \\n\")\n",
    "l1=[]\n",
    "l2=[]\n",
    "i=1\n",
    "while i<=100:\n",
    "    l1.append(i*i*i)\n",
    "    i=i+1\n",
    "print(l1)\n",
    "\n",
    "print(\"lIST OF CUBE THAT ARE DIVISBLE BY EITHER 4 OR 5 \\n\")\n",
    "\n",
    "\n",
    "j=1\n",
    "while j <=100:\n",
    "    if j%5==0 or j%4==0:\n",
    "        l2.append((j*j*j)/5)\n",
    "        j=j+1\n",
    "print(l2)\n"
   ]
  },
  {
   "cell_type": "code",
   "execution_count": 1,
   "id": "d80f49c4-9443-4084-b61a-8483904f487a",
   "metadata": {},
   "outputs": [
    {
     "name": "stdout",
     "output_type": "stream",
     "text": [
      "Total number of vowel in given string is: 12\n"
     ]
    }
   ],
   "source": [
    "# Ans5\n",
    "string=(\"i want to become a data Scientist\")\n",
    "count=0\n",
    "vowels=[\"a\",\"e\",\"i\",\"o\",\"u\"]\n",
    "for i in range(len(string)):\n",
    "    if string[i] in vowels:\n",
    "        count=count+1\n",
    "print(\"Total number of vowel in given string is:\",count)\n",
    "        "
   ]
  },
  {
   "cell_type": "code",
   "execution_count": null,
   "id": "187bcbf3-d93a-410b-b203-747a5799db5a",
   "metadata": {},
   "outputs": [],
   "source": []
  }
 ],
 "metadata": {
  "kernelspec": {
   "display_name": "Python 3 (ipykernel)",
   "language": "python",
   "name": "python3"
  },
  "language_info": {
   "codemirror_mode": {
    "name": "ipython",
    "version": 3
   },
   "file_extension": ".py",
   "mimetype": "text/x-python",
   "name": "python",
   "nbconvert_exporter": "python",
   "pygments_lexer": "ipython3",
   "version": "3.10.8"
  }
 },
 "nbformat": 4,
 "nbformat_minor": 5
}
