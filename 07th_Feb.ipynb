{
 "cells": [
  {
   "cell_type": "code",
   "execution_count": 30,
   "id": "a887b24e-5acc-47fa-a458-72207e07ced3",
   "metadata": {},
   "outputs": [
    {
     "name": "stdin",
     "output_type": "stream",
     "text": [
      "please enter your password ARun1@#$ht\n"
     ]
    },
    {
     "name": "stdout",
     "output_type": "stream",
     "text": [
      "valid password\n"
     ]
    }
   ],
   "source": [
    "# Ans1\n",
    "j,k,l,m=0,0,0,0\n",
    "# password=\"A@R#_fo1hg\n",
    "caps=\"ABCDEFGHIJKLMNOPQRSTUVWXYZ\"\n",
    "small=\"abcdefghijklmnopqrstuvwxyz\"\n",
    "spechr=\"!@#$%^&*\"\n",
    "digit=\"0123456789\"\n",
    "\n",
    "password=input(\"please enter your password\")\n",
    "\n",
    "if len(password)==10:\n",
    "    for i in password:\n",
    "        if i in caps:\n",
    "            j=j+1\n",
    "        if i in small:\n",
    "            k=k+1\n",
    "        if i in digit:\n",
    "            l=l+1\n",
    "        if i in spechr:\n",
    "            m=m+1\n",
    "if(j>=2 and k>=2and l>=1 and m>=3 and j+k+l+m==len(password)):\n",
    "    print(\"valid password\")\n",
    "else:\n",
    "    print(\"invalid passowrd\")"
   ]
  },
  {
   "cell_type": "code",
   "execution_count": 7,
   "id": "213818cb-c754-4daa-8ece-cf3feeeab99f",
   "metadata": {},
   "outputs": [
    {
     "name": "stdout",
     "output_type": "stream",
     "text": [
      "*checking whether sting start with particular letter or not\n"
     ]
    },
    {
     "data": {
      "text/plain": [
       "False"
      ]
     },
     "execution_count": 10,
     "metadata": {},
     "output_type": "execute_result"
    }
   ],
   "source": [
    "# Ans2\n",
    "\n",
    "print(\"*checking whether sting start with particular letter or not\")\n",
    "starts_with = lambda x: True if x.startswith('P') else False\n",
    "starts_with('yellow')\n",
    "\n"
   ]
  },
  {
   "cell_type": "code",
   "execution_count": 12,
   "id": "c2031fa0-0e49-4dcf-a8ba-4bde43ad97b5",
   "metadata": {},
   "outputs": [
    {
     "name": "stdout",
     "output_type": "stream",
     "text": [
      "*checking whether string is numeric or not\n"
     ]
    },
    {
     "data": {
      "text/plain": [
       "True"
      ]
     },
     "execution_count": 12,
     "metadata": {},
     "output_type": "execute_result"
    }
   ],
   "source": [
    "print(\"*checking whether string is numeric or not\")\n",
    "is_numeric = lambda x: x.replace('.', '', 1).isdigit() if x.count('.') <= 1 else False\n",
    "is_numeric('1223')"
   ]
  },
  {
   "cell_type": "code",
   "execution_count": 13,
   "id": "4d44f80e-a886-402f-ac12-7874bc7caabb",
   "metadata": {},
   "outputs": [
    {
     "name": "stdout",
     "output_type": "stream",
     "text": [
      "[('grapes', 1000), ('mango', 99), ('orange', 80)]\n"
     ]
    }
   ],
   "source": [
    "fruits = [(\"mango\", 99), (\"orange\", 80), (\"grapes\", 1000)]\n",
    "\n",
    "sorted_fruits = sorted(fruits, key=lambda x: x[1], reverse=True)\n",
    "\n",
    "print(sorted_fruits)"
   ]
  },
  {
   "cell_type": "code",
   "execution_count": 14,
   "id": "7c849936-2534-442a-8698-a773c8fea262",
   "metadata": {},
   "outputs": [
    {
     "name": "stdout",
     "output_type": "stream",
     "text": [
      "[1, 4, 9, 16, 25, 36, 49, 64, 81, 100]\n"
     ]
    }
   ],
   "source": [
    "squares = list(map(lambda x: x**2, range(1,11)))\n",
    "print(squares)"
   ]
  },
  {
   "cell_type": "code",
   "execution_count": 15,
   "id": "d4cde9b8-6a80-4e7a-abbe-79221f5210e5",
   "metadata": {},
   "outputs": [
    {
     "name": "stdout",
     "output_type": "stream",
     "text": [
      "[1, 8, 27, 64, 125, 216, 343, 512, 729, 1000]\n"
     ]
    }
   ],
   "source": [
    "cube = list(map(lambda x: x**3, range(1,11)))\n",
    "print(cube)"
   ]
  },
  {
   "cell_type": "code",
   "execution_count": 16,
   "id": "c8bb4547-5504-4a39-a642-ee1b4f1797e8",
   "metadata": {},
   "outputs": [
    {
     "name": "stdout",
     "output_type": "stream",
     "text": [
      "True\n",
      "False\n"
     ]
    }
   ],
   "source": [
    "check_even = lambda x: x%2==0\n",
    "print(check_even(4))\n",
    "print(check_even(5))"
   ]
  },
  {
   "cell_type": "code",
   "execution_count": 17,
   "id": "a9807874-0a1b-465c-96e0-c9cf5457f3b8",
   "metadata": {},
   "outputs": [
    {
     "name": "stdout",
     "output_type": "stream",
     "text": [
      "[1, 3, 5, 7, 9]\n"
     ]
    }
   ],
   "source": [
    "lst = [1,2,3,4,5,6,7,8,9,10]\n",
    "result = list(filter(lambda x: x % 2 != 0, lst))\n",
    "print(result)"
   ]
  },
  {
   "cell_type": "code",
   "execution_count": 19,
   "id": "3209ead0-e3c0-4a96-bc10-96cdf60d7151",
   "metadata": {},
   "outputs": [
    {
     "name": "stdout",
     "output_type": "stream",
     "text": [
      "Positive numbers: [1, 2, 3, 4, 5, 6]\n",
      "Negative numbers: [-1, -2, -3, -4, -5]\n"
     ]
    }
   ],
   "source": [
    "lst = [1,2,3,4,5,6,-1,-2,-3,-4,-5,0]\n",
    "positive_lst = list(filter(lambda x: x > 0, lst))\n",
    "negative_lst = list(filter(lambda x: x < 0, lst))\n",
    "print(\"Positive numbers:\", positive_lst)\n",
    "print(\"Negative numbers:\", negative_lst)"
   ]
  },
  {
   "cell_type": "code",
   "execution_count": null,
   "id": "666629ed-178c-44e7-87de-a0849bdaa163",
   "metadata": {},
   "outputs": [],
   "source": []
  }
 ],
 "metadata": {
  "kernelspec": {
   "display_name": "Python 3 (ipykernel)",
   "language": "python",
   "name": "python3"
  },
  "language_info": {
   "codemirror_mode": {
    "name": "ipython",
    "version": 3
   },
   "file_extension": ".py",
   "mimetype": "text/x-python",
   "name": "python",
   "nbconvert_exporter": "python",
   "pygments_lexer": "ipython3",
   "version": "3.10.8"
  }
 },
 "nbformat": 4,
 "nbformat_minor": 5
}
