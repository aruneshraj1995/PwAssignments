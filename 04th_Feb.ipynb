{
 "cells": [
  {
   "cell_type": "code",
   "execution_count": 1,
   "id": "cf87f888-ae85-485e-ae2c-155d71ce895d",
   "metadata": {},
   "outputs": [],
   "source": [
    "# Ans1\n",
    "l=[('Sachin Tendulkar',34357),('Ricky Ponting', 27483),('Jack Kallis', 25534),('Virat Kohli', 24936)]"
   ]
  },
  {
   "cell_type": "code",
   "execution_count": 2,
   "id": "3e6f8c04-c1a7-4632-a774-f5d0c3174df8",
   "metadata": {},
   "outputs": [],
   "source": [
    "l.sort(key=lambda x:x[1])"
   ]
  },
  {
   "cell_type": "code",
   "execution_count": 3,
   "id": "c4a81d1e-93ad-4453-af50-11df1b51f906",
   "metadata": {},
   "outputs": [
    {
     "data": {
      "text/plain": [
       "[('Virat Kohli', 24936),\n",
       " ('Jack Kallis', 25534),\n",
       " ('Ricky Ponting', 27483),\n",
       " ('Sachin Tendulkar', 34357)]"
      ]
     },
     "execution_count": 3,
     "metadata": {},
     "output_type": "execute_result"
    }
   ],
   "source": [
    "l"
   ]
  },
  {
   "cell_type": "code",
   "execution_count": 4,
   "id": "9cbfd408-36f9-4695-ba26-a8e8e612a312",
   "metadata": {},
   "outputs": [],
   "source": [
    "# Ans2\n",
    "l1=[1,2,3,4,5,6,7,8,9,10]"
   ]
  },
  {
   "cell_type": "code",
   "execution_count": 5,
   "id": "b63bc7ce-abed-4d08-9908-3c8451d12811",
   "metadata": {},
   "outputs": [
    {
     "data": {
      "text/plain": [
       "[1, 4, 9, 16, 25, 36, 49, 64, 81, 100]"
      ]
     },
     "execution_count": 5,
     "metadata": {},
     "output_type": "execute_result"
    }
   ],
   "source": [
    "list(map(lambda x: x**2, l1))"
   ]
  },
  {
   "cell_type": "code",
   "execution_count": 6,
   "id": "9c2bac16-d8af-45f8-8238-4b298cdc2890",
   "metadata": {},
   "outputs": [],
   "source": [
    "# Ans3\n",
    "given_list=[1,2,3,4,5,6,7,8,9,10]"
   ]
  },
  {
   "cell_type": "code",
   "execution_count": 7,
   "id": "e73b8919-1ec4-40d0-bff9-fc26108b49c0",
   "metadata": {},
   "outputs": [
    {
     "data": {
      "text/plain": [
       "('1', '2', '3', '4', '5', '6', '7', '8', '9', '10')"
      ]
     },
     "execution_count": 7,
     "metadata": {},
     "output_type": "execute_result"
    }
   ],
   "source": [
    "tuple(map(lambda x:str(x),given_list))"
   ]
  },
  {
   "cell_type": "code",
   "execution_count": 8,
   "id": "4f083a98-0933-4dd5-a0ae-61e81ab14d99",
   "metadata": {},
   "outputs": [
    {
     "data": {
      "text/plain": [
       "('1', '2', '3', '4', '5', '6', '7', '8', '9', '10')"
      ]
     },
     "execution_count": 8,
     "metadata": {},
     "output_type": "execute_result"
    }
   ],
   "source": [
    "tuple(map(str,given_list))"
   ]
  },
  {
   "cell_type": "code",
   "execution_count": 1,
   "id": "97991a6d-0b6e-4905-bf02-ee3e9b6a8576",
   "metadata": {},
   "outputs": [
    {
     "data": {
      "text/plain": [
       "15511210043330985984000000"
      ]
     },
     "execution_count": 1,
     "metadata": {},
     "output_type": "execute_result"
    }
   ],
   "source": [
    "# Ans4\n",
    "from functools import reduce\n",
    "list=[1,2,3,4,5,6,7,8,9,10,11,12,13,14,15,16,17,18,19,20,21,22,23,24,25]\n",
    "reduce(lambda x,y:x*y, list)"
   ]
  },
  {
   "cell_type": "code",
   "execution_count": 2,
   "id": "219f13a0-5ed1-4c1f-b6ed-10936fa7d207",
   "metadata": {},
   "outputs": [],
   "source": [
    "# Ans5\n",
    "l=[2,3,6,9,27,60,90,120,55,46]"
   ]
  },
  {
   "cell_type": "code",
   "execution_count": 11,
   "id": "1726c538-cae4-40af-8f5f-7b4036c4dc12",
   "metadata": {},
   "outputs": [
    {
     "data": {
      "text/plain": [
       "(6, 60, 90, 120)"
      ]
     },
     "execution_count": 11,
     "metadata": {},
     "output_type": "execute_result"
    }
   ],
   "source": [
    "tuple(filter(lambda x: x%2==0 and x%3==0,l))"
   ]
  },
  {
   "cell_type": "code",
   "execution_count": 17,
   "id": "478e8d0d-2153-4b6e-b602-8406917d2eea",
   "metadata": {},
   "outputs": [
    {
     "data": {
      "text/plain": [
       "('php', 'aba', 'radar', 'level')"
      ]
     },
     "execution_count": 17,
     "metadata": {},
     "output_type": "execute_result"
    }
   ],
   "source": [
    "# Ans6\n",
    "l2=['python', 'php', 'aba', 'radar', 'level']\n",
    "tuple(filter(lambda x: (x == \"\".join(reversed(x))), l2)) "
   ]
  },
  {
   "cell_type": "code",
   "execution_count": 21,
   "id": "6f0bf0ff-2d8b-4154-9264-5ba9c6ab8a5e",
   "metadata": {},
   "outputs": [
    {
     "name": "stdout",
     "output_type": "stream",
     "text": [
      "Note: \n",
      "I showed output in tuples in Ans 5 & 6 because due to  kernel issues \n",
      "\"i was getting an error that \n",
      "'list object is not callable'\"\n",
      "\n",
      "\n"
     ]
    }
   ],
   "source": [
    "print('''Note: \n",
    "I showed output in tuples in Ans 5 & 6 because due to  kernel issues \n",
    "\"i was getting an error that \n",
    "'list object is not callable'\"\n",
    "\n",
    "''')"
   ]
  },
  {
   "cell_type": "code",
   "execution_count": null,
   "id": "aa0b8e2d-56a4-4f0d-b03a-9ec617908d02",
   "metadata": {},
   "outputs": [],
   "source": []
  }
 ],
 "metadata": {
  "kernelspec": {
   "display_name": "Python 3 (ipykernel)",
   "language": "python",
   "name": "python3"
  },
  "language_info": {
   "codemirror_mode": {
    "name": "ipython",
    "version": 3
   },
   "file_extension": ".py",
   "mimetype": "text/x-python",
   "name": "python",
   "nbconvert_exporter": "python",
   "pygments_lexer": "ipython3",
   "version": "3.10.8"
  }
 },
 "nbformat": 4,
 "nbformat_minor": 5
}
