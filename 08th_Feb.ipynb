{
 "cells": [
  {
   "cell_type": "code",
   "execution_count": 1,
   "id": "2e294c32-d8f0-4515-b3ca-61bf39930dac",
   "metadata": {},
   "outputs": [
    {
     "name": "stdout",
     "output_type": "stream",
     "text": [
      "Abstraction classes are meant to be the blueprint of the other class. An abstract class can be useful when we are designing large functions. An abstract class is also helpful to provide the standard interface for different implementations of components\n"
     ]
    }
   ],
   "source": [
    "# Ans1\n",
    "print(\"Abstraction classes are meant to be the blueprint of the other class. An abstract class can be useful when we are designing large functions. An abstract class is also helpful to provide the standard interface for different implementations of components\")"
   ]
  },
  {
   "cell_type": "code",
   "execution_count": 3,
   "id": "ed80c11a-7783-4c9b-9bde-a965c5804283",
   "metadata": {},
   "outputs": [],
   "source": [
    "# example of abstraction\n",
    "import abc\n",
    "class car:\n",
    "    def car_model(self):\n",
    "        pass\n",
    "    def car_variant(self):\n",
    "        pass\n",
    "    def car_color(self):\n",
    "        pass\n",
    "    def car_company(self):\n",
    "        pass"
   ]
  },
  {
   "cell_type": "code",
   "execution_count": 4,
   "id": "069de2c0-cca3-4264-b23e-68fe893ec356",
   "metadata": {},
   "outputs": [],
   "source": [
    "class car_model(car):\n",
    "    def get_model(self):\n",
    "        return \"car model is 2023\""
   ]
  },
  {
   "cell_type": "code",
   "execution_count": 5,
   "id": "a8e08397-7336-4446-aa24-682e87ad6ea9",
   "metadata": {},
   "outputs": [],
   "source": [
    "model=car_model()"
   ]
  },
  {
   "cell_type": "code",
   "execution_count": 9,
   "id": "f1123367-1b4a-4257-b76b-1274261f615a",
   "metadata": {},
   "outputs": [
    {
     "data": {
      "text/plain": [
       "'car model is 2023'"
      ]
     },
     "execution_count": 9,
     "metadata": {},
     "output_type": "execute_result"
    }
   ],
   "source": [
    "model.get_model()"
   ]
  },
  {
   "cell_type": "code",
   "execution_count": 10,
   "id": "38e23c7b-9b3b-4699-b8f6-df14e3bfc23d",
   "metadata": {},
   "outputs": [],
   "source": [
    "class car_color(car):\n",
    "    def get_color(self):\n",
    "        return \"car model is Red\""
   ]
  },
  {
   "cell_type": "code",
   "execution_count": 11,
   "id": "dc6a9cbd-89cf-4657-9b55-62407512171e",
   "metadata": {},
   "outputs": [],
   "source": [
    "color=car_color()"
   ]
  },
  {
   "cell_type": "code",
   "execution_count": 12,
   "id": "e7d54dad-f5f8-4e74-ac31-9388b64ad737",
   "metadata": {},
   "outputs": [
    {
     "data": {
      "text/plain": [
       "'car model is Red'"
      ]
     },
     "execution_count": 12,
     "metadata": {},
     "output_type": "execute_result"
    }
   ],
   "source": [
    "color.get_color()"
   ]
  },
  {
   "cell_type": "code",
   "execution_count": 13,
   "id": "c0f520b5-c2ad-4a37-a7ff-55f5d781b0e2",
   "metadata": {},
   "outputs": [
    {
     "name": "stdout",
     "output_type": "stream",
     "text": [
      "\n",
      "\"Abstraction: 'Abstraction classes are meant to be the blueprint of the other class. An abstract class can be useful when we are designing large functions. An abstract class is also helpful to provide the standard interface for different implementations of components'\"\n",
      "\"Encapuslation:'Encapsulation is a mechanism of wrapping the data (variables) and code acting on the data (methods) together as a single unit. '\"\n",
      "\n"
     ]
    }
   ],
   "source": [
    "# Ans2\n",
    "print('''\n",
    "\"Abstraction: 'Abstraction classes are meant to be the blueprint of the other class. An abstract class can be useful when we are designing large functions. An abstract class is also helpful to provide the standard interface for different implementations of components'\"\n",
    "\"Encapuslation:'Encapsulation is a mechanism of wrapping the data (variables) and code acting on the data (methods) together as a single unit. '\"\n",
    "''')"
   ]
  },
  {
   "cell_type": "code",
   "execution_count": 15,
   "id": "b65473c0-ab39-4a81-8714-5dd35d654c4a",
   "metadata": {},
   "outputs": [
    {
     "name": "stdout",
     "output_type": "stream",
     "text": [
      "python provides the abc module to use the abstraction in the Python program\n"
     ]
    }
   ],
   "source": [
    "# Ans3\n",
    "print(\"python provides the abc module to use the abstraction in the Python program\")"
   ]
  },
  {
   "cell_type": "code",
   "execution_count": 16,
   "id": "a51341bc-5e0b-4ddc-b8b7-8aec6e4b2f7d",
   "metadata": {},
   "outputs": [
    {
     "name": "stdout",
     "output_type": "stream",
     "text": [
      "\n",
      "In Python, abstraction can be achieved by having/using abstract classes and methods in our programs. Understanding Abstract Methods and Classes: An abstract method is a method that is declared, but does not contain implementation.\n",
      "\n",
      "to use abstract class we have to import \"abc module\"\n",
      "\n"
     ]
    }
   ],
   "source": [
    "# Ans4\n",
    "print('''\n",
    "In Python, abstraction can be achieved by having/using abstract classes and methods in our programs. Understanding Abstract Methods and Classes: An abstract method is a method that is declared, but does not contain implementation.\n",
    "\n",
    "to use abstract class we have to import \"abc module\"\n",
    "''')"
   ]
  },
  {
   "cell_type": "code",
   "execution_count": 17,
   "id": "5eb0d1e6-8cb2-4994-81b0-51ce432d5661",
   "metadata": {},
   "outputs": [
    {
     "name": "stdout",
     "output_type": "stream",
     "text": [
      "Abstract classes cannot be instantiated, but they can be subclassed. When an abstract class is subclassed, the subclass usually provides implementations for all of the abstract methods in its parent class. However, if it does not, then the subclass must also be declared abstract . \n"
     ]
    }
   ],
   "source": [
    "# Ans5\n",
    "print(\"Abstract classes cannot be instantiated, but they can be subclassed. When an abstract class is subclassed, the subclass usually provides implementations for all of the abstract methods in its parent class. However, if it does not, then the subclass must also be declared abstract . \")"
   ]
  },
  {
   "cell_type": "code",
   "execution_count": null,
   "id": "90366cb5-d3c7-4636-8937-d91c165dce62",
   "metadata": {},
   "outputs": [],
   "source": []
  }
 ],
 "metadata": {
  "kernelspec": {
   "display_name": "Python 3 (ipykernel)",
   "language": "python",
   "name": "python3"
  },
  "language_info": {
   "codemirror_mode": {
    "name": "ipython",
    "version": 3
   },
   "file_extension": ".py",
   "mimetype": "text/x-python",
   "name": "python",
   "nbconvert_exporter": "python",
   "pygments_lexer": "ipython3",
   "version": "3.10.8"
  }
 },
 "nbformat": 4,
 "nbformat_minor": 5
}
