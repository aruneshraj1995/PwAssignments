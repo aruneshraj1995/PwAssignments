{
 "cells": [
  {
   "cell_type": "code",
   "execution_count": 2,
   "id": "e0c4560f-04c5-4866-836a-0c0c511e4894",
   "metadata": {},
   "outputs": [
    {
     "name": "stdout",
     "output_type": "stream",
     "text": [
      "Requirement already satisfied: pandas in /opt/conda/lib/python3.10/site-packages (1.5.2)\n",
      "Requirement already satisfied: python-dateutil>=2.8.1 in /opt/conda/lib/python3.10/site-packages (from pandas) (2.8.2)\n",
      "Requirement already satisfied: pytz>=2020.1 in /opt/conda/lib/python3.10/site-packages (from pandas) (2022.6)\n",
      "Requirement already satisfied: numpy>=1.21.0 in /opt/conda/lib/python3.10/site-packages (from pandas) (1.23.5)\n",
      "Requirement already satisfied: six>=1.5 in /opt/conda/lib/python3.10/site-packages (from python-dateutil>=2.8.1->pandas) (1.16.0)\n",
      "Note: you may need to restart the kernel to use updated packages.\n"
     ]
    }
   ],
   "source": [
    "pip install pandas"
   ]
  },
  {
   "cell_type": "code",
   "execution_count": 3,
   "id": "c842783a-e0d1-47ed-8527-3ce042dfe973",
   "metadata": {},
   "outputs": [
    {
     "name": "stdout",
     "output_type": "stream",
     "text": [
      "0     4\n",
      "1     8\n",
      "2    15\n",
      "3    16\n",
      "4    23\n",
      "5    42\n",
      "dtype: int64\n"
     ]
    }
   ],
   "source": [
    "# Ans1\n",
    "import pandas as pd\n",
    "L=[4,8,15,16,23,42]\n",
    "List=pd.Series(L)\n",
    "print(List)"
   ]
  },
  {
   "cell_type": "code",
   "execution_count": 4,
   "id": "c9a16363-45a8-4394-bb6a-c4bc6e65706b",
   "metadata": {},
   "outputs": [
    {
     "name": "stdout",
     "output_type": "stream",
     "text": [
      "0     Arunseh\n",
      "1       23.56\n",
      "2          30\n",
      "3    Pwskills\n",
      "4        True\n",
      "5       False\n",
      "6          86\n",
      "7        60.0\n",
      "8    Dara Sci\n",
      "9           a\n",
      "dtype: object\n"
     ]
    }
   ],
   "source": [
    "# Ans2\n",
    "Variable = [\"Arunseh\", 23.56, 30, \"Pwskills\", True, False, 86, 60.00, \"Dara Sci\", 'a']\n",
    "series= pd.Series(Variable)\n",
    "print(series)"
   ]
  },
  {
   "cell_type": "code",
   "execution_count": 6,
   "id": "30980a39-e3b9-4cca-bb3f-46aa95d02fb8",
   "metadata": {},
   "outputs": [
    {
     "name": "stdout",
     "output_type": "stream",
     "text": [
      "     Name  Age  Gender\n",
      "0   Alice   25  Female\n",
      "1     Bob   30    Male\n",
      "2  Claire   27  Female\n"
     ]
    }
   ],
   "source": [
    "# Ans3\n",
    "data = {'Name': ['Alice', 'Bob', 'Claire'],\n",
    "\n",
    "        'Age': [25, 30, 27],\n",
    "\n",
    "        'Gender': ['Female', 'Male', 'Female']}\n",
    "\n",
    "df = pd.DataFrame(data)\n",
    "\n",
    "print(df)"
   ]
  },
  {
   "cell_type": "code",
   "execution_count": 11,
   "id": "23d1c8a7-ec47-4e87-8813-9ee7a7bd5189",
   "metadata": {},
   "outputs": [
    {
     "name": "stdout",
     "output_type": "stream",
     "text": [
      "Data Frame:  Data frame is a two-dimensional data structure, i.e., data is aligned in a tabular fashion in rows and columns\n",
      "\n",
      "Series can only contain single list with index, whereas dataframe can be made of more than one series or we can say that a dataframe is a collection of series that can be used to analyse the data\n"
     ]
    }
   ],
   "source": [
    "# Ans4\n",
    "print(\"Data Frame:  Data frame is a two-dimensional data structure, i.e., data is aligned in a tabular fashion in rows and columns\\n\")\n",
    "print(\"Series can only contain single list with index, whereas dataframe can be made of more than one series or we can say that a dataframe is a collection of series that can be used to analyse the data\")"
   ]
  },
  {
   "cell_type": "code",
   "execution_count": 13,
   "id": "e4b36285-8c54-45df-a6a4-82e2ffd1c9e9",
   "metadata": {},
   "outputs": [
    {
     "name": "stdout",
     "output_type": "stream",
     "text": [
      "\n",
      "Below are various operations used to manipulate the dataframe:\n",
      "\n",
      "First, import the library which is used in data manipulation i.e. pandas then assign and read the dataframe:\n",
      "We can read the dataframe by using head() function also which is having an argument (n) i.e. number of rows to be displayed.\n",
      "\n",
      "Counting the rows and columns in DataFrame using shape(). It returns the no. of rows and columns enclosed in a tuple.\n",
      "\n",
      "Summary of Statistics of DataFrame using describe() method\n",
      "\n",
      "Dropping the missing values in DataFrame, it can be done using the dropna() method, it removes all the NaN values in the dataframe.\n"
     ]
    }
   ],
   "source": [
    "# Ans5\n",
    "print('''\n",
    "Below are various operations used to manipulate the dataframe:\n",
    "\n",
    "First, import the library which is used in data manipulation i.e. pandas then assign and read the dataframe:\n",
    "We can read the dataframe by using head() function also which is having an argument (n) i.e. number of rows to be displayed.\n",
    "\n",
    "Counting the rows and columns in DataFrame using shape(). It returns the no. of rows and columns enclosed in a tuple.\n",
    "\n",
    "Summary of Statistics of DataFrame using describe() method\n",
    "\n",
    "Dropping the missing values in DataFrame, it can be done using the dropna() method, it removes all the NaN values in the dataframe.''')"
   ]
  },
  {
   "cell_type": "code",
   "execution_count": 14,
   "id": "5dd4b4e7-f4fe-4ebe-a6ee-b2aeaba6c599",
   "metadata": {},
   "outputs": [
    {
     "name": "stdout",
     "output_type": "stream",
     "text": [
      "Series, data frame & panel all are mutable data types\n"
     ]
    }
   ],
   "source": [
    "# Ans6\n",
    "print(\"Series, data frame & panel all are mutable data types\")"
   ]
  },
  {
   "cell_type": "code",
   "execution_count": 15,
   "id": "1839f4ca-046a-44f5-935d-2df8b1a7cc14",
   "metadata": {},
   "outputs": [
    {
     "name": "stdout",
     "output_type": "stream",
     "text": [
      "         0      1     2\n",
      "0    Spark  22000  1000\n",
      "1  PySpark  25000  2300\n",
      "2   Hadoop  23000  1000\n"
     ]
    }
   ],
   "source": [
    "# Ans7\n",
    "import pandas as pd\n",
    "# Create pandas Series\n",
    "courses = pd.Series([\"Spark\",\"PySpark\",\"Hadoop\"])\n",
    "fees = pd.Series([22000,25000,23000])\n",
    "discount  = pd.Series([1000,2300,1000])\n",
    "\n",
    "# Combine two series.\n",
    "df=pd.concat([courses,fees],axis=1)\n",
    "\n",
    "# It also supports to combine multiple series.\n",
    "df=pd.concat([courses,fees,discount],axis=1)\n",
    "print(df)"
   ]
  },
  {
   "cell_type": "code",
   "execution_count": null,
   "id": "5fd469fe-a2c1-454c-9bd6-613da220e0f4",
   "metadata": {},
   "outputs": [],
   "source": []
  }
 ],
 "metadata": {
  "kernelspec": {
   "display_name": "Python 3 (ipykernel)",
   "language": "python",
   "name": "python3"
  },
  "language_info": {
   "codemirror_mode": {
    "name": "ipython",
    "version": 3
   },
   "file_extension": ".py",
   "mimetype": "text/x-python",
   "name": "python",
   "nbconvert_exporter": "python",
   "pygments_lexer": "ipython3",
   "version": "3.10.8"
  }
 },
 "nbformat": 4,
 "nbformat_minor": 5
}
