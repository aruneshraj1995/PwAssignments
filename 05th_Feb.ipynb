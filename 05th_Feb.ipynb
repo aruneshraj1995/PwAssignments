{
 "cells": [
  {
   "cell_type": "code",
   "execution_count": 3,
   "id": "edf90c6b-b692-4028-affe-2e69d64fef76",
   "metadata": {},
   "outputs": [
    {
     "name": "stdout",
     "output_type": "stream",
     "text": [
      "Object − Objects have states and behaviors. Example: A dog has states - color, name, breed as well as behaviors – wagging the tail, barking, eating. An object is an instance of a class. Class − A class can be defined as a template/blueprint that describes the behavior/state that the object of its type support.\n"
     ]
    }
   ],
   "source": [
    "# Ans1\n",
    "print(\"Object − Objects have states and behaviors. Example: A dog has states - color, name, breed as well as behaviors – wagging the tail, barking, eating. An object is an instance of a class. Class − A class can be defined as a template/blueprint that describes the behavior/state that the object of its type support.\")"
   ]
  },
  {
   "cell_type": "code",
   "execution_count": 4,
   "id": "a4f11b1e-0ef3-45ba-9a47-82632ae3fb87",
   "metadata": {},
   "outputs": [
    {
     "name": "stdout",
     "output_type": "stream",
     "text": [
      "four pillars of OOps are:\n",
      "Inheritance, \n",
      "Polymorphism, \n",
      "Encapsulation and \n",
      "Abstraction\n",
      "\n"
     ]
    }
   ],
   "source": [
    "# Ans2\n",
    "print('''four pillars of OOps are:\n",
    "Inheritance, \n",
    "Polymorphism, \n",
    "Encapsulation and \n",
    "Abstraction\n",
    "''')"
   ]
  },
  {
   "cell_type": "code",
   "execution_count": 11,
   "id": "d9769703-8c57-40ee-9658-7273034c6e02",
   "metadata": {},
   "outputs": [
    {
     "name": "stdout",
     "output_type": "stream",
     "text": [
      "__init__ is a special python method that runs whenever a new object is created. These types of functions are used to initialize the attributes of that class, E.g., if the class is Person, then the attributes will be name, age, etc.\n"
     ]
    }
   ],
   "source": [
    "# Asn3\n",
    "print(\"__init__ is a special python method that runs whenever a new object is created. These types of functions are used to initialize the attributes of that class, E.g., if the class is Person, then the attributes will be name, age, etc.\")\n",
    "\n",
    "class person:\n",
    "     def __init__(self,person_name, person_age, person_weight):\n",
    "            self.person_name=person_name\n",
    "            self.person_age=person_age\n",
    "            self.person_weight=person_weight\n",
    "     \n",
    "     def get_details(self):\n",
    "        return self.person_name, self.person_weight, self.person_age"
   ]
  },
  {
   "cell_type": "code",
   "execution_count": 12,
   "id": "8dda7a56-a546-46d4-bf74-26776c8c812b",
   "metadata": {},
   "outputs": [],
   "source": [
    "A=person(\"Arunesh\", 25, 75.70)"
   ]
  },
  {
   "cell_type": "code",
   "execution_count": 13,
   "id": "0879d9c1-a7f5-4a6e-8311-78ea0d3cdd81",
   "metadata": {},
   "outputs": [
    {
     "data": {
      "text/plain": [
       "('Arunesh', 75.7, 25)"
      ]
     },
     "execution_count": 13,
     "metadata": {},
     "output_type": "execute_result"
    }
   ],
   "source": [
    "A.get_details()"
   ]
  },
  {
   "cell_type": "code",
   "execution_count": 15,
   "id": "08e5c87c-1eb1-421a-a5b7-9ba04fd984e8",
   "metadata": {},
   "outputs": [
    {
     "name": "stdout",
     "output_type": "stream",
     "text": [
      "\n",
      "\"The self variable is used to represent the instance of the class which is often used in object-oriented programming. It works as a reference to the object. Python uses the self parameter to refer to instance attributes and methods of the class.\n",
      "\"\n",
      "\n",
      "Note: Self is not a reserved Keyword,We can use any other keyword as well\n",
      "\n",
      "\n"
     ]
    }
   ],
   "source": [
    "# Ans4\n",
    "print('''\n",
    "\"The self variable is used to represent the instance of the class which is often used in object-oriented programming. It works as a reference to the object. Python uses the self parameter to refer to instance attributes and methods of the class.\\n\"\n",
    "\n",
    "Note: Self is not a reserved Keyword,We can use any other keyword as well\n",
    "\n",
    "''')\n"
   ]
  },
  {
   "cell_type": "code",
   "execution_count": 17,
   "id": "20e9afe0-d836-4509-8daf-c9455c750716",
   "metadata": {},
   "outputs": [
    {
     "name": "stdout",
     "output_type": "stream",
     "text": [
      "\n",
      "Inheritance is a mechanism in which one class acquires the property of another class\n",
      "Single Inheritance.\n",
      "Multiple Inheritance.\n",
      "Multilevel Inheritance.\n",
      "Hierarchical Inheritance.\n",
      "Hybrid Inheritance.\n",
      "\n"
     ]
    }
   ],
   "source": [
    "# Ans5\n",
    "print('''\n",
    "Inheritance is a mechanism in which one class acquires the property of another class\n",
    "Single Inheritance.\n",
    "Multiple Inheritance.\n",
    "Multilevel Inheritance.\n",
    "Hierarchical Inheritance.\n",
    "Hybrid Inheritance.\n",
    "''')"
   ]
  },
  {
   "cell_type": "code",
   "execution_count": null,
   "id": "2b633f7a-7f70-4a28-ad4b-d89437db44f8",
   "metadata": {},
   "outputs": [],
   "source": []
  }
 ],
 "metadata": {
  "kernelspec": {
   "display_name": "Python 3 (ipykernel)",
   "language": "python",
   "name": "python3"
  },
  "language_info": {
   "codemirror_mode": {
    "name": "ipython",
    "version": 3
   },
   "file_extension": ".py",
   "mimetype": "text/x-python",
   "name": "python",
   "nbconvert_exporter": "python",
   "pygments_lexer": "ipython3",
   "version": "3.10.8"
  }
 },
 "nbformat": 4,
 "nbformat_minor": 5
}
