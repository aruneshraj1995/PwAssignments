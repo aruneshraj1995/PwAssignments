{
 "cells": [
  {
   "cell_type": "markdown",
   "id": "f54a2b15-e682-47f8-8f45-b276733b3c8c",
   "metadata": {},
   "source": [
    "## Ans1\n",
    "\n",
    "- Simple linear regression has only one x and one y variable.\n",
    "\n",
    "For instance, when we predict rent based on square feet alone that is simple linear regression.\n",
    "\n",
    "- Multiple linear regression has one y and two or more x variables.\n",
    "\n",
    "When we predict rent based on square feet and age of the building that is an example of multiple linear regression."
   ]
  },
  {
   "cell_type": "markdown",
   "id": "72f6b3f7-47eb-46bb-8a3c-872aeeda696b",
   "metadata": {},
   "source": [
    "## Ans2\n",
    "\n",
    "- There are primarily five assumptions of linear regression. They are:\n",
    "\n",
    "There is a linear relationship between the predictors (x) and the outcome (y)\n",
    "\n",
    "Predictors (x) are independent and observed with negligible error\n",
    "\n",
    "Residual Errors have a mean value of zero\n",
    "\n",
    "Residual Errors have constant variance\n",
    "\n",
    "Residual Errors are independent from each other and predictors (x)\n"
   ]
  },
  {
   "cell_type": "markdown",
   "id": "669eb745-0482-4435-a8a4-159eff19a890",
   "metadata": {},
   "source": [
    "## Ans3\n",
    "- Interpret the slope: If the speed of the club hitting the ball increases by 1 mph, then the model predicts that the length the ball travels increases by 57.66 yards. \n",
    "- Interpret the intercept: If the ball is hit with a speed of 0 mph, then the model predicts that the length the ball travels will be 3.18 yards."
   ]
  },
  {
   "cell_type": "markdown",
   "id": "f7145a46-b765-48f1-bd58-199c1876eb71",
   "metadata": {},
   "source": [
    "## Ans4\n",
    "- Gradient descent is an optimization algorithm which is commonly-used to train machine learning models and neural networks. Training data helps these models learn over time, and the cost function within gradient descent specifically acts as a barometer, gauging its accuracy with each iteration of parameter updates."
   ]
  },
  {
   "cell_type": "markdown",
   "id": "e55cad56-0a5e-4d25-9524-a082e958290f",
   "metadata": {},
   "source": [
    "## Ans5\n",
    "- Multiple regression is a broader class of regressions that encompasses linear and nonlinear regressions with multiple explanatory variables. Whereas linear regress only has one independent variable impacting the slope of the relationship, multiple regression incorporates multiple independent variables."
   ]
  },
  {
   "cell_type": "markdown",
   "id": "2fd9a332-0723-44c2-8bc0-e07e5be8af8d",
   "metadata": {},
   "source": [
    "## Ans6\n",
    "- Multicollinearity exists whenever an independent variable is highly correlated with one or more of the other independent variables in a multiple regression equation. Multicollinearity is a problem because it will make the statistical inferences less reliable."
   ]
  },
  {
   "cell_type": "markdown",
   "id": "a08e225e-567d-41ae-b6a3-e74d46578e82",
   "metadata": {},
   "source": [
    "## Ans7\n",
    "- A polynomial regression model is a machine learning model that can capture non-linear relationships between variables by fitting a non-linear regression line, which may not be possible with simple linear regression. It is used when linear regression models may not adequately capture the complexity of the relationship."
   ]
  },
  {
   "cell_type": "markdown",
   "id": "c728ca09-ca4a-4bb3-9976-891f36bffc28",
   "metadata": {},
   "source": [
    "## Ans8\n",
    "-  Polynomial regression is a type of regression analysis that models the relationship between a response variable and one or more predictor variables by fitting a polynomial equation to the data. Compared to linear regression, which models the relationship using a straight line, polynomial regression has several advantages:\n",
    "\n",
    "Capturing nonlinearity: Polynomial regression can capture nonlinearity in the relationship between the response variable and the predictor variable(s). This is important when the relationship is not well approximated by a straight line, and when there are curvatures or nonlinear patterns in the data.\n",
    "Improved fit: Polynomial regression can often result in a better fit to the data than linear regression. This is because the polynomial function can capture more complex relationships between the variables, which can improve the accuracy of the model.\n",
    "More flexibility: Polynomial regression allows for more flexibility in modeling the relationship between the variables. This is because polynomial functions can be customized to fit the specific needs of the analysis, such as by including higher-order terms or interactions between the predictor variables.\n",
    "Better prediction: Polynomial regression can often provide better predictions than linear regression. This is because it can capture more of the variability in the data, and can make more accurate predictions for new data points that are not included in the original dataset.\n",
    "However, there are also some potential disadvantages to using polynomial regression, such as overfitting the data, increased complexity of the model, and difficulty in interpreting the results.\n",
    "\n",
    "In summary, the advantages of polynomial regression over linear regression include the ability to capture nonlinearity in the relationship between the variables, improved fit to the data, more flexibility in modeling the relationship, and better prediction. However, there are also potential disadvantages to using polynomial regression that should be carefully considered."
   ]
  },
  {
   "cell_type": "code",
   "execution_count": null,
   "id": "2075d9ec-4ef9-4250-9439-c192ca5cd021",
   "metadata": {},
   "outputs": [],
   "source": []
  }
 ],
 "metadata": {
  "kernelspec": {
   "display_name": "Python 3 (ipykernel)",
   "language": "python",
   "name": "python3"
  },
  "language_info": {
   "codemirror_mode": {
    "name": "ipython",
    "version": 3
   },
   "file_extension": ".py",
   "mimetype": "text/x-python",
   "name": "python",
   "nbconvert_exporter": "python",
   "pygments_lexer": "ipython3",
   "version": "3.10.8"
  }
 },
 "nbformat": 4,
 "nbformat_minor": 5
}
