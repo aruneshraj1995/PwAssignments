{
 "cells": [
  {
   "cell_type": "code",
   "execution_count": 48,
   "id": "a91800a3-a205-4748-9c5f-8b9f07f5a867",
   "metadata": {},
   "outputs": [
    {
     "name": "stdout",
     "output_type": "stream",
     "text": [
      "we use 'def' keyword to create a function\n",
      "\n",
      "function to return a list of off numbers in the range of 1 to 25\n",
      "\n"
     ]
    },
    {
     "data": {
      "text/plain": [
       "[1, 3, 5, 7, 9, 11, 13, 15, 17, 19, 21, 23]"
      ]
     },
     "execution_count": 48,
     "metadata": {},
     "output_type": "execute_result"
    }
   ],
   "source": [
    "# Ans1\n",
    "print(\"we use 'def' keyword to create a function\\n\")\n",
    "print(\"function to return a list of off numbers in the range of 1 to 25\\n\")\n",
    "\n",
    "def odd_number():\n",
    "    l1=[]\n",
    "    for i in range (1,25):\n",
    "        if i%2!=0:\n",
    "            l1.append(i)\n",
    "    return(l1)\n",
    "\n",
    "odd_number()\n",
    "\n",
    "        "
   ]
  },
  {
   "cell_type": "code",
   "execution_count": 62,
   "id": "71772a18-fa8b-431d-bbfc-e89237564bfb",
   "metadata": {},
   "outputs": [
    {
     "name": "stdout",
     "output_type": "stream",
     "text": [
      "\"*args\" allows user to pass 'n' number of arungements in function and it takes arguments in the form of \"Tuples\"\n",
      "while, **kwargs allows user to pass 'n' number of arungments in a function but it take aruguments in the form of dictionary\n",
      "\n"
     ]
    },
    {
     "data": {
      "text/plain": [
       "(1, 2, 3, 4)"
      ]
     },
     "execution_count": 62,
     "metadata": {},
     "output_type": "execute_result"
    }
   ],
   "source": [
    "# Ans2\n",
    "print('''\"*args\" allows user to pass 'n' number of arungements in function and it takes arguments in the form of \"Tuples\"\n",
    "while, **kwargs allows user to pass 'n' number of arungments in a function but it take aruguments in the form of dictionary\\n''')\n",
    "\n",
    "\n",
    "def test1(*args):\n",
    "    return args\n",
    "\n",
    "test1(1,2,3,4)\n",
    "\n",
    "\n"
   ]
  },
  {
   "cell_type": "code",
   "execution_count": 60,
   "id": "389398db-f00b-406d-b272-d2884fb9be5c",
   "metadata": {},
   "outputs": [
    {
     "data": {
      "text/plain": [
       "{'rahul': 'name', 'list': [1, 2, 3, 4]}"
      ]
     },
     "execution_count": 60,
     "metadata": {},
     "output_type": "execute_result"
    }
   ],
   "source": [
    "def test2(**kwargs):\n",
    "    return kwargs\n",
    "\n",
    "test2(rahul=\"name\", list=[1,2,3,4])"
   ]
  },
  {
   "cell_type": "code",
   "execution_count": 70,
   "id": "8179c9b8-082b-4402-953a-3e36e2bb919f",
   "metadata": {},
   "outputs": [
    {
     "name": "stdout",
     "output_type": "stream",
     "text": [
      "An iterator is an object that contains a sequence or countable values that can be traversed upon\n",
      "To create an object/class as an iterator you have to implement the methods __iter__() and __next__() to your object.\n",
      "2\n",
      "4\n",
      "6\n",
      "8\n",
      "10\n"
     ]
    }
   ],
   "source": [
    "# Ans3\n",
    "print(\"An iterator is an object that contains a sequence or countable values that can be traversed upon\")\n",
    "print(\"To create an object/class as an iterator you have to implement the methods __iter__() and __next__() to your object.\")\n",
    "list=[2,4,6,8,10,12,14,16,18,20]\n",
    "iter_obj=iter(list)\n",
    "print(next(iter_obj))\n",
    "print(next(iter_obj))\n",
    "print(next(iter_obj))\n",
    "print(next(iter_obj))\n",
    "print(next(iter_obj))"
   ]
  },
  {
   "cell_type": "code",
   "execution_count": 75,
   "id": "f926e1a7-d49d-47a7-b3c6-017397ffa538",
   "metadata": {},
   "outputs": [
    {
     "name": "stdout",
     "output_type": "stream",
     "text": [
      "Generator: a generator is a function that returns an iterator that produces a sequence of values when iterated over \n",
      "\n",
      "The yield statement returns a generator object to the one who calls the function which contains yield, instead of simply returning a value.\n",
      "<generator object gen at 0x7fd4a4520820>\n",
      "0\n",
      "1\n",
      "2\n",
      "3\n",
      "4\n",
      "5\n",
      "6\n",
      "7\n",
      "8\n",
      "9\n"
     ]
    }
   ],
   "source": [
    "# Ans4\n",
    "print(\"Generator: a generator is a function that returns an iterator that produces a sequence of values when iterated over \\n\")\n",
    "print(\"The yield statement returns a generator object to the one who calls the function which contains yield, instead of simply returning a value.\")\n",
    "def gen(n):\n",
    "    for i in range (n):\n",
    "        yield i\n",
    "print(gen(15))\n",
    "\n",
    "for i in gen(10):\n",
    "    print(i)"
   ]
  },
  {
   "cell_type": "code",
   "execution_count": 2,
   "id": "ceb38825-3737-4659-a4b3-a376dfeb3fc8",
   "metadata": {},
   "outputs": [],
   "source": [
    "# Ans5\n",
    "n=20\n",
    "def getPrimes(n):\n",
    "    i = 2\n",
    "    while i < n :\n",
    "        prime = True # reset the `prime` variable before the inner loop\n",
    "        for a in range(2, i):\n",
    "            if i%a == 0:\n",
    "                prime = False\n",
    "                break\n",
    "        if prime:    \n",
    "            yield i\n",
    "        i += 1 # don't forget to advance `i`"
   ]
  },
  {
   "cell_type": "code",
   "execution_count": 3,
   "id": "8a6c409b-602f-4aa0-8b0f-01a64f43838c",
   "metadata": {},
   "outputs": [
    {
     "data": {
      "text/plain": [
       "<generator object getPrimes at 0x7ff0dc202b90>"
      ]
     },
     "execution_count": 3,
     "metadata": {},
     "output_type": "execute_result"
    }
   ],
   "source": [
    "getPrimes(n)"
   ]
  },
  {
   "cell_type": "code",
   "execution_count": 4,
   "id": "beec675b-32f3-450b-a20a-d922cd57d473",
   "metadata": {},
   "outputs": [],
   "source": [
    "ob1=getPrimes(20)"
   ]
  },
  {
   "cell_type": "code",
   "execution_count": 5,
   "id": "8b0de4f3-dd4e-4eab-acd6-ef0df9f1b1d7",
   "metadata": {},
   "outputs": [
    {
     "name": "stdout",
     "output_type": "stream",
     "text": [
      "2\n",
      "3\n",
      "5\n",
      "7\n",
      "11\n",
      "13\n",
      "17\n",
      "19\n"
     ]
    }
   ],
   "source": [
    "print(next(ob1))\n",
    "print(next(ob1))\n",
    "print(next(ob1))\n",
    "print(next(ob1))\n",
    "print(next(ob1))\n",
    "print(next(ob1))\n",
    "print(next(ob1))\n",
    "print(next(ob1))"
   ]
  },
  {
   "cell_type": "code",
   "execution_count": 7,
   "id": "1a895ebc-4747-4aea-a799-0621b0cb77ae",
   "metadata": {},
   "outputs": [
    {
     "name": "stdin",
     "output_type": "stream",
     "text": [
      "enter range 10\n"
     ]
    },
    {
     "name": "stdout",
     "output_type": "stream",
     "text": [
      "0\n",
      "1\n",
      "1\n",
      "2\n",
      "3\n",
      "5\n",
      "8\n",
      "13\n",
      "21\n",
      "34\n"
     ]
    }
   ],
   "source": [
    "# Ans6\n",
    "i= int(input(\"enter range\"))\n",
    "a,b =0,1\n",
    "counter=0\n",
    "while counter < i:\n",
    "    print(a)\n",
    "    c=a+b\n",
    "    a=b\n",
    "    b=c\n",
    "    counter=counter+1"
   ]
  },
  {
   "cell_type": "code",
   "execution_count": 17,
   "id": "e44665d1-5436-4976-ab1d-cad4073d0a77",
   "metadata": {},
   "outputs": [
    {
     "data": {
      "text/plain": [
       "['p', 'w', 's', 'k', 'i', 'l', 'l', 's']"
      ]
     },
     "execution_count": 17,
     "metadata": {},
     "output_type": "execute_result"
    }
   ],
   "source": [
    "# Ans7\n",
    "a= \"pwskills\"\n",
    "[i for i in a]"
   ]
  },
  {
   "cell_type": "code",
   "execution_count": 22,
   "id": "f6f2b407-43e7-4045-8323-f24c4a08334e",
   "metadata": {},
   "outputs": [
    {
     "name": "stdin",
     "output_type": "stream",
     "text": [
      "please enter a number 12321\n"
     ]
    },
    {
     "name": "stdout",
     "output_type": "stream",
     "text": [
      "number is a palindrome\n"
     ]
    }
   ],
   "source": [
    "#Ans8\n",
    "i=int(input(\"please enter a number\"))\n",
    "temp=i\n",
    "rev=0\n",
    "\n",
    "while(i>0):\n",
    "    dig=i%10\n",
    "    rev=rev*10+dig\n",
    "    i =i//10\n",
    "\n",
    "if temp==rev:\n",
    "    print(\"number is a palindrome\")\n",
    "else:\n",
    "    print(\"number is not a palindrome\")"
   ]
  },
  {
   "cell_type": "code",
   "execution_count": 26,
   "id": "0569160c-e3e7-4d1e-b07a-0c88cab07b6c",
   "metadata": {},
   "outputs": [
    {
     "data": {
      "text/plain": [
       "[1,\n",
       " 2,\n",
       " 3,\n",
       " 4,\n",
       " 5,\n",
       " 6,\n",
       " 7,\n",
       " 8,\n",
       " 9,\n",
       " 10,\n",
       " 11,\n",
       " 12,\n",
       " 13,\n",
       " 14,\n",
       " 15,\n",
       " 16,\n",
       " 17,\n",
       " 18,\n",
       " 19,\n",
       " 20,\n",
       " 21,\n",
       " 22,\n",
       " 23,\n",
       " 24,\n",
       " 25,\n",
       " 26,\n",
       " 27,\n",
       " 28,\n",
       " 29,\n",
       " 30,\n",
       " 31,\n",
       " 32,\n",
       " 33,\n",
       " 34,\n",
       " 35,\n",
       " 36,\n",
       " 37,\n",
       " 38,\n",
       " 39,\n",
       " 40,\n",
       " 41,\n",
       " 42,\n",
       " 43,\n",
       " 44,\n",
       " 45,\n",
       " 46,\n",
       " 47,\n",
       " 48,\n",
       " 49,\n",
       " 50,\n",
       " 51,\n",
       " 52,\n",
       " 53,\n",
       " 54,\n",
       " 55,\n",
       " 56,\n",
       " 57,\n",
       " 58,\n",
       " 59,\n",
       " 60,\n",
       " 61,\n",
       " 62,\n",
       " 63,\n",
       " 64,\n",
       " 65,\n",
       " 66,\n",
       " 67,\n",
       " 68,\n",
       " 69,\n",
       " 70,\n",
       " 71,\n",
       " 72,\n",
       " 73,\n",
       " 74,\n",
       " 75,\n",
       " 76,\n",
       " 77,\n",
       " 78,\n",
       " 79,\n",
       " 80,\n",
       " 81,\n",
       " 82,\n",
       " 83,\n",
       " 84,\n",
       " 85,\n",
       " 86,\n",
       " 87,\n",
       " 88,\n",
       " 89,\n",
       " 90,\n",
       " 91,\n",
       " 92,\n",
       " 93,\n",
       " 94,\n",
       " 95,\n",
       " 96,\n",
       " 97,\n",
       " 98,\n",
       " 99,\n",
       " 100]"
      ]
     },
     "execution_count": 26,
     "metadata": {},
     "output_type": "execute_result"
    }
   ],
   "source": [
    "# Ans9\n",
    "[i for i in range(1,101)]"
   ]
  },
  {
   "cell_type": "code",
   "execution_count": null,
   "id": "1ecc00d5-3061-4bab-bf39-ac6b19929fa6",
   "metadata": {},
   "outputs": [],
   "source": []
  }
 ],
 "metadata": {
  "kernelspec": {
   "display_name": "Python 3 (ipykernel)",
   "language": "python",
   "name": "python3"
  },
  "language_info": {
   "codemirror_mode": {
    "name": "ipython",
    "version": 3
   },
   "file_extension": ".py",
   "mimetype": "text/x-python",
   "name": "python",
   "nbconvert_exporter": "python",
   "pygments_lexer": "ipython3",
   "version": "3.10.8"
  }
 },
 "nbformat": 4,
 "nbformat_minor": 5
}
