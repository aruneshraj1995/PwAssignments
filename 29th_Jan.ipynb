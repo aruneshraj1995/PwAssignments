{
 "cells": [
  {
   "cell_type": "code",
   "execution_count": 2,
   "id": "fba3c669-4757-4b5c-a7b0-2b83d3b6cd7f",
   "metadata": {},
   "outputs": [
    {
     "data": {
      "text/plain": [
       "'Q1. Guido Van Rossum developed Python Prog lang'"
      ]
     },
     "execution_count": 2,
     "metadata": {},
     "output_type": "execute_result"
    }
   ],
   "source": [
    "'Ans1. Guido Van Rossum developed Python Prog lang'"
   ]
  },
  {
   "cell_type": "code",
   "execution_count": 13,
   "id": "6b67efd3-a74b-48dc-ba00-7be00c5a7e7c",
   "metadata": {},
   "outputs": [
    {
     "data": {
      "text/plain": [
       "\"Q2. Python supports'object Oriented','procedure Oriented' &'functional programming' lang \""
      ]
     },
     "execution_count": 13,
     "metadata": {},
     "output_type": "execute_result"
    }
   ],
   "source": [
    "'''Ans2. Python supports'object Oriented','procedure Oriented' &'functional programming' lang '''"
   ]
  },
  {
   "cell_type": "code",
   "execution_count": 14,
   "id": "c740d381-0586-4b5b-b0e1-ed3aadb091c3",
   "metadata": {},
   "outputs": [
    {
     "data": {
      "text/plain": [
       "'Ans3. Yes, Python is case sensitive when dealing with identifiers'"
      ]
     },
     "execution_count": 14,
     "metadata": {},
     "output_type": "execute_result"
    }
   ],
   "source": [
    "'Ans3. Yes, Python is case sensitive when dealing with identifiers'"
   ]
  },
  {
   "cell_type": "code",
   "execution_count": 15,
   "id": "539c1f82-95f8-4d6a-a416-50302bba5e70",
   "metadata": {},
   "outputs": [
    {
     "data": {
      "text/plain": [
       "'Q4.Extension of python file is .py'"
      ]
     },
     "execution_count": 15,
     "metadata": {},
     "output_type": "execute_result"
    }
   ],
   "source": [
    "'Q4.Extension of python file is .py'"
   ]
  },
  {
   "cell_type": "code",
   "execution_count": 16,
   "id": "226a5791-88e5-4b9f-85cd-31672798e3d5",
   "metadata": {},
   "outputs": [
    {
     "data": {
      "text/plain": [
       "'Q5. python program is first compiled and then interpreted,The compilation part is done first when we execute our code and this will generate byte code and internally this byte code gets converted by the python virtual machine'"
      ]
     },
     "execution_count": 16,
     "metadata": {},
     "output_type": "execute_result"
    }
   ],
   "source": [
    "'Q5. python program is first compiled and then interpreted,The compilation part is done first when we execute our code and this will generate byte code and internally this byte code gets converted by the python virtual machine'"
   ]
  },
  {
   "cell_type": "code",
   "execution_count": 17,
   "id": "6396a866-ff2f-44e5-a89f-bab92141623c",
   "metadata": {},
   "outputs": [
    {
     "data": {
      "text/plain": [
       "'Ans6. Blocks of code are  module, a function body, and a class definition.'"
      ]
     },
     "execution_count": 17,
     "metadata": {},
     "output_type": "execute_result"
    }
   ],
   "source": [
    "'Ans6. Blocks of code are  module, a function body, and a class definition.'"
   ]
  },
  {
   "cell_type": "code",
   "execution_count": 18,
   "id": "33556c7a-7703-42d0-93c0-e33fa9b3ea42",
   "metadata": {},
   "outputs": [
    {
     "data": {
      "text/plain": [
       "\"Ans7. '#' is used to give single line comment\""
      ]
     },
     "execution_count": 18,
     "metadata": {},
     "output_type": "execute_result"
    }
   ],
   "source": [
    "\"Ans7. '#' is used to give single line comment\""
   ]
  },
  {
   "cell_type": "code",
   "execution_count": 22,
   "id": "e3ebc94a-d24a-4fc5-9e0b-7aea15668d54",
   "metadata": {},
   "outputs": [
    {
     "data": {
      "text/plain": [
       "\"Ans8. 'python_version() function & 'sys. version method'\""
      ]
     },
     "execution_count": 22,
     "metadata": {},
     "output_type": "execute_result"
    }
   ],
   "source": [
    "\"Ans8. 'python_version() function & 'sys. version method'\""
   ]
  },
  {
   "cell_type": "code",
   "execution_count": 24,
   "id": "d23586f5-1a31-4c11-b327-434de27d3476",
   "metadata": {},
   "outputs": [
    {
     "data": {
      "text/plain": [
       "'Ans8. Lambda'"
      ]
     },
     "execution_count": 24,
     "metadata": {},
     "output_type": "execute_result"
    }
   ],
   "source": [
    "'Ans9. Lambda'"
   ]
  },
  {
   "cell_type": "code",
   "execution_count": 25,
   "id": "01c80552-332b-42d3-8d53-c839850c46ff",
   "metadata": {},
   "outputs": [
    {
     "data": {
      "text/plain": [
       "'Ans9.pip stands for Preferred Instller Program, which is use to install diff packages or module in python'"
      ]
     },
     "execution_count": 25,
     "metadata": {},
     "output_type": "execute_result"
    }
   ],
   "source": [
    "'Ans10.pip stands for Preferred Instller Program, which is use to install diff packages or module in python'"
   ]
  },
  {
   "cell_type": "code",
   "execution_count": 30,
   "id": "1a7b1ba4-a12f-4d18-8110-cbf768d977be",
   "metadata": {},
   "outputs": [
    {
     "data": {
      "text/plain": [
       "'Ans11. built in functions are print(),dict(),bool(),input(),int() etc. '"
      ]
     },
     "execution_count": 30,
     "metadata": {},
     "output_type": "execute_result"
    }
   ],
   "source": [
    "'''Ans11. built in functions are print(),dict(),bool(),input(),int() etc. '''"
   ]
  },
  {
   "cell_type": "code",
   "execution_count": 32,
   "id": "25b26d42-bdb8-4e38-bc38-f07e50e5f115",
   "metadata": {},
   "outputs": [
    {
     "data": {
      "text/plain": [
       "'Ans12. An identifier can have a maximum length of 79 characters in Python'"
      ]
     },
     "execution_count": 32,
     "metadata": {},
     "output_type": "execute_result"
    }
   ],
   "source": [
    "'Ans12. An identifier can have a maximum length of 79 characters in Python'"
   ]
  },
  {
   "cell_type": "code",
   "execution_count": 33,
   "id": "a322ddb3-6021-4b98-8262-2af99d0bcec2",
   "metadata": {},
   "outputs": [
    {
     "data": {
      "text/plain": [
       "'Ans13. We can use python in various fileds like, Data Analysis Or Data Sci, Web Development, Finance, Testing, Game Development'"
      ]
     },
     "execution_count": 33,
     "metadata": {},
     "output_type": "execute_result"
    }
   ],
   "source": [
    "'Ans13. We can use python in various fileds like, Data Analysis Or Data Sci, Web Development, Finance, Testing, Game Development' "
   ]
  },
  {
   "cell_type": "code",
   "execution_count": 34,
   "id": "5caf9f95-d8e3-4a83-831f-94834db758d3",
   "metadata": {},
   "outputs": [
    {
     "data": {
      "text/plain": [
       "\"Ans14.Memory in Python is managed by Python private heap space. All Python objects and data structures are located in a private heap. This private heap is taken care of by Python Interpreter itself, and a programmer doesn't have access to this private heap\""
      ]
     },
     "execution_count": 34,
     "metadata": {},
     "output_type": "execute_result"
    }
   ],
   "source": [
    "\"Ans14.Memory in Python is managed by Python private heap space. All Python objects and data structures are located in a private heap. This private heap is taken care of by Python Interpreter itself, and a programmer doesn't have access to this private heap\" "
   ]
  },
  {
   "cell_type": "code",
   "execution_count": 35,
   "id": "740f268f-e908-4bd2-9966-fd7e56f2a813",
   "metadata": {},
   "outputs": [
    {
     "data": {
      "text/plain": [
       "'Ans15.you must visit python.org and follow the instruction to dowload python. Now to setup Path The first step is to locate the directory in which your target Python executable lives,To find the Python executable, you’ll need to look for a file called python.exe. Once you’ve found the executable, make sure it works by double-clicking it and verifying that it starts up a Python REPL in a new window.Once you’ve located your Python executable, open the Start menu and search for the Edit the system environment variables entry, which opens up a System Properties window. In the Advanced tab, click on the button Environment Variables. There you’ll see User and System variables, which you’ll be able to edit:In the section entitled User Variables, double-click on the entry that says Path. Another window will pop up showing a list of paths. Click the New button and paste the path to your Python executable there. Once that’s inserted, select your newly added path and click the Move Up button until it’s at the top.'"
      ]
     },
     "execution_count": 35,
     "metadata": {},
     "output_type": "execute_result"
    }
   ],
   "source": [
    "\"Ans15.you must visit python.org and follow the instruction to dowload python. Now to setup Path The first step is to locate the directory in which your target Python executable lives,To find the Python executable, you’ll need to look for a file called python.exe. Once you’ve found the executable, make sure it works by double-clicking it and verifying that it starts up a Python REPL in a new window.Once you’ve located your Python executable, open the Start menu and search for the Edit the system environment variables entry, which opens up a System Properties window. In the Advanced tab, click on the button Environment Variables. There you’ll see User and System variables, which you’ll be able to edit:In the section entitled User Variables, double-click on the entry that says Path. Another window will pop up showing a list of paths. Click the New button and paste the path to your Python executable there. Once that’s inserted, select your newly added path and click the Move Up button until it’s at the top.\""
   ]
  },
  {
   "cell_type": "code",
   "execution_count": 36,
   "id": "6741515c-9bf4-4658-b0e9-314643309533",
   "metadata": {},
   "outputs": [
    {
     "data": {
      "text/plain": [
       "'Ans16.Yes,Indentation is must in python'"
      ]
     },
     "execution_count": 36,
     "metadata": {},
     "output_type": "execute_result"
    }
   ],
   "source": [
    "\"Ans16.Yes,Indentation is must in python\""
   ]
  },
  {
   "cell_type": "code",
   "execution_count": null,
   "id": "1e2f572d-65e2-45a7-92df-7ca7a5912cf2",
   "metadata": {},
   "outputs": [],
   "source": []
  }
 ],
 "metadata": {
  "kernelspec": {
   "display_name": "Python 3 (ipykernel)",
   "language": "python",
   "name": "python3"
  },
  "language_info": {
   "codemirror_mode": {
    "name": "ipython",
    "version": 3
   },
   "file_extension": ".py",
   "mimetype": "text/x-python",
   "name": "python",
   "nbconvert_exporter": "python",
   "pygments_lexer": "ipython3",
   "version": "3.10.8"
  }
 },
 "nbformat": 4,
 "nbformat_minor": 5
}
