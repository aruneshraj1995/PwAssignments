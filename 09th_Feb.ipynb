{
 "cells": [
  {
   "cell_type": "code",
   "execution_count": 1,
   "id": "d67259ac-c7e3-4e7b-984a-205923dd868b",
   "metadata": {},
   "outputs": [],
   "source": [
    "# Ans1\n",
    "class vehicle:\n",
    "    \n",
    "    def __init__(self,name_of_vehicle, max_speed, average_of_vehicle):\n",
    "        self.name_of_vehicle=name_of_vehicle\n",
    "        self.max_speed=max_speed\n",
    "        self.average_of_vehicle=average_of_vehicle"
   ]
  },
  {
   "cell_type": "code",
   "execution_count": 6,
   "id": "5b513cc3-1014-446f-922e-789aeee23ad8",
   "metadata": {},
   "outputs": [],
   "source": [
    "v=vehicle(\"audi\", 25, 30)"
   ]
  },
  {
   "cell_type": "code",
   "execution_count": 20,
   "id": "da35aa70-7a28-4d50-b83d-2a1ea5be785f",
   "metadata": {},
   "outputs": [],
   "source": [
    "# Asn2\n",
    "class vehicle:\n",
    "    \n",
    "    def __init__(self,name_of_vehicle, max_speed, average_of_vehicle):\n",
    "        self.name_of_vehicle=name_of_vehicle\n",
    "        self.max_speed=max_speed\n",
    "        self.average_of_vehicle=average_of_vehicle\n",
    "    def seating_capacity(self, capacity):\n",
    "        return f\"The Seating capacity of a {self.name_of_vehicle} is {capacity} passengers\"\n",
    "    \n",
    "class car(vehicle):\n",
    "    def seating_capacity(self, capacity):\n",
    "        return super().seating_capacity(capacity)\n",
    "    "
   ]
  },
  {
   "cell_type": "code",
   "execution_count": 24,
   "id": "9cd411f9-f473-4336-9a84-08588bf94549",
   "metadata": {},
   "outputs": [],
   "source": [
    "T=car(\"audi\", 180, 12)"
   ]
  },
  {
   "cell_type": "code",
   "execution_count": 25,
   "id": "358f3089-15dc-43cc-a19b-97c7d2b86e6b",
   "metadata": {},
   "outputs": [
    {
     "data": {
      "text/plain": [
       "'The Seating capacity of a audi is 5 passengers'"
      ]
     },
     "execution_count": 25,
     "metadata": {},
     "output_type": "execute_result"
    }
   ],
   "source": [
    "T.seating_capacity(5)"
   ]
  },
  {
   "cell_type": "code",
   "execution_count": 31,
   "id": "8417d2c3-8eff-4551-a9c6-feb26f2f4f62",
   "metadata": {},
   "outputs": [
    {
     "name": "stdout",
     "output_type": "stream",
     "text": [
      "\n",
      "\n",
      "Multiple Inheritance: A class can be derived from more than one superclass in Python. This is called multiple inheritance. \n",
      "\n"
     ]
    },
    {
     "data": {
      "text/plain": [
       "'this is my first parent class'"
      ]
     },
     "execution_count": 31,
     "metadata": {},
     "output_type": "execute_result"
    }
   ],
   "source": [
    "# Ans3\n",
    "print('''\n",
    "\n",
    "Multiple Inheritance: A class can be derived from more than one superclass in Python. This is called multiple inheritance. \n",
    "''')\n",
    "\n",
    "class parent:\n",
    "    def test_class(self):\n",
    "        return \"this is my first parent class\"\n",
    "class parent2(parent):\n",
    "    def test_class2(self):\n",
    "        return \"this is my second parent class which inehrit prop of class 1\"\n",
    "class parent3(parent2):\n",
    "    def test_class3(self):\n",
    "        return \"this is my third parent class which inherit prop of class 2\"\n",
    "    \n",
    "obj_parent3= parent3()\n",
    "obj_parent3.test_class()"
   ]
  },
  {
   "cell_type": "code",
   "execution_count": 37,
   "id": "36f7f47c-abaf-4836-952c-5000e367dd0e",
   "metadata": {},
   "outputs": [
    {
     "name": "stdout",
     "output_type": "stream",
     "text": [
      "\n",
      "\n",
      "the main purpose of using getters and setters in object-oriented programs is to ensure data encapsulation,\n",
      "Getters and Setters in python are often used when:\n",
      "\n",
      "We use getters & setters to add validation logic around getting and setting a value.\n",
      "To avoid direct access of a class field i.e. private variables cannot be accessed directly or modified by external user.\n",
      "\n",
      "setter method called\n",
      "getter method called\n",
      "50\n"
     ]
    }
   ],
   "source": [
    "# Ans4\n",
    "print('''\n",
    "\n",
    "the main purpose of using getters and setters in object-oriented programs is to ensure data encapsulation,\n",
    "Getters and Setters in python are often used when:\n",
    "\n",
    "We use getters & setters to add validation logic around getting and setting a value.\n",
    "To avoid direct access of a class field i.e. private variables cannot be accessed directly or modified by external user.\n",
    "''')\n",
    "\n",
    "class vehicle:\n",
    "    def __init__(self):\n",
    "        self._speed=0\n",
    "    def get_speed(self):\n",
    "        print(\"getter method called\")\n",
    "        return self._speed\n",
    "    def set_speed(self, a):\n",
    "        print(\"setter method called\")\n",
    "        self._speed=a\n",
    "        \n",
    "    speed=property(get_speed, set_speed)\n",
    "    \n",
    "s=vehicle()\n",
    "s.speed=50\n",
    "print(s.speed)"
   ]
  },
  {
   "cell_type": "code",
   "execution_count": 39,
   "id": "2e569ff2-d556-4d34-93b2-59b8413447f6",
   "metadata": {},
   "outputs": [
    {
     "name": "stdout",
     "output_type": "stream",
     "text": [
      "\n",
      "Method overriding is an ability of any object-oriented programming language that allows a subclass or child class to provide a specific implementation of a method that is already provided by one of its super-classes or parent classes. When a method in a subclass has the same name, same parameters or signature and same return type(or sub-type) as a method in its super-class, then the method in the subclass is said to override the method in the super-class.\n",
      "\n",
      "Inside Parent\n",
      "Inside Child\n"
     ]
    }
   ],
   "source": [
    "# Ans5\n",
    "print('''\n",
    "Method overriding is an ability of any object-oriented programming language that allows a subclass or child class to provide a specific implementation of a method that is already provided by one of its super-classes or parent classes. When a method in a subclass has the same name, same parameters or signature and same return type(or sub-type) as a method in its super-class, then the method in the subclass is said to override the method in the super-class.\n",
    "''')\n",
    "class Parent():\n",
    "    def __init__(self):\n",
    "        self.value = \"Inside Parent\"\n",
    "          \n",
    "    \n",
    "    def show(self):\n",
    "        print(self.value)\n",
    "          \n",
    "\n",
    "class Child(Parent):\n",
    "      \n",
    "    \n",
    "    def __init__(self):\n",
    "        self.value = \"Inside Child\"\n",
    "          \n",
    "    \n",
    "    def show(self):\n",
    "        print(self.value)\n",
    "          \n",
    "          \n",
    "\n",
    "    \n",
    "obj1 = Parent()\n",
    "obj2 = Child()\n",
    "  \n",
    "obj1.show()\n",
    "obj2.show()\n"
   ]
  },
  {
   "cell_type": "code",
   "execution_count": null,
   "id": "368f7967-1337-485c-a448-f0a13b344985",
   "metadata": {},
   "outputs": [],
   "source": []
  }
 ],
 "metadata": {
  "kernelspec": {
   "display_name": "Python 3 (ipykernel)",
   "language": "python",
   "name": "python3"
  },
  "language_info": {
   "codemirror_mode": {
    "name": "ipython",
    "version": 3
   },
   "file_extension": ".py",
   "mimetype": "text/x-python",
   "name": "python",
   "nbconvert_exporter": "python",
   "pygments_lexer": "ipython3",
   "version": "3.10.8"
  }
 },
 "nbformat": 4,
 "nbformat_minor": 5
}
