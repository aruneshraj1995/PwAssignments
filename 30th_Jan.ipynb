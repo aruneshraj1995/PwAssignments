{
 "cells": [
  {
   "cell_type": "code",
   "execution_count": null,
   "id": "a250c002-7090-4319-9d6e-6cfdbad1e96e",
   "metadata": {},
   "outputs": [],
   "source": [
    "# Ans1 \n",
    "a=int(input(\"please enter your percentage\"))\n",
    "if a>90:\n",
    "    print(\"Your Grade is 'A'\")\n",
    "elif a>80 and a<=90:\n",
    "    print(\"Your Grade is 'B'\")\n",
    "elif a>=60 and a<=80:\n",
    "    print(\"Your Grade is 'C'\")\n",
    "else:\n",
    "    print(\"Your Grade is 'D'\")"
   ]
  },
  {
   "cell_type": "code",
   "execution_count": 21,
   "id": "aa1fa956-f03e-4066-8654-7fe65ee29426",
   "metadata": {},
   "outputs": [
    {
     "name": "stdin",
     "output_type": "stream",
     "text": [
      "please enter Cost Price of your Bike 50000\n"
     ]
    },
    {
     "name": "stdout",
     "output_type": "stream",
     "text": [
      "you have to pay 5% Tax i.e., Rs. 2500\n"
     ]
    }
   ],
   "source": [
    "# Ans2\n",
    "a=int(input(\"please enter Cost Price of your Bike\"))\n",
    "if a>100000:\n",
    "    print(\"you have to pay 15% Tax i.e. Rs.\", int(15/100*a))\n",
    "elif a>50000 and a<=100000:\n",
    "    print(\"you have to pay 10% Tax i.e., Rs.\", int(10/100*a))\n",
    "else:\n",
    "    print(\"you have to pay 5% Tax i.e., Rs.\", int(5/100*a))"
   ]
  },
  {
   "cell_type": "code",
   "execution_count": null,
   "id": "65e17e4c-f96f-490b-abdb-c4a325927950",
   "metadata": {},
   "outputs": [],
   "source": []
  },
  {
   "cell_type": "code",
   "execution_count": 31,
   "id": "f62712e0-4565-47c9-ae56-ba0afebafad6",
   "metadata": {},
   "outputs": [
    {
     "name": "stdin",
     "output_type": "stream",
     "text": [
      "Please enter city Name: Agra\n"
     ]
    },
    {
     "name": "stdout",
     "output_type": "stream",
     "text": [
      "your monumnet is: Taj Mahal\n"
     ]
    }
   ],
   "source": [
    "# Ans3\n",
    "city={\"Delhi\":\"Red Fort\", \"Agra\":\"Taj Mahal\", \"Jaipur\":\"Jal Mahal\"}\n",
    "a=input(\"Please enter city Name:\")\n",
    "if a in city:\n",
    "    print(\"your monumnet is:\", city[a])\n",
    "else:\n",
    "    print(\"Entered City is not Present, Please try Again !\")"
   ]
  },
  {
   "cell_type": "code",
   "execution_count": 1,
   "id": "a1d91b92-9cee-4eda-aa49-ce8c66500b7d",
   "metadata": {},
   "outputs": [],
   "source": [
    "# Ans4\n",
    "# didnt understand the problem \n",
    "    "
   ]
  },
  {
   "cell_type": "code",
   "execution_count": 3,
   "id": "1bbc85e3-5117-4c8b-b9df-efcbf4b0a7b8",
   "metadata": {},
   "outputs": [
    {
     "name": "stdout",
     "output_type": "stream",
     "text": [
      "1\n",
      "2\n",
      "3\n",
      "4\n",
      "5\n",
      "6\n",
      "7\n",
      "8\n",
      "9\n",
      "10\n"
     ]
    }
   ],
   "source": [
    "# Ans5\n",
    "\"Python while loop is used to run a block code until a certain condition is met. Here, A while loop evaluates the condition. If the condition evaluates to True , the code inside the while loop is executed.\"\n",
    "# Example\n",
    "i=1\n",
    "while i<=10:\n",
    "    print(i)\n",
    "    i=i+1\n"
   ]
  },
  {
   "cell_type": "code",
   "execution_count": 2,
   "id": "2849ad98-5743-473b-aad7-54a1a45da56a",
   "metadata": {},
   "outputs": [
    {
     "name": "stdout",
     "output_type": "stream",
     "text": [
      "1 \n",
      "1 2 \n",
      "1 2 3 \n",
      "1 2 3 4 \n",
      "1 2 3 4 5 \n"
     ]
    }
   ],
   "source": [
    "# Ans6\n",
    "i = 1\n",
    "while i <= 5:\n",
    "    j = 1\n",
    "    while j <= i:\n",
    "        print(j, end = \" \")\n",
    "        j=j+ 1\n",
    "    print()\n",
    "    i= i+1"
   ]
  },
  {
   "cell_type": "code",
   "execution_count": 1,
   "id": "11e6941b-22ad-4936-83f9-ee8a425ba530",
   "metadata": {},
   "outputs": [
    {
     "name": "stdout",
     "output_type": "stream",
     "text": [
      "5 4 3 2 1 \n",
      "5 4 3 2 \n",
      "5 4 3 \n",
      "5 4 \n",
      "5 \n"
     ]
    }
   ],
   "source": [
    "# Ans6\n",
    "i = 1\n",
    "while i <= 5:\n",
    "    j = 5\n",
    "    while j >= i:\n",
    "        print(j, end = \" \")\n",
    "        j=j- 1\n",
    "    print()\n",
    "    i= i+1"
   ]
  },
  {
   "cell_type": "code",
   "execution_count": 2,
   "id": "e2a5d26e-0538-4aba-8283-64ebe549f3d8",
   "metadata": {},
   "outputs": [
    {
     "name": "stdout",
     "output_type": "stream",
     "text": [
      "1 \n",
      "1 2 \n",
      "1 2 3 \n",
      "1 2 3 4 \n",
      "1 2 3 4 5 \n",
      "5 4 3 2 1 \n",
      "5 4 3 2 \n",
      "5 4 3 \n",
      "5 4 \n",
      "5 \n"
     ]
    }
   ],
   "source": [
    "# Ans6\n",
    "i = 1\n",
    "while i <= 5:\n",
    "    j = 1\n",
    "    while j <= i:\n",
    "        print(j, end = \" \")\n",
    "        j=j+ 1\n",
    "    print()\n",
    "    i= i+1\n",
    "    \n",
    "i = 1\n",
    "while i <= 5:\n",
    "    j = 5\n",
    "    while j >= i:\n",
    "        print(j, end = \" \")\n",
    "        j=j- 1\n",
    "    print()\n",
    "    i= i+1"
   ]
  },
  {
   "cell_type": "code",
   "execution_count": 15,
   "id": "0a6f307a-874e-4d70-bbd8-20cb5de47e17",
   "metadata": {},
   "outputs": [
    {
     "name": "stdout",
     "output_type": "stream",
     "text": [
      "10\n",
      "9\n",
      "8\n",
      "7\n",
      "6\n",
      "5\n",
      "4\n",
      "3\n",
      "2\n",
      "1\n"
     ]
    }
   ],
   "source": [
    "# Ans7\n",
    "i=10\n",
    "while i>=1:\n",
    "    print(i)\n",
    "    i=i-1"
   ]
  },
  {
   "cell_type": "code",
   "execution_count": null,
   "id": "c87e451f-6fd5-487e-b8d4-3ff9ccaf768b",
   "metadata": {},
   "outputs": [],
   "source": [
    "# Ans8\n",
    "i=10\n",
    "while i>=1:\n",
    "    print(i)\n",
    "    i=i-1"
   ]
  }
 ],
 "metadata": {
  "kernelspec": {
   "display_name": "Python 3 (ipykernel)",
   "language": "python",
   "name": "python3"
  },
  "language_info": {
   "codemirror_mode": {
    "name": "ipython",
    "version": 3
   },
   "file_extension": ".py",
   "mimetype": "text/x-python",
   "name": "python",
   "nbconvert_exporter": "python",
   "pygments_lexer": "ipython3",
   "version": "3.10.8"
  }
 },
 "nbformat": 4,
 "nbformat_minor": 5
}
