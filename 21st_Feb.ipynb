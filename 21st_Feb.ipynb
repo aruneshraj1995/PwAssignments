{
 "cells": [
  {
   "cell_type": "code",
   "execution_count": 5,
   "id": "552c8cc7-547f-4225-a3aa-82efeaededd0",
   "metadata": {},
   "outputs": [
    {
     "name": "stdout",
     "output_type": "stream",
     "text": [
      "Ans 1\n",
      "\n",
      "Web Scrapping: Web scraping is data scraping method used for extracting data from websites. Web scraping software may directly access the World Wide Web using the Hypertext Transfer Protocol or a web browser.\n",
      "\n",
      "Areas where we can use Web Scrapping are:\n",
      "1 Monitoring e-commerce prices\n",
      "2 Analyzing social media web data\n",
      "3 Monitoring news sources\n"
     ]
    }
   ],
   "source": [
    "print(\"Ans 1\\n\")\n",
    "print(\"Web Scrapping: Web scraping is data scraping method used for extracting data from websites. Web scraping software may directly access the World Wide Web using the Hypertext Transfer Protocol or a web browser.\\n\")\n",
    "print('''Areas where we can use Web Scrapping are:\n",
    "1 Monitoring e-commerce prices\n",
    "2 Analyzing social media web data\n",
    "3 Monitoring news sources''')"
   ]
  },
  {
   "cell_type": "code",
   "execution_count": 7,
   "id": "e36f98ec-b27b-4f6f-9be8-c3b8e9f21805",
   "metadata": {},
   "outputs": [
    {
     "name": "stdout",
     "output_type": "stream",
     "text": [
      "Ans 2\n",
      "\n",
      "There are Two Type of Scrapping Methods\n",
      "1: Manual Scrapping: Copy paste\n",
      "2: Automted Scrapping: HTML Parsing & DOM Parsing\n"
     ]
    }
   ],
   "source": [
    "print(\"Ans 2\\n\")\n",
    "print('''There are Two Type of Scrapping Methods\n",
    "1: Manual Scrapping: Copy paste\n",
    "2: Automted Scrapping: HTML Parsing & DOM Parsing''')"
   ]
  },
  {
   "cell_type": "code",
   "execution_count": 9,
   "id": "9fac58b2-8173-4892-9906-afcfb237d330",
   "metadata": {},
   "outputs": [
    {
     "name": "stdout",
     "output_type": "stream",
     "text": [
      "Ans 3\n",
      "\n",
      "Beautiful soup: Beautiful Soup is a Python package for parsing HTML and XML documents. It creates a parse tree for parsed pages that can be used to extract data from HTML, which is useful for web scraping\n"
     ]
    }
   ],
   "source": [
    "print(\"Ans 3\\n\")\n",
    "print(\"Beautiful soup: Beautiful Soup is a Python package for parsing HTML and XML documents. It creates a parse tree for parsed pages that can be used to extract data from HTML, which is useful for web scraping\")"
   ]
  },
  {
   "cell_type": "code",
   "execution_count": 10,
   "id": "3a1bd17e-b463-4ecb-9a7b-bedddc13b276",
   "metadata": {},
   "outputs": [
    {
     "name": "stdout",
     "output_type": "stream",
     "text": [
      "Ans 4\n",
      "\n",
      "Flask is a lightweight framework to build websites. We'll use this to parse our collected data and display it as HTML in a new HTML file\n"
     ]
    }
   ],
   "source": [
    "print(\"Ans 4\\n\")\n",
    "print(\"Flask is a lightweight framework to build websites. We'll use this to parse our collected data and display it as HTML in a new HTML file\")"
   ]
  },
  {
   "cell_type": "code",
   "execution_count": 16,
   "id": "4533a449-e686-402b-a4ba-0f7a6de64e6c",
   "metadata": {},
   "outputs": [
    {
     "name": "stdout",
     "output_type": "stream",
     "text": [
      "Ans 5\n",
      "\n",
      "AWS Services used in this project are 'CODE PIPELINE' & 'BEANSTACK'\n",
      "\n",
      "'code pipeline act as a mediator in between gethub repository and beanstack, it connects with github repository to get the source file'\n",
      "\n",
      "'Beanstack stack used to create an application and run the source code'\n"
     ]
    }
   ],
   "source": [
    "print(\"Ans 5\\n\")\n",
    "print(\"AWS Services used in this project are 'CODE PIPELINE' & 'BEANSTACK'\\n\")\n",
    "print(\"'code pipeline act as a mediator in between gethub repository and beanstack, it connects with github repository to get the source file'\\n\")\n",
    "print(\"'Beanstack stack used to create an application and run the source code'\")"
   ]
  },
  {
   "cell_type": "code",
   "execution_count": null,
   "id": "126e64e8-7081-46c4-97e6-feab0e0f5b5f",
   "metadata": {},
   "outputs": [],
   "source": []
  }
 ],
 "metadata": {
  "kernelspec": {
   "display_name": "Python 3 (ipykernel)",
   "language": "python",
   "name": "python3"
  },
  "language_info": {
   "codemirror_mode": {
    "name": "ipython",
    "version": 3
   },
   "file_extension": ".py",
   "mimetype": "text/x-python",
   "name": "python",
   "nbconvert_exporter": "python",
   "pygments_lexer": "ipython3",
   "version": "3.10.8"
  }
 },
 "nbformat": 4,
 "nbformat_minor": 5
}
