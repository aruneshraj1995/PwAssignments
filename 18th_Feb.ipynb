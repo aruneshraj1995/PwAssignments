{
 "cells": [
  {
   "cell_type": "code",
   "execution_count": 2,
   "id": "a962a0a5-976a-4116-ae0c-24d278bb5af7",
   "metadata": {},
   "outputs": [
    {
     "name": "stdout",
     "output_type": "stream",
     "text": [
      "Ans1.An application programming interface is a way for two or more computer programs to communicate with each other. It is a type of software interface, offering a service to other pieces of software. Examples which uses API are Google Pay, IRCTC, internet banking, Google etc.\n"
     ]
    }
   ],
   "source": [
    "print(\"Ans1.An application programming interface is a way for two or more computer programs to communicate with each other. It is a type of software interface, offering a service to other pieces of software. Examples which uses API are Google Pay, IRCTC, internet banking, Google etc.\")"
   ]
  },
  {
   "cell_type": "code",
   "execution_count": 10,
   "id": "8a5d8a58-e31e-4272-8110-6e49659e565e",
   "metadata": {},
   "outputs": [
    {
     "name": "stdout",
     "output_type": "stream",
     "text": [
      "Ans2\n",
      "one of the main advantage of API is 'APIs are used to integrate new applications with existing software systems. This increases development speed because each functionality doesn't have to be written from scratch. You can use APIs to leverage existing code.'\n",
      "Disadvantage:\n",
      "1.Creating API is a very time-consuming process\n",
      "2 Maintenance cost is very high\n",
      "\n"
     ]
    }
   ],
   "source": [
    "print(\"Ans2\")\n",
    "print(\"one of the main advantage of API is 'APIs are used to integrate new applications with existing software systems. This increases development speed because each functionality doesn't have to be written from scratch. You can use APIs to leverage existing code.'\")\n",
    "print('''Disadvantage:\n",
    "1.Creating API is a very time-consuming process\n",
    "2 Maintenance cost is very high\n",
    "''')"
   ]
  },
  {
   "cell_type": "code",
   "execution_count": 11,
   "id": "d1f037d0-2eea-483d-93b9-5c810dc5c3df",
   "metadata": {},
   "outputs": [
    {
     "name": "stdout",
     "output_type": "stream",
     "text": [
      "Ans3\n",
      "Web Api:\n",
      "A Web API is an application programming interface for the Web.\n",
      "\n",
      "Web Api is the subset of API\n",
      "\n"
     ]
    }
   ],
   "source": [
    "print(\"Ans3\")\n",
    "print('''Web Api:\n",
    "A Web API is an application programming interface for the Web.\n",
    "\n",
    "Web Api is the subset of API\n",
    "''')"
   ]
  },
  {
   "cell_type": "code",
   "execution_count": 15,
   "id": "0ec8dc02-c4d4-4915-afff-b7604f18bc62",
   "metadata": {},
   "outputs": [
    {
     "name": "stdout",
     "output_type": "stream",
     "text": [
      "Ans4\n",
      "REST architecture is used for web based API in which we use HTTP Protocol to update, transfer and delete data. This architecture is designed to do communication over web\n",
      "SOAP architecture is a messaging protocol specification for exchanging structured information in the implementation of web services in computer networks, it follows XML Based messaging protocol\n"
     ]
    }
   ],
   "source": [
    "print(\"Ans4\")\n",
    "print(\"REST architecture is used for web based API in which we use HTTP Protocol to update, transfer and delete data. This architecture is designed to do communication over web\")\n",
    "print(\"SOAP architecture is a messaging protocol specification for exchanging structured information in the implementation of web services in computer networks, it follows XML Based messaging protocol\")"
   ]
  },
  {
   "cell_type": "code",
   "execution_count": 19,
   "id": "389db4eb-4f8c-4ba6-b9b8-215bf1a53f35",
   "metadata": {},
   "outputs": [
    {
     "name": "stdout",
     "output_type": "stream",
     "text": [
      "Ans5\n",
      "\n",
      "SOAP:1. Transports data in standard XML format.\n",
      "2.Because it is XML based and relies on SOAP, it works with WSDL\n",
      "3.Works over HTTP, HTTPS, SMTP, XMPP\n",
      "4.Highly structured/typed\n",
      "\n",
      "REST:1.transports data in JSON\n",
      "2.It works with GET, POST, PUT, DELETE\n",
      "3.Works over HTTP and HTTPS\n",
      "4.Less structured -> less bulky data\n"
     ]
    }
   ],
   "source": [
    "print(\"Ans5\\n\")\n",
    "print('''SOAP:1. Transports data in standard XML format.\n",
    "2.Because it is XML based and relies on SOAP, it works with WSDL\n",
    "3.Works over HTTP, HTTPS, SMTP, XMPP\n",
    "4.Highly structured/typed\\n''')\n",
    "print('''REST:1.transports data in JSON\n",
    "2.It works with GET, POST, PUT, DELETE\n",
    "3.Works over HTTP and HTTPS\n",
    "4.Less structured -> less bulky data''')"
   ]
  },
  {
   "cell_type": "code",
   "execution_count": null,
   "id": "1ec60542-8159-484b-ae73-c37e89106719",
   "metadata": {},
   "outputs": [],
   "source": []
  }
 ],
 "metadata": {
  "kernelspec": {
   "display_name": "Python 3 (ipykernel)",
   "language": "python",
   "name": "python3"
  },
  "language_info": {
   "codemirror_mode": {
    "name": "ipython",
    "version": 3
   },
   "file_extension": ".py",
   "mimetype": "text/x-python",
   "name": "python",
   "nbconvert_exporter": "python",
   "pygments_lexer": "ipython3",
   "version": "3.10.8"
  }
 },
 "nbformat": 4,
 "nbformat_minor": 5
}
